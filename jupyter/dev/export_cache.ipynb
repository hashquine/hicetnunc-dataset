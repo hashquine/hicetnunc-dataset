{
 "cells": [
  {
   "cell_type": "code",
   "execution_count": 1,
   "metadata": {},
   "outputs": [],
   "source": [
    "%run -i ../../src/reload.py\n",
    "import src\n",
    "import config"
   ]
  },
  {
   "cell_type": "code",
   "execution_count": 25,
   "metadata": {},
   "outputs": [],
   "source": [
    "import shutil\n",
    "from tqdm import tqdm"
   ]
  },
  {
   "cell_type": "code",
   "execution_count": 7,
   "metadata": {},
   "outputs": [],
   "source": [
    "addrs_ds = src.utils.read_json(config.dataset_dir / 'addrs.json')\n",
    "tokens_ds = src.utils.read_json(config.dataset_dir / 'tokens.json')"
   ]
  },
  {
   "cell_type": "code",
   "execution_count": 12,
   "metadata": {},
   "outputs": [],
   "source": [
    "ecd = config.export_cache_dir\n",
    "ecd.mkdir(exist_ok=True)\n",
    "(ecd / 'accounts_metadata').mkdir(exist_ok=True)\n",
    "(ecd / 'accounts_metadata' / 'logos').mkdir(exist_ok=True)\n",
    "(ecd / 'ipfs0').mkdir(exist_ok=True)\n",
    "(ecd / 'previews').mkdir(exist_ok=True)\n",
    "(ecd / 'previews' / 'thumbs_256x256').mkdir(exist_ok=True)\n",
    "(ecd / 'transactions' / config.transactions_dir.name).mkdir(exist_ok=True, parents=True)"
   ]
  },
  {
   "cell_type": "code",
   "execution_count": null,
   "metadata": {},
   "outputs": [],
   "source": [
    "print('Copying logos...')\n",
    "\n",
    "for addr_ds_entry in tqdm(addrs_ds.values()):\n",
    "    if addr_ds_entry['ban_status'] != '':\n",
    "        continue\n",
    "    logo_file = config.tzktio_accounts_logos_dir / (addr_ds_entry['address'] + '.png')\n",
    "    if logo_file.exists():\n",
    "        shutil.copy(logo_file, ecd / 'accounts_metadata' / 'logos' / logo_file.name)"
   ]
  },
  {
   "cell_type": "code",
   "execution_count": 33,
   "metadata": {},
   "outputs": [
    {
     "name": "stderr",
     "output_type": "stream",
     "text": [
      "  7%|█████████▋                                                                                                                                 | 1704/24567 [00:00<00:02, 8257.24it/s]"
     ]
    },
    {
     "name": "stdout",
     "output_type": "stream",
     "text": [
      "Copying tokens 256x256 thumbs...\n"
     ]
    },
    {
     "name": "stderr",
     "output_type": "stream",
     "text": [
      "100%|██████████████████████████████████████████████████████████████████████████████████████████████████████████████████████████████████████████| 24567/24567 [00:03<00:00, 6796.75it/s]\n"
     ]
    }
   ],
   "source": [
    "print('Copying tokens 256x256 thumbs...')\n",
    "\n",
    "for token_ds_entry in tqdm(tokens_ds.values()):\n",
    "    if token_ds_entry['ban_status'] != '':\n",
    "        continue\n",
    "    token_preview_file = config.previews_dir / 'thumbs_256x256' / (token_ds_entry['artifact_ipfs'] + '.jpeg')\n",
    "    target_token_preview_file = ecd / 'previews' / 'thumbs_256x256' / token_preview_file.name\n",
    "    if token_preview_file.exists() and not target_token_preview_file.exists():\n",
    "        shutil.copy(token_preview_file, target_token_preview_file)"
   ]
  },
  {
   "cell_type": "code",
   "execution_count": 26,
   "metadata": {},
   "outputs": [
    {
     "name": "stderr",
     "output_type": "stream",
     "text": [
      "\r",
      "  0%|                                                                                                                                                        | 0/24567 [00:00<?, ?it/s]"
     ]
    },
    {
     "name": "stdout",
     "output_type": "stream",
     "text": [
      "Copying tokens metadata...\n"
     ]
    },
    {
     "name": "stderr",
     "output_type": "stream",
     "text": [
      "100%|████████████████████████████████████████████████████████████████████████████████████████████████████████████████████████████████████████████| 24567/24567 [04:47<00:00, 85.41it/s]\n"
     ]
    }
   ],
   "source": [
    "print('Copying tokens metadata...')\n",
    "\n",
    "for token_ds_entry in tqdm(tokens_ds.values()):\n",
    "    token_ipfs0_file = config.ipfs0_dir / token_ds_entry['info_ipfs']\n",
    "    if token_preview_file.exists():\n",
    "        shutil.copy(token_ipfs0_file, ecd / 'ipfs0' / token_ipfs0_file.name)"
   ]
  },
  {
   "cell_type": "code",
   "execution_count": 28,
   "metadata": {},
   "outputs": [
    {
     "name": "stdout",
     "output_type": "stream",
     "text": [
      "Copying single files...\n"
     ]
    },
    {
     "data": {
      "text/plain": [
       "WindowsPath('D:/PycharmProjects/hicetnunc-dataset/export_cache/previews/dimensions.json')"
      ]
     },
     "execution_count": 28,
     "metadata": {},
     "output_type": "execute_result"
    }
   ],
   "source": [
    "print('Copying single files...')\n",
    "\n",
    "shutil.copy(\n",
    "    config.tzktio_accounts_metadata_file,\n",
    "    ecd / 'accounts_metadata' / config.tzktio_accounts_metadata_file.name,\n",
    ")\n",
    "\n",
    "shutil.copy(\n",
    "    config.previews_dimensions_cache_file,\n",
    "    ecd / 'previews' / config.previews_dimensions_cache_file.name,\n",
    ")"
   ]
  },
  {
   "cell_type": "code",
   "execution_count": 29,
   "metadata": {},
   "outputs": [
    {
     "name": "stderr",
     "output_type": "stream",
     "text": [
      "2it [00:00, 15.63it/s]"
     ]
    },
    {
     "name": "stdout",
     "output_type": "stream",
     "text": [
      "Copying transactions...\n"
     ]
    },
    {
     "name": "stderr",
     "output_type": "stream",
     "text": [
      "35it [01:30,  2.58s/it]\n"
     ]
    }
   ],
   "source": [
    "print('Copying transactions...')\n",
    "\n",
    "for tr_file in tqdm(list(config.transactions_dir.iterdir())):\n",
    "    if 'invalid' in tr_file.name:\n",
    "        continue\n",
    "    shutil.copy(tr_file, ecd / 'transactions' / tr_file.parent.name / tr_file.name)"
   ]
  },
  {
   "cell_type": "code",
   "execution_count": 32,
   "metadata": {},
   "outputs": [
    {
     "data": {
      "text/plain": [
       "'D:\\\\PycharmProjects\\\\hicetnunc-dataset\\\\cache.zip.zip'"
      ]
     },
     "execution_count": 32,
     "metadata": {},
     "output_type": "execute_result"
    }
   ],
   "source": [
    "import shutil\n",
    "\n",
    "print('Making cache.zip archive...')\n",
    "\n",
    "shutil.make_archive(config.export_cache_archive_file.stem, 'zip', ecd)"
   ]
  },
  {
   "cell_type": "code",
   "execution_count": 3,
   "metadata": {},
   "outputs": [
    {
     "name": "stdout",
     "output_type": "stream",
     "text": [
      "Making dataset.zip archive...\n"
     ]
    },
    {
     "data": {
      "text/plain": [
       "'D:\\\\PycharmProjects\\\\hicetnunc-dataset\\\\dataset.zip'"
      ]
     },
     "execution_count": 3,
     "metadata": {},
     "output_type": "execute_result"
    }
   ],
   "source": [
    "import shutil\n",
    "\n",
    "print('Making dataset.zip archive...')\n",
    "\n",
    "shutil.make_archive(config.export_dataset_archive_file.with_suffix(''), 'zip', config.dataset_dir)"
   ]
  },
  {
   "cell_type": "code",
   "execution_count": 34,
   "metadata": {},
   "outputs": [],
   "source": [
    "ewd = config.website_repo_dir / 'hicetnunc'"
   ]
  },
  {
   "cell_type": "code",
   "execution_count": 35,
   "metadata": {},
   "outputs": [
    {
     "name": "stderr",
     "output_type": "stream",
     "text": [
      "\r",
      "  0%|                                                                                                                                                         | 0/4719 [00:00<?, ?it/s]"
     ]
    },
    {
     "name": "stdout",
     "output_type": "stream",
     "text": [
      "WEBSITE: Copying logos...\n"
     ]
    },
    {
     "name": "stderr",
     "output_type": "stream",
     "text": [
      "100%|████████████████████████████████████████████████████████████████████████████████████████████████████████████████████████████████████████████| 4719/4719 [00:04<00:00, 1122.49it/s]\n"
     ]
    }
   ],
   "source": [
    "if ewd.is_dir():\n",
    "    print('WEBSITE: Copying logos...')\n",
    "    (ewd / 'user_logos').mkdir(exist_ok=True)\n",
    "\n",
    "    for addr_ds_entry in tqdm(addrs_ds.values()):\n",
    "        if addr_ds_entry['ban_status'] != '':\n",
    "            continue\n",
    "        logo_file = config.tzktio_accounts_logos_dir / (addr_ds_entry['address'] + '.png')\n",
    "        target_logo_file = ewd / 'user_logos' / logo_file.name\n",
    "        if logo_file.exists() and not target_logo_file.exists():\n",
    "            shutil.copy(logo_file, target_logo_file)"
   ]
  },
  {
   "cell_type": "code",
   "execution_count": 36,
   "metadata": {},
   "outputs": [
    {
     "name": "stderr",
     "output_type": "stream",
     "text": [
      "  0%|                                                                                                                                               | 10/24567 [00:00<04:06, 99.66it/s]"
     ]
    },
    {
     "name": "stdout",
     "output_type": "stream",
     "text": [
      "WEBSITE: Copying tokens 256x256 thumbs...\n"
     ]
    },
    {
     "name": "stderr",
     "output_type": "stream",
     "text": [
      "100%|████████████████████████████████████████████████████████████████████████████████████████████████████████████████████████████████████████████| 24567/24567 [04:52<00:00, 84.04it/s]\n"
     ]
    }
   ],
   "source": [
    "if ewd.is_dir():\n",
    "    print('WEBSITE: Copying tokens 256x256 thumbs...')\n",
    "    (ewd / 'token_thumbs').mkdir(exist_ok=True)\n",
    "    for token_ds_entry in tqdm(tokens_ds.values()):\n",
    "        if token_ds_entry['ban_status'] != '':\n",
    "            continue\n",
    "        token_preview_file = config.previews_dir / 'thumbs_256x256' / (token_ds_entry['artifact_ipfs'] + '.jpeg')\n",
    "        target_token_preview_file = ewd / 'token_thumbs' / (token_ds_entry['token_id'] + '.jpeg')\n",
    "        if token_preview_file.exists() and not target_token_preview_file.exists():\n",
    "            shutil.copy(token_preview_file, target_token_preview_file)"
   ]
  }
 ],
 "metadata": {
  "kernelspec": {
   "display_name": "Python 3",
   "language": "python",
   "name": "python3"
  },
  "language_info": {
   "codemirror_mode": {
    "name": "ipython",
    "version": 3
   },
   "file_extension": ".py",
   "mimetype": "text/x-python",
   "name": "python",
   "nbconvert_exporter": "python",
   "pygments_lexer": "ipython3",
   "version": "3.6.5"
  }
 },
 "nbformat": 4,
 "nbformat_minor": 2
}