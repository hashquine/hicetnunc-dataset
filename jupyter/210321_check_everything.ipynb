{
 "cells": [
  {
   "cell_type": "code",
   "execution_count": 13,
   "metadata": {},
   "outputs": [],
   "source": [
    "import sys\n",
    "from pathlib import Path\n",
    "\n",
    "repo_dir = Path('..').resolve()\n",
    "assert repo_dir.name == 'hicetnunc-dataset', repo_dir\n",
    "if str(repo_dir) not in sys.path:\n",
    "    sys.path.append(str(repo_dir))\n",
    "\n",
    "import src.reload; src.reload.reload()\n",
    "\n",
    "nft_state_log = src.utils.read_json(src.config.nft_state_log_file)\n",
    "nft_state = src.contracts.nft_state.NFTState()\n",
    "nft_state_replayer = src.contracts.state_utils.StateReplayer(nft_state_log, nft_state)\n",
    "\n",
    "ah_state_log = src.utils.read_json(src.config.ah_state_log_file)\n",
    "ah_state = src.contracts.art_house_state.ArtHouseState()\n",
    "ah_state_replayer = src.contracts.state_utils.StateReplayer(ah_state_log, ah_state)\n",
    "\n",
    "money_state_log = src.utils.read_json(src.config.money_state_log_file)\n",
    "money_state = src.contracts.money_state.MoneyState()\n",
    "money_state_replayer = src.contracts.state_utils.StateReplayer(money_state_log, money_state)\n",
    "\n",
    "tr_info_db = src.tr.info_db.TrInfoDB()"
   ]
  },
  {
   "cell_type": "code",
   "execution_count": 14,
   "metadata": {},
   "outputs": [],
   "source": [
    "last_row_id = tr_info_db.get_last_row_id_before_stamp(src.utils.iso_date_to_stamp('2021-03-07T00:00:00Z'))\n",
    "\n",
    "nft_state_replayer.replay_to_after_row_id(last_row_id)\n",
    "ah_state_replayer.replay_to_after_row_id(last_row_id)\n",
    "money_state_replayer.replay_to_after_row_id(last_row_id)"
   ]
  },
  {
   "cell_type": "code",
   "execution_count": null,
   "metadata": {},
   "outputs": [],
   "source": []
  }
 ],
 "metadata": {
  "kernelspec": {
   "display_name": "Python 3",
   "language": "python",
   "name": "python3"
  },
  "language_info": {
   "codemirror_mode": {
    "name": "ipython",
    "version": 3
   },
   "file_extension": ".py",
   "mimetype": "text/x-python",
   "name": "python",
   "nbconvert_exporter": "python",
   "pygments_lexer": "ipython3",
   "version": "3.6.5"
  }
 },
 "nbformat": 4,
 "nbformat_minor": 2
}
