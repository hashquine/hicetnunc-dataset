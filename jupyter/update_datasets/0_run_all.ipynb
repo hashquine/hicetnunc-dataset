{
 "cells": [
  {
   "cell_type": "code",
   "execution_count": 33,
   "metadata": {},
   "outputs": [
    {
     "name": "stdout",
     "output_type": "stream",
     "text": [
      "Checking min_stamp validity... "
     ]
    },
    {
     "ename": "KeyboardInterrupt",
     "evalue": "",
     "output_type": "error",
     "traceback": [
      "\u001b[1;31m---------------------------------------------------------------------------\u001b[0m",
      "\u001b[1;31mTypeError\u001b[0m                                 Traceback (most recent call last)",
      "\u001b[1;32mC:\\ProgramData\\Anaconda3\\lib\\site-packages\\urllib3\\connectionpool.py\u001b[0m in \u001b[0;36m_make_request\u001b[1;34m(self, conn, method, url, timeout, chunked, **httplib_request_kw)\u001b[0m\n\u001b[0;32m    379\u001b[0m             \u001b[1;32mtry\u001b[0m\u001b[1;33m:\u001b[0m  \u001b[1;31m# Python 2.7, use buffering of HTTP responses\u001b[0m\u001b[1;33m\u001b[0m\u001b[0m\n\u001b[1;32m--> 380\u001b[1;33m                 \u001b[0mhttplib_response\u001b[0m \u001b[1;33m=\u001b[0m \u001b[0mconn\u001b[0m\u001b[1;33m.\u001b[0m\u001b[0mgetresponse\u001b[0m\u001b[1;33m(\u001b[0m\u001b[0mbuffering\u001b[0m\u001b[1;33m=\u001b[0m\u001b[1;32mTrue\u001b[0m\u001b[1;33m)\u001b[0m\u001b[1;33m\u001b[0m\u001b[0m\n\u001b[0m\u001b[0;32m    381\u001b[0m             \u001b[1;32mexcept\u001b[0m \u001b[0mTypeError\u001b[0m\u001b[1;33m:\u001b[0m  \u001b[1;31m# Python 2.6 and older, Python 3\u001b[0m\u001b[1;33m\u001b[0m\u001b[0m\n",
      "\u001b[1;31mTypeError\u001b[0m: getresponse() got an unexpected keyword argument 'buffering'",
      "\nDuring handling of the above exception, another exception occurred:\n",
      "\u001b[1;31mKeyboardInterrupt\u001b[0m                         Traceback (most recent call last)",
      "\u001b[1;32mD:\\PycharmProjects\\hicetnunc-dataset\\scripts\\1_update_blockchain_data.py\u001b[0m in \u001b[0;36m<module>\u001b[1;34m()\u001b[0m\n\u001b[0;32m    170\u001b[0m \u001b[1;33m\u001b[0m\u001b[0m\n\u001b[0;32m    171\u001b[0m     \u001b[0mconfig\u001b[0m \u001b[1;33m=\u001b[0m \u001b[0msrc\u001b[0m\u001b[1;33m.\u001b[0m\u001b[0mconfig\u001b[0m\u001b[1;33m.\u001b[0m\u001b[0mfetch_transactions_config\u001b[0m\u001b[1;33m\u001b[0m\u001b[0m\n\u001b[1;32m--> 172\u001b[1;33m     \u001b[0mcheck_min_stamps\u001b[0m\u001b[1;33m(\u001b[0m\u001b[0mconfig\u001b[0m\u001b[1;33m)\u001b[0m\u001b[1;33m\u001b[0m\u001b[0m\n\u001b[0m\u001b[0;32m    173\u001b[0m     \u001b[0mupdate_transactions_cache\u001b[0m\u001b[1;33m(\u001b[0m\u001b[0mconfig\u001b[0m\u001b[1;33m)\u001b[0m\u001b[1;33m\u001b[0m\u001b[0m\n",
      "\u001b[1;32mD:\\PycharmProjects\\hicetnunc-dataset\\scripts\\1_update_blockchain_data.py\u001b[0m in \u001b[0;36mcheck_min_stamps\u001b[1;34m(config)\u001b[0m\n\u001b[0;32m    151\u001b[0m         \u001b[0maddr\u001b[0m \u001b[1;33m=\u001b[0m \u001b[0maddr_entry\u001b[0m\u001b[1;33m[\u001b[0m\u001b[1;34m'addr'\u001b[0m\u001b[1;33m]\u001b[0m\u001b[1;33m\u001b[0m\u001b[0m\n\u001b[0;32m    152\u001b[0m         \u001b[0mcheck_first_transaction_stamp\u001b[0m\u001b[1;33m(\u001b[0m\u001b[0mmin_stamp\u001b[0m\u001b[1;33m,\u001b[0m \u001b[0msender\u001b[0m\u001b[1;33m=\u001b[0m\u001b[0maddr\u001b[0m\u001b[1;33m,\u001b[0m \u001b[0mreceiver\u001b[0m\u001b[1;33m=\u001b[0m\u001b[1;32mNone\u001b[0m\u001b[1;33m)\u001b[0m\u001b[1;33m\u001b[0m\u001b[0m\n\u001b[1;32m--> 153\u001b[1;33m         \u001b[0mcheck_first_transaction_stamp\u001b[0m\u001b[1;33m(\u001b[0m\u001b[0mmin_stamp\u001b[0m\u001b[1;33m,\u001b[0m \u001b[0msender\u001b[0m\u001b[1;33m=\u001b[0m\u001b[1;32mNone\u001b[0m\u001b[1;33m,\u001b[0m \u001b[0mreceiver\u001b[0m\u001b[1;33m=\u001b[0m\u001b[0maddr\u001b[0m\u001b[1;33m)\u001b[0m\u001b[1;33m\u001b[0m\u001b[0m\n\u001b[0m\u001b[0;32m    154\u001b[0m     \u001b[0mprint\u001b[0m\u001b[1;33m(\u001b[0m\u001b[1;34m'ok'\u001b[0m\u001b[1;33m)\u001b[0m\u001b[1;33m\u001b[0m\u001b[0m\n\u001b[0;32m    155\u001b[0m \u001b[1;33m\u001b[0m\u001b[0m\n",
      "\u001b[1;32mD:\\PycharmProjects\\hicetnunc-dataset\\scripts\\1_update_blockchain_data.py\u001b[0m in \u001b[0;36mcheck_first_transaction_stamp\u001b[1;34m(min_stamp, sender, receiver)\u001b[0m\n\u001b[0;32m     20\u001b[0m         \u001b[1;34m'limit'\u001b[0m\u001b[1;33m:\u001b[0m \u001b[1;36m100\u001b[0m\u001b[1;33m,\u001b[0m\u001b[1;33m\u001b[0m\u001b[0m\n\u001b[0;32m     21\u001b[0m         \u001b[1;34m'columns'\u001b[0m\u001b[1;33m:\u001b[0m \u001b[1;34m','\u001b[0m\u001b[1;33m.\u001b[0m\u001b[0mjoin\u001b[0m\u001b[1;33m(\u001b[0m\u001b[1;33m[\u001b[0m\u001b[1;34m'time'\u001b[0m\u001b[1;33m,\u001b[0m \u001b[1;34m'hash'\u001b[0m\u001b[1;33m]\u001b[0m\u001b[1;33m)\u001b[0m\u001b[1;33m,\u001b[0m\u001b[1;33m\u001b[0m\u001b[0m\n\u001b[1;32m---> 22\u001b[1;33m         \u001b[1;34m'time.lt'\u001b[0m\u001b[1;33m:\u001b[0m \u001b[0mmin_stamp\u001b[0m\u001b[1;33m,\u001b[0m\u001b[1;33m\u001b[0m\u001b[0m\n\u001b[0m\u001b[0;32m     23\u001b[0m     })\n\u001b[0;32m     24\u001b[0m     \u001b[1;32mif\u001b[0m \u001b[0mreq\u001b[0m\u001b[1;33m.\u001b[0m\u001b[0mstatus_code\u001b[0m \u001b[1;33m!=\u001b[0m \u001b[1;36m200\u001b[0m\u001b[1;33m:\u001b[0m\u001b[1;33m\u001b[0m\u001b[0m\n",
      "\u001b[1;32mC:\\ProgramData\\Anaconda3\\lib\\site-packages\\requests\\api.py\u001b[0m in \u001b[0;36mget\u001b[1;34m(url, params, **kwargs)\u001b[0m\n\u001b[0;32m     70\u001b[0m \u001b[1;33m\u001b[0m\u001b[0m\n\u001b[0;32m     71\u001b[0m     \u001b[0mkwargs\u001b[0m\u001b[1;33m.\u001b[0m\u001b[0msetdefault\u001b[0m\u001b[1;33m(\u001b[0m\u001b[1;34m'allow_redirects'\u001b[0m\u001b[1;33m,\u001b[0m \u001b[1;32mTrue\u001b[0m\u001b[1;33m)\u001b[0m\u001b[1;33m\u001b[0m\u001b[0m\n\u001b[1;32m---> 72\u001b[1;33m     \u001b[1;32mreturn\u001b[0m \u001b[0mrequest\u001b[0m\u001b[1;33m(\u001b[0m\u001b[1;34m'get'\u001b[0m\u001b[1;33m,\u001b[0m \u001b[0murl\u001b[0m\u001b[1;33m,\u001b[0m \u001b[0mparams\u001b[0m\u001b[1;33m=\u001b[0m\u001b[0mparams\u001b[0m\u001b[1;33m,\u001b[0m \u001b[1;33m**\u001b[0m\u001b[0mkwargs\u001b[0m\u001b[1;33m)\u001b[0m\u001b[1;33m\u001b[0m\u001b[0m\n\u001b[0m\u001b[0;32m     73\u001b[0m \u001b[1;33m\u001b[0m\u001b[0m\n\u001b[0;32m     74\u001b[0m \u001b[1;33m\u001b[0m\u001b[0m\n",
      "\u001b[1;32mC:\\ProgramData\\Anaconda3\\lib\\site-packages\\requests\\api.py\u001b[0m in \u001b[0;36mrequest\u001b[1;34m(method, url, **kwargs)\u001b[0m\n\u001b[0;32m     56\u001b[0m     \u001b[1;31m# cases, and look like a memory leak in others.\u001b[0m\u001b[1;33m\u001b[0m\u001b[1;33m\u001b[0m\u001b[0m\n\u001b[0;32m     57\u001b[0m     \u001b[1;32mwith\u001b[0m \u001b[0msessions\u001b[0m\u001b[1;33m.\u001b[0m\u001b[0mSession\u001b[0m\u001b[1;33m(\u001b[0m\u001b[1;33m)\u001b[0m \u001b[1;32mas\u001b[0m \u001b[0msession\u001b[0m\u001b[1;33m:\u001b[0m\u001b[1;33m\u001b[0m\u001b[0m\n\u001b[1;32m---> 58\u001b[1;33m         \u001b[1;32mreturn\u001b[0m \u001b[0msession\u001b[0m\u001b[1;33m.\u001b[0m\u001b[0mrequest\u001b[0m\u001b[1;33m(\u001b[0m\u001b[0mmethod\u001b[0m\u001b[1;33m=\u001b[0m\u001b[0mmethod\u001b[0m\u001b[1;33m,\u001b[0m \u001b[0murl\u001b[0m\u001b[1;33m=\u001b[0m\u001b[0murl\u001b[0m\u001b[1;33m,\u001b[0m \u001b[1;33m**\u001b[0m\u001b[0mkwargs\u001b[0m\u001b[1;33m)\u001b[0m\u001b[1;33m\u001b[0m\u001b[0m\n\u001b[0m\u001b[0;32m     59\u001b[0m \u001b[1;33m\u001b[0m\u001b[0m\n\u001b[0;32m     60\u001b[0m \u001b[1;33m\u001b[0m\u001b[0m\n",
      "\u001b[1;32mC:\\ProgramData\\Anaconda3\\lib\\site-packages\\requests\\sessions.py\u001b[0m in \u001b[0;36mrequest\u001b[1;34m(self, method, url, params, data, headers, cookies, files, auth, timeout, allow_redirects, proxies, hooks, stream, verify, cert, json)\u001b[0m\n\u001b[0;32m    506\u001b[0m         }\n\u001b[0;32m    507\u001b[0m         \u001b[0msend_kwargs\u001b[0m\u001b[1;33m.\u001b[0m\u001b[0mupdate\u001b[0m\u001b[1;33m(\u001b[0m\u001b[0msettings\u001b[0m\u001b[1;33m)\u001b[0m\u001b[1;33m\u001b[0m\u001b[0m\n\u001b[1;32m--> 508\u001b[1;33m         \u001b[0mresp\u001b[0m \u001b[1;33m=\u001b[0m \u001b[0mself\u001b[0m\u001b[1;33m.\u001b[0m\u001b[0msend\u001b[0m\u001b[1;33m(\u001b[0m\u001b[0mprep\u001b[0m\u001b[1;33m,\u001b[0m \u001b[1;33m**\u001b[0m\u001b[0msend_kwargs\u001b[0m\u001b[1;33m)\u001b[0m\u001b[1;33m\u001b[0m\u001b[0m\n\u001b[0m\u001b[0;32m    509\u001b[0m \u001b[1;33m\u001b[0m\u001b[0m\n\u001b[0;32m    510\u001b[0m         \u001b[1;32mreturn\u001b[0m \u001b[0mresp\u001b[0m\u001b[1;33m\u001b[0m\u001b[0m\n",
      "\u001b[1;32mC:\\ProgramData\\Anaconda3\\lib\\site-packages\\requests\\sessions.py\u001b[0m in \u001b[0;36msend\u001b[1;34m(self, request, **kwargs)\u001b[0m\n\u001b[0;32m    616\u001b[0m \u001b[1;33m\u001b[0m\u001b[0m\n\u001b[0;32m    617\u001b[0m         \u001b[1;31m# Send the request\u001b[0m\u001b[1;33m\u001b[0m\u001b[1;33m\u001b[0m\u001b[0m\n\u001b[1;32m--> 618\u001b[1;33m         \u001b[0mr\u001b[0m \u001b[1;33m=\u001b[0m \u001b[0madapter\u001b[0m\u001b[1;33m.\u001b[0m\u001b[0msend\u001b[0m\u001b[1;33m(\u001b[0m\u001b[0mrequest\u001b[0m\u001b[1;33m,\u001b[0m \u001b[1;33m**\u001b[0m\u001b[0mkwargs\u001b[0m\u001b[1;33m)\u001b[0m\u001b[1;33m\u001b[0m\u001b[0m\n\u001b[0m\u001b[0;32m    619\u001b[0m \u001b[1;33m\u001b[0m\u001b[0m\n\u001b[0;32m    620\u001b[0m         \u001b[1;31m# Total elapsed time of the request (approximately)\u001b[0m\u001b[1;33m\u001b[0m\u001b[1;33m\u001b[0m\u001b[0m\n",
      "\u001b[1;32mC:\\ProgramData\\Anaconda3\\lib\\site-packages\\requests\\adapters.py\u001b[0m in \u001b[0;36msend\u001b[1;34m(self, request, stream, timeout, verify, cert, proxies)\u001b[0m\n\u001b[0;32m    438\u001b[0m                     \u001b[0mdecode_content\u001b[0m\u001b[1;33m=\u001b[0m\u001b[1;32mFalse\u001b[0m\u001b[1;33m,\u001b[0m\u001b[1;33m\u001b[0m\u001b[0m\n\u001b[0;32m    439\u001b[0m                     \u001b[0mretries\u001b[0m\u001b[1;33m=\u001b[0m\u001b[0mself\u001b[0m\u001b[1;33m.\u001b[0m\u001b[0mmax_retries\u001b[0m\u001b[1;33m,\u001b[0m\u001b[1;33m\u001b[0m\u001b[0m\n\u001b[1;32m--> 440\u001b[1;33m                     \u001b[0mtimeout\u001b[0m\u001b[1;33m=\u001b[0m\u001b[0mtimeout\u001b[0m\u001b[1;33m\u001b[0m\u001b[0m\n\u001b[0m\u001b[0;32m    441\u001b[0m                 )\n\u001b[0;32m    442\u001b[0m \u001b[1;33m\u001b[0m\u001b[0m\n",
      "\u001b[1;32mC:\\ProgramData\\Anaconda3\\lib\\site-packages\\urllib3\\connectionpool.py\u001b[0m in \u001b[0;36murlopen\u001b[1;34m(self, method, url, body, headers, retries, redirect, assert_same_host, timeout, pool_timeout, release_conn, chunked, body_pos, **response_kw)\u001b[0m\n\u001b[0;32m    599\u001b[0m                                                   \u001b[0mtimeout\u001b[0m\u001b[1;33m=\u001b[0m\u001b[0mtimeout_obj\u001b[0m\u001b[1;33m,\u001b[0m\u001b[1;33m\u001b[0m\u001b[0m\n\u001b[0;32m    600\u001b[0m                                                   \u001b[0mbody\u001b[0m\u001b[1;33m=\u001b[0m\u001b[0mbody\u001b[0m\u001b[1;33m,\u001b[0m \u001b[0mheaders\u001b[0m\u001b[1;33m=\u001b[0m\u001b[0mheaders\u001b[0m\u001b[1;33m,\u001b[0m\u001b[1;33m\u001b[0m\u001b[0m\n\u001b[1;32m--> 601\u001b[1;33m                                                   chunked=chunked)\n\u001b[0m\u001b[0;32m    602\u001b[0m \u001b[1;33m\u001b[0m\u001b[0m\n\u001b[0;32m    603\u001b[0m             \u001b[1;31m# If we're going to release the connection in ``finally:``, then\u001b[0m\u001b[1;33m\u001b[0m\u001b[1;33m\u001b[0m\u001b[0m\n",
      "\u001b[1;32mC:\\ProgramData\\Anaconda3\\lib\\site-packages\\urllib3\\connectionpool.py\u001b[0m in \u001b[0;36m_make_request\u001b[1;34m(self, conn, method, url, timeout, chunked, **httplib_request_kw)\u001b[0m\n\u001b[0;32m    381\u001b[0m             \u001b[1;32mexcept\u001b[0m \u001b[0mTypeError\u001b[0m\u001b[1;33m:\u001b[0m  \u001b[1;31m# Python 2.6 and older, Python 3\u001b[0m\u001b[1;33m\u001b[0m\u001b[0m\n\u001b[0;32m    382\u001b[0m                 \u001b[1;32mtry\u001b[0m\u001b[1;33m:\u001b[0m\u001b[1;33m\u001b[0m\u001b[0m\n\u001b[1;32m--> 383\u001b[1;33m                     \u001b[0mhttplib_response\u001b[0m \u001b[1;33m=\u001b[0m \u001b[0mconn\u001b[0m\u001b[1;33m.\u001b[0m\u001b[0mgetresponse\u001b[0m\u001b[1;33m(\u001b[0m\u001b[1;33m)\u001b[0m\u001b[1;33m\u001b[0m\u001b[0m\n\u001b[0m\u001b[0;32m    384\u001b[0m                 \u001b[1;32mexcept\u001b[0m \u001b[0mException\u001b[0m \u001b[1;32mas\u001b[0m \u001b[0me\u001b[0m\u001b[1;33m:\u001b[0m\u001b[1;33m\u001b[0m\u001b[0m\n\u001b[0;32m    385\u001b[0m                     \u001b[1;31m# Remove the TypeError from the exception chain in Python 3;\u001b[0m\u001b[1;33m\u001b[0m\u001b[1;33m\u001b[0m\u001b[0m\n",
      "\u001b[1;32mC:\\ProgramData\\Anaconda3\\lib\\http\\client.py\u001b[0m in \u001b[0;36mgetresponse\u001b[1;34m(self)\u001b[0m\n\u001b[0;32m   1329\u001b[0m         \u001b[1;32mtry\u001b[0m\u001b[1;33m:\u001b[0m\u001b[1;33m\u001b[0m\u001b[0m\n\u001b[0;32m   1330\u001b[0m             \u001b[1;32mtry\u001b[0m\u001b[1;33m:\u001b[0m\u001b[1;33m\u001b[0m\u001b[0m\n\u001b[1;32m-> 1331\u001b[1;33m                 \u001b[0mresponse\u001b[0m\u001b[1;33m.\u001b[0m\u001b[0mbegin\u001b[0m\u001b[1;33m(\u001b[0m\u001b[1;33m)\u001b[0m\u001b[1;33m\u001b[0m\u001b[0m\n\u001b[0m\u001b[0;32m   1332\u001b[0m             \u001b[1;32mexcept\u001b[0m \u001b[0mConnectionError\u001b[0m\u001b[1;33m:\u001b[0m\u001b[1;33m\u001b[0m\u001b[0m\n\u001b[0;32m   1333\u001b[0m                 \u001b[0mself\u001b[0m\u001b[1;33m.\u001b[0m\u001b[0mclose\u001b[0m\u001b[1;33m(\u001b[0m\u001b[1;33m)\u001b[0m\u001b[1;33m\u001b[0m\u001b[0m\n",
      "\u001b[1;32mC:\\ProgramData\\Anaconda3\\lib\\http\\client.py\u001b[0m in \u001b[0;36mbegin\u001b[1;34m(self)\u001b[0m\n\u001b[0;32m    295\u001b[0m         \u001b[1;31m# read until we get a non-100 response\u001b[0m\u001b[1;33m\u001b[0m\u001b[1;33m\u001b[0m\u001b[0m\n\u001b[0;32m    296\u001b[0m         \u001b[1;32mwhile\u001b[0m \u001b[1;32mTrue\u001b[0m\u001b[1;33m:\u001b[0m\u001b[1;33m\u001b[0m\u001b[0m\n\u001b[1;32m--> 297\u001b[1;33m             \u001b[0mversion\u001b[0m\u001b[1;33m,\u001b[0m \u001b[0mstatus\u001b[0m\u001b[1;33m,\u001b[0m \u001b[0mreason\u001b[0m \u001b[1;33m=\u001b[0m \u001b[0mself\u001b[0m\u001b[1;33m.\u001b[0m\u001b[0m_read_status\u001b[0m\u001b[1;33m(\u001b[0m\u001b[1;33m)\u001b[0m\u001b[1;33m\u001b[0m\u001b[0m\n\u001b[0m\u001b[0;32m    298\u001b[0m             \u001b[1;32mif\u001b[0m \u001b[0mstatus\u001b[0m \u001b[1;33m!=\u001b[0m \u001b[0mCONTINUE\u001b[0m\u001b[1;33m:\u001b[0m\u001b[1;33m\u001b[0m\u001b[0m\n\u001b[0;32m    299\u001b[0m                 \u001b[1;32mbreak\u001b[0m\u001b[1;33m\u001b[0m\u001b[0m\n",
      "\u001b[1;32mC:\\ProgramData\\Anaconda3\\lib\\http\\client.py\u001b[0m in \u001b[0;36m_read_status\u001b[1;34m(self)\u001b[0m\n\u001b[0;32m    256\u001b[0m \u001b[1;33m\u001b[0m\u001b[0m\n\u001b[0;32m    257\u001b[0m     \u001b[1;32mdef\u001b[0m \u001b[0m_read_status\u001b[0m\u001b[1;33m(\u001b[0m\u001b[0mself\u001b[0m\u001b[1;33m)\u001b[0m\u001b[1;33m:\u001b[0m\u001b[1;33m\u001b[0m\u001b[0m\n\u001b[1;32m--> 258\u001b[1;33m         \u001b[0mline\u001b[0m \u001b[1;33m=\u001b[0m \u001b[0mstr\u001b[0m\u001b[1;33m(\u001b[0m\u001b[0mself\u001b[0m\u001b[1;33m.\u001b[0m\u001b[0mfp\u001b[0m\u001b[1;33m.\u001b[0m\u001b[0mreadline\u001b[0m\u001b[1;33m(\u001b[0m\u001b[0m_MAXLINE\u001b[0m \u001b[1;33m+\u001b[0m \u001b[1;36m1\u001b[0m\u001b[1;33m)\u001b[0m\u001b[1;33m,\u001b[0m \u001b[1;34m\"iso-8859-1\"\u001b[0m\u001b[1;33m)\u001b[0m\u001b[1;33m\u001b[0m\u001b[0m\n\u001b[0m\u001b[0;32m    259\u001b[0m         \u001b[1;32mif\u001b[0m \u001b[0mlen\u001b[0m\u001b[1;33m(\u001b[0m\u001b[0mline\u001b[0m\u001b[1;33m)\u001b[0m \u001b[1;33m>\u001b[0m \u001b[0m_MAXLINE\u001b[0m\u001b[1;33m:\u001b[0m\u001b[1;33m\u001b[0m\u001b[0m\n\u001b[0;32m    260\u001b[0m             \u001b[1;32mraise\u001b[0m \u001b[0mLineTooLong\u001b[0m\u001b[1;33m(\u001b[0m\u001b[1;34m\"status line\"\u001b[0m\u001b[1;33m)\u001b[0m\u001b[1;33m\u001b[0m\u001b[0m\n",
      "\u001b[1;32mC:\\ProgramData\\Anaconda3\\lib\\socket.py\u001b[0m in \u001b[0;36mreadinto\u001b[1;34m(self, b)\u001b[0m\n\u001b[0;32m    584\u001b[0m         \u001b[1;32mwhile\u001b[0m \u001b[1;32mTrue\u001b[0m\u001b[1;33m:\u001b[0m\u001b[1;33m\u001b[0m\u001b[0m\n\u001b[0;32m    585\u001b[0m             \u001b[1;32mtry\u001b[0m\u001b[1;33m:\u001b[0m\u001b[1;33m\u001b[0m\u001b[0m\n\u001b[1;32m--> 586\u001b[1;33m                 \u001b[1;32mreturn\u001b[0m \u001b[0mself\u001b[0m\u001b[1;33m.\u001b[0m\u001b[0m_sock\u001b[0m\u001b[1;33m.\u001b[0m\u001b[0mrecv_into\u001b[0m\u001b[1;33m(\u001b[0m\u001b[0mb\u001b[0m\u001b[1;33m)\u001b[0m\u001b[1;33m\u001b[0m\u001b[0m\n\u001b[0m\u001b[0;32m    587\u001b[0m             \u001b[1;32mexcept\u001b[0m \u001b[0mtimeout\u001b[0m\u001b[1;33m:\u001b[0m\u001b[1;33m\u001b[0m\u001b[0m\n\u001b[0;32m    588\u001b[0m                 \u001b[0mself\u001b[0m\u001b[1;33m.\u001b[0m\u001b[0m_timeout_occurred\u001b[0m \u001b[1;33m=\u001b[0m \u001b[1;32mTrue\u001b[0m\u001b[1;33m\u001b[0m\u001b[0m\n",
      "\u001b[1;32mC:\\ProgramData\\Anaconda3\\lib\\site-packages\\urllib3\\contrib\\pyopenssl.py\u001b[0m in \u001b[0;36mrecv_into\u001b[1;34m(self, *args, **kwargs)\u001b[0m\n\u001b[0;32m    278\u001b[0m     \u001b[1;32mdef\u001b[0m \u001b[0mrecv_into\u001b[0m\u001b[1;33m(\u001b[0m\u001b[0mself\u001b[0m\u001b[1;33m,\u001b[0m \u001b[1;33m*\u001b[0m\u001b[0margs\u001b[0m\u001b[1;33m,\u001b[0m \u001b[1;33m**\u001b[0m\u001b[0mkwargs\u001b[0m\u001b[1;33m)\u001b[0m\u001b[1;33m:\u001b[0m\u001b[1;33m\u001b[0m\u001b[0m\n\u001b[0;32m    279\u001b[0m         \u001b[1;32mtry\u001b[0m\u001b[1;33m:\u001b[0m\u001b[1;33m\u001b[0m\u001b[0m\n\u001b[1;32m--> 280\u001b[1;33m             \u001b[1;32mreturn\u001b[0m \u001b[0mself\u001b[0m\u001b[1;33m.\u001b[0m\u001b[0mconnection\u001b[0m\u001b[1;33m.\u001b[0m\u001b[0mrecv_into\u001b[0m\u001b[1;33m(\u001b[0m\u001b[1;33m*\u001b[0m\u001b[0margs\u001b[0m\u001b[1;33m,\u001b[0m \u001b[1;33m**\u001b[0m\u001b[0mkwargs\u001b[0m\u001b[1;33m)\u001b[0m\u001b[1;33m\u001b[0m\u001b[0m\n\u001b[0m\u001b[0;32m    281\u001b[0m         \u001b[1;32mexcept\u001b[0m \u001b[0mOpenSSL\u001b[0m\u001b[1;33m.\u001b[0m\u001b[0mSSL\u001b[0m\u001b[1;33m.\u001b[0m\u001b[0mSysCallError\u001b[0m \u001b[1;32mas\u001b[0m \u001b[0me\u001b[0m\u001b[1;33m:\u001b[0m\u001b[1;33m\u001b[0m\u001b[0m\n\u001b[0;32m    282\u001b[0m             \u001b[1;32mif\u001b[0m \u001b[0mself\u001b[0m\u001b[1;33m.\u001b[0m\u001b[0msuppress_ragged_eofs\u001b[0m \u001b[1;32mand\u001b[0m \u001b[0me\u001b[0m\u001b[1;33m.\u001b[0m\u001b[0margs\u001b[0m \u001b[1;33m==\u001b[0m \u001b[1;33m(\u001b[0m\u001b[1;33m-\u001b[0m\u001b[1;36m1\u001b[0m\u001b[1;33m,\u001b[0m \u001b[1;34m'Unexpected EOF'\u001b[0m\u001b[1;33m)\u001b[0m\u001b[1;33m:\u001b[0m\u001b[1;33m\u001b[0m\u001b[0m\n",
      "\u001b[1;32mC:\\ProgramData\\Anaconda3\\lib\\site-packages\\OpenSSL\\SSL.py\u001b[0m in \u001b[0;36mrecv_into\u001b[1;34m(self, buffer, nbytes, flags)\u001b[0m\n\u001b[0;32m   1811\u001b[0m             \u001b[0mresult\u001b[0m \u001b[1;33m=\u001b[0m \u001b[0m_lib\u001b[0m\u001b[1;33m.\u001b[0m\u001b[0mSSL_peek\u001b[0m\u001b[1;33m(\u001b[0m\u001b[0mself\u001b[0m\u001b[1;33m.\u001b[0m\u001b[0m_ssl\u001b[0m\u001b[1;33m,\u001b[0m \u001b[0mbuf\u001b[0m\u001b[1;33m,\u001b[0m \u001b[0mnbytes\u001b[0m\u001b[1;33m)\u001b[0m\u001b[1;33m\u001b[0m\u001b[0m\n\u001b[0;32m   1812\u001b[0m         \u001b[1;32melse\u001b[0m\u001b[1;33m:\u001b[0m\u001b[1;33m\u001b[0m\u001b[0m\n\u001b[1;32m-> 1813\u001b[1;33m             \u001b[0mresult\u001b[0m \u001b[1;33m=\u001b[0m \u001b[0m_lib\u001b[0m\u001b[1;33m.\u001b[0m\u001b[0mSSL_read\u001b[0m\u001b[1;33m(\u001b[0m\u001b[0mself\u001b[0m\u001b[1;33m.\u001b[0m\u001b[0m_ssl\u001b[0m\u001b[1;33m,\u001b[0m \u001b[0mbuf\u001b[0m\u001b[1;33m,\u001b[0m \u001b[0mnbytes\u001b[0m\u001b[1;33m)\u001b[0m\u001b[1;33m\u001b[0m\u001b[0m\n\u001b[0m\u001b[0;32m   1814\u001b[0m         \u001b[0mself\u001b[0m\u001b[1;33m.\u001b[0m\u001b[0m_raise_ssl_error\u001b[0m\u001b[1;33m(\u001b[0m\u001b[0mself\u001b[0m\u001b[1;33m.\u001b[0m\u001b[0m_ssl\u001b[0m\u001b[1;33m,\u001b[0m \u001b[0mresult\u001b[0m\u001b[1;33m)\u001b[0m\u001b[1;33m\u001b[0m\u001b[0m\n\u001b[0;32m   1815\u001b[0m \u001b[1;33m\u001b[0m\u001b[0m\n",
      "\u001b[1;31mKeyboardInterrupt\u001b[0m: "
     ]
    }
   ],
   "source": [
    "%run ../../scripts/1_update_blockchain_data.py"
   ]
  },
  {
   "cell_type": "code",
   "execution_count": 34,
   "metadata": {},
   "outputs": [
    {
     "name": "stdout",
     "output_type": "stream",
     "text": [
      "config_hash=4ff66f8cc8\n",
      "min_stamp=1614500000 (2021-02-28T08:13:20Z), 27 existing entries\n",
      "sender='KT1Hkg5qeNhfwpKW4fXvq7HGZB9z2EnmCCA9', receiver=None 1 (20) 2 (0) total 16\n",
      "sender=None, receiver='KT1Hkg5qeNhfwpKW4fXvq7HGZB9z2EnmCCA9' 1 (18) 2 (0) total 18\n",
      "sender='KT1RJ6PbjHpwc3M5rw5s2Nbmefwbuwbdxton', receiver=None 1 (0) total 0\n",
      "sender=None, receiver='KT1RJ6PbjHpwc3M5rw5s2Nbmefwbuwbdxton' 1 (19) 2 (0) total 19\n",
      "sender='tz1UBZUkXpKGhYsP5KtzDNqLLchwF4uHrGjw', receiver=None 1 (14) 2 (0) total 14\n",
      "sender=None, receiver='tz1UBZUkXpKGhYsP5KtzDNqLLchwF4uHrGjw' 1 (3) 2 (0) total 3\n",
      "sender='KT1TybhR7XraG75JFYKSrh7KnxukMBT5dor6', receiver=None 1 (0) total 0\n",
      "sender=None, receiver='KT1TybhR7XraG75JFYKSrh7KnxukMBT5dor6' 1 (2) 2 (0) total 2\n",
      "sender='KT1AFA2mwNUMNd4SsujE1YYp29vd8BZejyKW', receiver=None 1 (0) total 0\n",
      "sender=None, receiver='KT1AFA2mwNUMNd4SsujE1YYp29vd8BZejyKW' 1 (3) 2 (0) total 3\n"
     ]
    },
    {
     "name": "stderr",
     "output_type": "stream",
     "text": [
      "0it [00:00, ?it/s]"
     ]
    },
    {
     "name": "stdout",
     "output_type": "stream",
     "text": [
      "written 187259 bytes 27 entries\n",
      "min_stamp=1614600000 (2021-03-01T12:00:00Z), 321 existing entries\n",
      "sender='KT1Hkg5qeNhfwpKW4fXvq7HGZB9z2EnmCCA9', receiver=None 1 "
     ]
    },
    {
     "name": "stderr",
     "output_type": "stream",
     "text": [
      "\n"
     ]
    },
    {
     "name": "stdout",
     "output_type": "stream",
     "text": [
      "(458) 2 (0) total 318\n",
      "sender=None, receiver='KT1Hkg5qeNhfwpKW4fXvq7HGZB9z2EnmCCA9' 1 (318) 2 (0) total 318\n",
      "sender='KT1RJ6PbjHpwc3M5rw5s2Nbmefwbuwbdxton', receiver=None 1 (0) total 0\n",
      "sender=None, receiver='KT1RJ6PbjHpwc3M5rw5s2Nbmefwbuwbdxton' 1 (321) 2 (0) total 321\n",
      "sender='tz1UBZUkXpKGhYsP5KtzDNqLLchwF4uHrGjw', receiver=None 1 (3) 2 (0) total 3\n",
      "sender=None, receiver='tz1UBZUkXpKGhYsP5KtzDNqLLchwF4uHrGjw' 1 (35) 2 (0) total 35\n",
      "sender='KT1TybhR7XraG75JFYKSrh7KnxukMBT5dor6', receiver=None 1 (0) total 0\n",
      "sender=None, receiver='KT1TybhR7XraG75JFYKSrh7KnxukMBT5dor6' 1 (0) total 0\n",
      "sender='KT1AFA2mwNUMNd4SsujE1YYp29vd8BZejyKW', receiver=None 1 (0) total 0\n",
      "sender=None, receiver='KT1AFA2mwNUMNd4SsujE1YYp29vd8BZejyKW' 1 (35) 2 (0) total 35\n"
     ]
    },
    {
     "name": "stderr",
     "output_type": "stream",
     "text": [
      "0it [00:00, ?it/s]"
     ]
    },
    {
     "name": "stdout",
     "output_type": "stream",
     "text": [
      "written 1128442 bytes 321 entries\n",
      "min_stamp=1614700000 (2021-03-02T15:46:40Z), "
     ]
    },
    {
     "name": "stderr",
     "output_type": "stream",
     "text": [
      "\n"
     ]
    },
    {
     "name": "stdout",
     "output_type": "stream",
     "text": [
      "271 existing entries\n",
      "sender='KT1Hkg5qeNhfwpKW4fXvq7HGZB9z2EnmCCA9', receiver=None 1 (367) 2 (0) total 255\n",
      "sender=None, receiver='KT1Hkg5qeNhfwpKW4fXvq7HGZB9z2EnmCCA9' 1 (255) 2 (0) total 255\n",
      "sender='KT1RJ6PbjHpwc3M5rw5s2Nbmefwbuwbdxton', receiver=None 1 (0) total 0\n",
      "sender=None, receiver='KT1RJ6PbjHpwc3M5rw5s2Nbmefwbuwbdxton' 1 (268) 2 (0) total 268\n",
      "sender='tz1UBZUkXpKGhYsP5KtzDNqLLchwF4uHrGjw', receiver=None 1 (5) 2 (0) total 5\n",
      "sender=None, receiver='tz1UBZUkXpKGhYsP5KtzDNqLLchwF4uHrGjw' 1 (29) 2 (0) total 29\n",
      "sender='KT1TybhR7XraG75JFYKSrh7KnxukMBT5dor6', receiver=None 1 (0) total 0\n",
      "sender=None, receiver='KT1TybhR7XraG75JFYKSrh7KnxukMBT5dor6' 1 (0) total 0\n",
      "sender='KT1AFA2mwNUMNd4SsujE1YYp29vd8BZejyKW', receiver=None 1 (0) total 0\n",
      "sender=None, receiver='KT1AFA2mwNUMNd4SsujE1YYp29vd8BZejyKW' 1 (28) 2 (0) total 28\n"
     ]
    },
    {
     "name": "stderr",
     "output_type": "stream",
     "text": [
      "0it [00:00, ?it/s]"
     ]
    },
    {
     "name": "stdout",
     "output_type": "stream",
     "text": [
      "written 991383 bytes 271 entries\n",
      "min_stamp=1614800000 (2021-03-03T19:33:20Z), "
     ]
    },
    {
     "name": "stderr",
     "output_type": "stream",
     "text": [
      "\n"
     ]
    },
    {
     "name": "stdout",
     "output_type": "stream",
     "text": [
      "1129 existing entries\n",
      "sender='KT1Hkg5qeNhfwpKW4fXvq7HGZB9z2EnmCCA9', receiver=None 1 (1789) 2 (0) total 1025\n",
      "sender=None, receiver='KT1Hkg5qeNhfwpKW4fXvq7HGZB9z2EnmCCA9' 1 (1028) 2 (0) total 1028\n",
      "sender='KT1RJ6PbjHpwc3M5rw5s2Nbmefwbuwbdxton', receiver=None 1 (0) total 0\n",
      "sender=None, receiver='KT1RJ6PbjHpwc3M5rw5s2Nbmefwbuwbdxton' 1 (1122) 2 (0) total 1122\n",
      "sender='tz1UBZUkXpKGhYsP5KtzDNqLLchwF4uHrGjw', receiver=None 1 (10) 2 (0) total 10\n",
      "sender=None, receiver='tz1UBZUkXpKGhYsP5KtzDNqLLchwF4uHrGjw' 1 (191) 2 (0) total 191\n",
      "sender='KT1TybhR7XraG75JFYKSrh7KnxukMBT5dor6', receiver=None 1 (0) total 0\n",
      "sender=None, receiver='KT1TybhR7XraG75JFYKSrh7KnxukMBT5dor6' 1 (0) total 0\n",
      "sender='KT1AFA2mwNUMNd4SsujE1YYp29vd8BZejyKW', receiver=None 1 (0) total 0\n",
      "sender=None, receiver='KT1AFA2mwNUMNd4SsujE1YYp29vd8BZejyKW' 1 (191) 2 (0) total 191\n"
     ]
    },
    {
     "name": "stderr",
     "output_type": "stream",
     "text": [
      "0it [00:00, ?it/s]\n"
     ]
    },
    {
     "name": "stdout",
     "output_type": "stream",
     "text": [
      "written 4098921 bytes 1129 entries\n",
      "min_stamp=1614900000 (2021-03-04T23:20:00Z), 1232 existing entries\n",
      "sender='KT1Hkg5qeNhfwpKW4fXvq7HGZB9z2EnmCCA9', receiver=None 1 (2288) 2 (0) total 1152\n",
      "sender=None, receiver='KT1Hkg5qeNhfwpKW4fXvq7HGZB9z2EnmCCA9' 1 (1153) 2 (0) total 1153\n",
      "sender='KT1RJ6PbjHpwc3M5rw5s2Nbmefwbuwbdxton', receiver=None 1 (0) total 0\n",
      "sender=None, receiver='KT1RJ6PbjHpwc3M5rw5s2Nbmefwbuwbdxton' 1 (1230) 2 (0) total 1230\n",
      "sender='tz1UBZUkXpKGhYsP5KtzDNqLLchwF4uHrGjw', receiver=None 1 (8) 2 (0) total 8\n",
      "sender=None, receiver='tz1UBZUkXpKGhYsP5KtzDNqLLchwF4uHrGjw' 1 (285) 2 (0) total 285\n",
      "sender='KT1TybhR7XraG75JFYKSrh7KnxukMBT5dor6', receiver=None 1 (0) total 0\n",
      "sender=None, receiver='KT1TybhR7XraG75JFYKSrh7KnxukMBT5dor6' 1 (0) total 0\n",
      "sender='KT1AFA2mwNUMNd4SsujE1YYp29vd8BZejyKW', receiver=None 1 (0) total 0\n",
      "sender=None, receiver='KT1AFA2mwNUMNd4SsujE1YYp29vd8BZejyKW' 1 (284) 2 (0) total 284\n"
     ]
    },
    {
     "name": "stderr",
     "output_type": "stream",
     "text": [
      "0it [00:00, ?it/s]\n"
     ]
    },
    {
     "name": "stdout",
     "output_type": "stream",
     "text": [
      "written 4851965 bytes 1232 entries\n",
      "min_stamp=1615000000 (2021-03-06T03:06:40Z), 1687 existing entries\n",
      "sender='KT1Hkg5qeNhfwpKW4fXvq7HGZB9z2EnmCCA9', receiver=None 1 (3166) 2 (0) total 1634\n",
      "sender=None, receiver='KT1Hkg5qeNhfwpKW4fXvq7HGZB9z2EnmCCA9' 1 (1635) 2 (0) total 1635\n",
      "sender='KT1RJ6PbjHpwc3M5rw5s2Nbmefwbuwbdxton', receiver=None 1 (0) total 0\n",
      "sender=None, receiver='KT1RJ6PbjHpwc3M5rw5s2Nbmefwbuwbdxton' 1 (1685) 2 (0) total 1685\n",
      "sender='tz1UBZUkXpKGhYsP5KtzDNqLLchwF4uHrGjw', receiver=None 1 (15) 2 (0) total 15\n",
      "sender=None, receiver='tz1UBZUkXpKGhYsP5KtzDNqLLchwF4uHrGjw' 1 (383) 2 (0) total 383\n",
      "sender='KT1TybhR7XraG75JFYKSrh7KnxukMBT5dor6', receiver=None 1 (0) total 0\n",
      "sender=None, receiver='KT1TybhR7XraG75JFYKSrh7KnxukMBT5dor6' 1 (0) total 0\n",
      "sender='KT1AFA2mwNUMNd4SsujE1YYp29vd8BZejyKW', receiver=None 1 (0) total 0\n",
      "sender=None, receiver='KT1AFA2mwNUMNd4SsujE1YYp29vd8BZejyKW' 1 (384) 2 (0) total 384\n"
     ]
    },
    {
     "name": "stderr",
     "output_type": "stream",
     "text": [
      "0it [00:00, ?it/s]\n"
     ]
    },
    {
     "name": "stdout",
     "output_type": "stream",
     "text": [
      "written 6641184 bytes 1687 entries\n",
      "min_stamp=1615100000 (2021-03-07T06:53:20Z), 2112 existing entries\n",
      "sender='KT1Hkg5qeNhfwpKW4fXvq7HGZB9z2EnmCCA9', receiver=None 1 (4174) 2 (0) total 2042\n",
      "sender=None, receiver='KT1Hkg5qeNhfwpKW4fXvq7HGZB9z2EnmCCA9' 1 (2045) 2 (0) total 2045\n",
      "sender='KT1RJ6PbjHpwc3M5rw5s2Nbmefwbuwbdxton', receiver=None 1 (0) total 0\n",
      "sender=None, receiver='KT1RJ6PbjHpwc3M5rw5s2Nbmefwbuwbdxton' 1 (2108) 2 (0) total 2108\n",
      "sender='tz1UBZUkXpKGhYsP5KtzDNqLLchwF4uHrGjw', receiver=None 1 (15) 2 (0) total 15\n",
      "sender=None, receiver='tz1UBZUkXpKGhYsP5KtzDNqLLchwF4uHrGjw' 1 (533) 2 (0) total 533\n",
      "sender='KT1TybhR7XraG75JFYKSrh7KnxukMBT5dor6', receiver=None 1 (0) total 0\n",
      "sender=None, receiver='KT1TybhR7XraG75JFYKSrh7KnxukMBT5dor6' 1 (0) total 0\n",
      "sender='KT1AFA2mwNUMNd4SsujE1YYp29vd8BZejyKW', receiver=None 1 (0) total 0\n",
      "sender=None, receiver='KT1AFA2mwNUMNd4SsujE1YYp29vd8BZejyKW' 1 (533) 2 (0) total 533\n"
     ]
    },
    {
     "name": "stderr",
     "output_type": "stream",
     "text": [
      "0it [00:00, ?it/s]\n"
     ]
    },
    {
     "name": "stdout",
     "output_type": "stream",
     "text": [
      "written 8497930 bytes 2112 entries\n",
      "min_stamp=1615200000 (2021-03-08T10:40:00Z), 3386 existing entries\n",
      "sender='KT1Hkg5qeNhfwpKW4fXvq7HGZB9z2EnmCCA9', receiver=None 1 (7525) 2 (0) total 3333\n",
      "sender=None, receiver='KT1Hkg5qeNhfwpKW4fXvq7HGZB9z2EnmCCA9' 1 (3339) 2 (0) total 3339\n",
      "sender='KT1RJ6PbjHpwc3M5rw5s2Nbmefwbuwbdxton', receiver=None 1 (0) total 0\n",
      "sender=None, receiver='KT1RJ6PbjHpwc3M5rw5s2Nbmefwbuwbdxton' 1 (3379) 2 (0) total 3379\n",
      "sender='tz1UBZUkXpKGhYsP5KtzDNqLLchwF4uHrGjw', receiver=None 1 (10) 2 (0) total 10\n",
      "sender=None, receiver='tz1UBZUkXpKGhYsP5KtzDNqLLchwF4uHrGjw' 1 (1049) 2 (0) total 1049\n",
      "sender='KT1TybhR7XraG75JFYKSrh7KnxukMBT5dor6', receiver=None 1 (0) total 0\n",
      "sender=None, receiver='KT1TybhR7XraG75JFYKSrh7KnxukMBT5dor6' 1 (0) total 0\n",
      "sender='KT1AFA2mwNUMNd4SsujE1YYp29vd8BZejyKW', receiver=None 1 (0) total 0\n",
      "sender=None, receiver='KT1AFA2mwNUMNd4SsujE1YYp29vd8BZejyKW' 1 (1048) 2 (0) total 1048\n"
     ]
    },
    {
     "name": "stderr",
     "output_type": "stream",
     "text": [
      "0it [00:00, ?it/s]\n"
     ]
    },
    {
     "name": "stdout",
     "output_type": "stream",
     "text": [
      "written 14536198 bytes 3386 entries\n",
      "min_stamp=1615300000 (2021-03-09T14:26:40Z), 2901 existing entries\n",
      "sender='KT1Hkg5qeNhfwpKW4fXvq7HGZB9z2EnmCCA9', receiver=None 1 (5190) 2 (0) total 2830\n",
      "sender=None, receiver='KT1Hkg5qeNhfwpKW4fXvq7HGZB9z2EnmCCA9' 1 (2832) 2 (0) total 2832\n",
      "sender='KT1RJ6PbjHpwc3M5rw5s2Nbmefwbuwbdxton', receiver=None 1 (0) total 0\n",
      "sender=None, receiver='KT1RJ6PbjHpwc3M5rw5s2Nbmefwbuwbdxton' 1 (2899) 2 (0) total 2899\n",
      "sender='tz1UBZUkXpKGhYsP5KtzDNqLLchwF4uHrGjw', receiver=None 1 (7) 2 (0) total 7\n",
      "sender=None, receiver='tz1UBZUkXpKGhYsP5KtzDNqLLchwF4uHrGjw' 1 (590) 2 (0) total 590\n",
      "sender='KT1TybhR7XraG75JFYKSrh7KnxukMBT5dor6', receiver=None 1 (0) total 0\n",
      "sender=None, receiver='KT1TybhR7XraG75JFYKSrh7KnxukMBT5dor6' 1 (0) total 0\n",
      "sender='KT1AFA2mwNUMNd4SsujE1YYp29vd8BZejyKW', receiver=None 1 (0) total 0\n",
      "sender=None, receiver='KT1AFA2mwNUMNd4SsujE1YYp29vd8BZejyKW' 1 (590) 2 (0) total 590\n"
     ]
    },
    {
     "name": "stderr",
     "output_type": "stream",
     "text": [
      "0it [00:00, ?it/s]\n"
     ]
    },
    {
     "name": "stdout",
     "output_type": "stream",
     "text": [
      "written 11185802 bytes 2901 entries\n",
      "min_stamp=1615400000 (2021-03-10T18:13:20Z), 2884 existing entries\n",
      "sender='KT1Hkg5qeNhfwpKW4fXvq7HGZB9z2EnmCCA9', receiver=None 1 (5670) 2 (0) total 2798\n",
      "sender=None, receiver='KT1Hkg5qeNhfwpKW4fXvq7HGZB9z2EnmCCA9' 1 (2806) 2 (0) total 2806\n",
      "sender='KT1RJ6PbjHpwc3M5rw5s2Nbmefwbuwbdxton', receiver=None 1 (0) total 0\n",
      "sender=None, receiver='KT1RJ6PbjHpwc3M5rw5s2Nbmefwbuwbdxton' 1 (2875) 2 (0) total 2875\n",
      "sender='tz1UBZUkXpKGhYsP5KtzDNqLLchwF4uHrGjw', receiver=None 1 (15) 2 (0) total 15\n",
      "sender=None, receiver='tz1UBZUkXpKGhYsP5KtzDNqLLchwF4uHrGjw' 1 (719) 2 (0) total 719\n",
      "sender='KT1TybhR7XraG75JFYKSrh7KnxukMBT5dor6', receiver=None 1 (0) total 0\n",
      "sender=None, receiver='KT1TybhR7XraG75JFYKSrh7KnxukMBT5dor6' 1 (0) total 0\n",
      "sender='KT1AFA2mwNUMNd4SsujE1YYp29vd8BZejyKW', receiver=None 1 (0) total 0\n",
      "sender=None, receiver='KT1AFA2mwNUMNd4SsujE1YYp29vd8BZejyKW' 1 (718) 2 (0) total 718\n"
     ]
    },
    {
     "name": "stderr",
     "output_type": "stream",
     "text": [
      "0it [00:00, ?it/s]\n"
     ]
    },
    {
     "name": "stdout",
     "output_type": "stream",
     "text": [
      "written 11661953 bytes 2884 entries\n",
      "min_stamp=1615500000 (2021-03-11T22:00:00Z), 2208 existing entries\n",
      "sender='KT1Hkg5qeNhfwpKW4fXvq7HGZB9z2EnmCCA9', receiver=None 1 (4225) 2 (0) total 2177\n",
      "sender=None, receiver='KT1Hkg5qeNhfwpKW4fXvq7HGZB9z2EnmCCA9' 1 (2179) 2 (0) total 2179\n",
      "sender='KT1RJ6PbjHpwc3M5rw5s2Nbmefwbuwbdxton', receiver=None 1 (0) total 0\n",
      "sender=None, receiver='KT1RJ6PbjHpwc3M5rw5s2Nbmefwbuwbdxton' 1 (2206) 2 (0) total 2206\n",
      "sender='tz1UBZUkXpKGhYsP5KtzDNqLLchwF4uHrGjw', receiver=None 1 (8) 2 (0) total 8\n",
      "sender=None, receiver='tz1UBZUkXpKGhYsP5KtzDNqLLchwF4uHrGjw' 1 (512) 2 (0) total 512\n",
      "sender='KT1TybhR7XraG75JFYKSrh7KnxukMBT5dor6', receiver=None 1 (0) total 0\n",
      "sender=None, receiver='KT1TybhR7XraG75JFYKSrh7KnxukMBT5dor6' 1 (0) total 0\n",
      "sender='KT1AFA2mwNUMNd4SsujE1YYp29vd8BZejyKW', receiver=None 1 (0) total 0\n",
      "sender=None, receiver='KT1AFA2mwNUMNd4SsujE1YYp29vd8BZejyKW' 1 (512) 2 (0) total 512\n"
     ]
    },
    {
     "name": "stderr",
     "output_type": "stream",
     "text": [
      "0it [00:00, ?it/s]\n"
     ]
    },
    {
     "name": "stdout",
     "output_type": "stream",
     "text": [
      "written 8795118 bytes 2208 entries\n",
      "min_stamp=1615600000 (2021-03-13T01:46:40Z), 2159 existing entries\n",
      "sender='KT1Hkg5qeNhfwpKW4fXvq7HGZB9z2EnmCCA9', receiver=None 1 (4313) 2 (0) total 2125\n",
      "sender=None, receiver='KT1Hkg5qeNhfwpKW4fXvq7HGZB9z2EnmCCA9' 1 (2127) 2 (0) total 2127\n",
      "sender='KT1RJ6PbjHpwc3M5rw5s2Nbmefwbuwbdxton', receiver=None 1 (0) total 0\n",
      "sender=None, receiver='KT1RJ6PbjHpwc3M5rw5s2Nbmefwbuwbdxton' 1 (2153) 2 (0) total 2153\n",
      "sender='tz1UBZUkXpKGhYsP5KtzDNqLLchwF4uHrGjw', receiver=None 1 (5) 2 (0) total 5\n",
      "sender=None, receiver='tz1UBZUkXpKGhYsP5KtzDNqLLchwF4uHrGjw' 1 (546) 2 (0) total 546\n",
      "sender='KT1TybhR7XraG75JFYKSrh7KnxukMBT5dor6', receiver=None 1 (0) total 0\n",
      "sender=None, receiver='KT1TybhR7XraG75JFYKSrh7KnxukMBT5dor6' 1 (4) 2 (0) total 4\n",
      "sender='KT1AFA2mwNUMNd4SsujE1YYp29vd8BZejyKW', receiver=None 1 (0) total 0\n",
      "sender=None, receiver='KT1AFA2mwNUMNd4SsujE1YYp29vd8BZejyKW' 1 (550) 2 (0) total 550\n"
     ]
    },
    {
     "name": "stderr",
     "output_type": "stream",
     "text": [
      "0it [00:00, ?it/s]\n"
     ]
    },
    {
     "name": "stdout",
     "output_type": "stream",
     "text": [
      "written 8743760 bytes 2159 entries\n",
      "min_stamp=1615700000 (2021-03-14T05:33:20Z), 1594 existing entries\n",
      "sender='KT1Hkg5qeNhfwpKW4fXvq7HGZB9z2EnmCCA9', receiver=None 1 (3286) 2 (0) total 1540\n",
      "sender=None, receiver='KT1Hkg5qeNhfwpKW4fXvq7HGZB9z2EnmCCA9' 1 (1540) 2 (0) total 1540\n",
      "sender='KT1RJ6PbjHpwc3M5rw5s2Nbmefwbuwbdxton', receiver=None 1 (0) total 0\n",
      "sender=None, receiver='KT1RJ6PbjHpwc3M5rw5s2Nbmefwbuwbdxton' 1 (1539) 2 (0) total 1539\n",
      "sender='tz1UBZUkXpKGhYsP5KtzDNqLLchwF4uHrGjw', receiver=None 1 (12) 2 (0) total 12\n",
      "sender=None, receiver='tz1UBZUkXpKGhYsP5KtzDNqLLchwF4uHrGjw' 1 (424) 2 (0) total 424\n",
      "sender='KT1TybhR7XraG75JFYKSrh7KnxukMBT5dor6', receiver=None 1 (0) total 0\n",
      "sender=None, receiver='KT1TybhR7XraG75JFYKSrh7KnxukMBT5dor6' 1 (54) 2 (0) total 54\n",
      "sender='KT1AFA2mwNUMNd4SsujE1YYp29vd8BZejyKW', receiver=None 1 (0) total 0\n",
      "sender=None, receiver='KT1AFA2mwNUMNd4SsujE1YYp29vd8BZejyKW' 1 (477) 2 (0) total 477\n"
     ]
    },
    {
     "name": "stderr",
     "output_type": "stream",
     "text": [
      "0it [00:00, ?it/s]\n"
     ]
    },
    {
     "name": "stdout",
     "output_type": "stream",
     "text": [
      "written 6608675 bytes 1594 entries\n",
      "min_stamp=1615800000 (2021-03-15T09:20:00Z), 885 existing entries\n",
      "sender='KT1Hkg5qeNhfwpKW4fXvq7HGZB9z2EnmCCA9', receiver=None 1 (1856) 2 (0) total 856\n",
      "sender=None, receiver='KT1Hkg5qeNhfwpKW4fXvq7HGZB9z2EnmCCA9' 1 (856) 2 (0) total 856\n",
      "sender='KT1RJ6PbjHpwc3M5rw5s2Nbmefwbuwbdxton', receiver=None 1 (0) total 0\n",
      "sender=None, receiver='KT1RJ6PbjHpwc3M5rw5s2Nbmefwbuwbdxton' 1 (848) 2 (0) total 848\n",
      "sender='tz1UBZUkXpKGhYsP5KtzDNqLLchwF4uHrGjw', receiver=None 1 (2) 2 (0) total 2\n",
      "sender=None, receiver='tz1UBZUkXpKGhYsP5KtzDNqLLchwF4uHrGjw' 1 (241) 2 (0) total 241\n",
      "sender='KT1TybhR7XraG75JFYKSrh7KnxukMBT5dor6', receiver=None 1 (0) total 0\n",
      "sender=None, receiver='KT1TybhR7XraG75JFYKSrh7KnxukMBT5dor6' 1 (36) 2 (0) total 36\n",
      "sender='KT1AFA2mwNUMNd4SsujE1YYp29vd8BZejyKW', receiver=None 1 (0) total 0\n",
      "sender=None, receiver='KT1AFA2mwNUMNd4SsujE1YYp29vd8BZejyKW' 1 (278) 2 (0) total 278\n"
     ]
    },
    {
     "name": "stderr",
     "output_type": "stream",
     "text": [
      "0it [00:00, ?it/s]\n"
     ]
    },
    {
     "name": "stdout",
     "output_type": "stream",
     "text": [
      "written 3672855 bytes 885 entries\n",
      "min_stamp=1615900000 (2021-03-16T13:06:40Z), 2782 existing entries\n",
      "sender='KT1Hkg5qeNhfwpKW4fXvq7HGZB9z2EnmCCA9', receiver=None 1 (6766) 2 (0) total 2704\n",
      "sender=None, receiver='KT1Hkg5qeNhfwpKW4fXvq7HGZB9z2EnmCCA9' 1 (2705) 2 (0) total 2705\n",
      "sender='KT1RJ6PbjHpwc3M5rw5s2Nbmefwbuwbdxton', receiver=None 1 (0) total 0\n",
      "sender=None, receiver='KT1RJ6PbjHpwc3M5rw5s2Nbmefwbuwbdxton' 1 (2660) 2 (0) total 2660\n",
      "sender='tz1UBZUkXpKGhYsP5KtzDNqLLchwF4uHrGjw', receiver=None 1 (2) 2 (0) total 2\n",
      "sender=None, receiver='tz1UBZUkXpKGhYsP5KtzDNqLLchwF4uHrGjw' 1 (987) 2 (0) total 987\n",
      "sender='KT1TybhR7XraG75JFYKSrh7KnxukMBT5dor6', receiver=None 1 (0) total 0\n",
      "sender=None, receiver='KT1TybhR7XraG75JFYKSrh7KnxukMBT5dor6' 1 (118) 2 (0) total 118\n",
      "sender='KT1AFA2mwNUMNd4SsujE1YYp29vd8BZejyKW', receiver=None 1 (0) total 0\n",
      "sender=None, receiver='KT1AFA2mwNUMNd4SsujE1YYp29vd8BZejyKW' 1 (1106) 2 (0) total 1106\n"
     ]
    },
    {
     "name": "stderr",
     "output_type": "stream",
     "text": [
      "0it [00:00, ?it/s]\n"
     ]
    },
    {
     "name": "stdout",
     "output_type": "stream",
     "text": [
      "written 12520922 bytes 2782 entries\n",
      "min_stamp=1616000000 (2021-03-17T16:53:20Z), 3159 existing entries\n",
      "sender='KT1Hkg5qeNhfwpKW4fXvq7HGZB9z2EnmCCA9', receiver=None 1 (7309) 2 (0) total 3033\n",
      "sender=None, receiver='KT1Hkg5qeNhfwpKW4fXvq7HGZB9z2EnmCCA9' 1 (3035) 2 (0) total 3035\n",
      "sender='KT1RJ6PbjHpwc3M5rw5s2Nbmefwbuwbdxton', receiver=None 1 (0) total 0\n",
      "sender=None, receiver='KT1RJ6PbjHpwc3M5rw5s2Nbmefwbuwbdxton' 1 (3069) 2 (0) total 3069\n",
      "sender='tz1UBZUkXpKGhYsP5KtzDNqLLchwF4uHrGjw', receiver=None 1 (11) 2 (0) total 11\n",
      "sender=None, receiver='tz1UBZUkXpKGhYsP5KtzDNqLLchwF4uHrGjw' 1 (1049) 2 (0) total 1047\n",
      "sender='KT1TybhR7XraG75JFYKSrh7KnxukMBT5dor6', receiver=None 1 (0) total 0\n",
      "sender=None, receiver='KT1TybhR7XraG75JFYKSrh7KnxukMBT5dor6' 1 (88) 2 (0) total 88\n",
      "sender='KT1AFA2mwNUMNd4SsujE1YYp29vd8BZejyKW', receiver=None 1 (0) total 0\n",
      "sender=None, receiver='KT1AFA2mwNUMNd4SsujE1YYp29vd8BZejyKW' 1 (1135) 2 (0) total 1135\n"
     ]
    },
    {
     "name": "stderr",
     "output_type": "stream",
     "text": [
      "0it [00:00, ?it/s]\n"
     ]
    },
    {
     "name": "stdout",
     "output_type": "stream",
     "text": [
      "written 13752123 bytes 3159 entries\n",
      "min_stamp=1616100000 (2021-03-18T20:40:00Z), 3499 existing entries\n",
      "sender='KT1Hkg5qeNhfwpKW4fXvq7HGZB9z2EnmCCA9', receiver=None 1 (8107) 2 (0) total 3333\n",
      "sender=None, receiver='KT1Hkg5qeNhfwpKW4fXvq7HGZB9z2EnmCCA9' 1 (3336) 2 (0) total 3336\n",
      "sender='KT1RJ6PbjHpwc3M5rw5s2Nbmefwbuwbdxton', receiver=None 1 (0) total 0\n",
      "sender=None, receiver='KT1RJ6PbjHpwc3M5rw5s2Nbmefwbuwbdxton' 1 (3408) 2 (0) total 3408\n",
      "sender='tz1UBZUkXpKGhYsP5KtzDNqLLchwF4uHrGjw', receiver=None 1 (3) 2 (0) total 3\n",
      "sender=None, receiver='tz1UBZUkXpKGhYsP5KtzDNqLLchwF4uHrGjw' 1 (1172) 2 (0) total 1172\n",
      "sender='KT1TybhR7XraG75JFYKSrh7KnxukMBT5dor6', receiver=None 1 (0) total 0\n",
      "sender=None, receiver='KT1TybhR7XraG75JFYKSrh7KnxukMBT5dor6' 1 (86) 2 (0) total 86\n",
      "sender='KT1AFA2mwNUMNd4SsujE1YYp29vd8BZejyKW', receiver=None 1 (0) total 0\n",
      "sender=None, receiver='KT1AFA2mwNUMNd4SsujE1YYp29vd8BZejyKW' 1 (1260) 2 (0) total 1260\n"
     ]
    },
    {
     "name": "stderr",
     "output_type": "stream",
     "text": [
      "0it [00:00, ?it/s]\n"
     ]
    },
    {
     "name": "stdout",
     "output_type": "stream",
     "text": [
      "written 15194452 bytes 3499 entries\n",
      "min_stamp=1616200000 (2021-03-20T00:26:40Z), 3172 existing entries\n",
      "sender='KT1Hkg5qeNhfwpKW4fXvq7HGZB9z2EnmCCA9', receiver=None 1 (7581) 2 (0) total 3038\n",
      "sender=None, receiver='KT1Hkg5qeNhfwpKW4fXvq7HGZB9z2EnmCCA9' 1 (3040) 2 (0) total 3040\n",
      "sender='KT1RJ6PbjHpwc3M5rw5s2Nbmefwbuwbdxton', receiver=None 1 (0) total 0\n",
      "sender=None, receiver='KT1RJ6PbjHpwc3M5rw5s2Nbmefwbuwbdxton' 1 (3115) 2 (0) total 3115\n",
      "sender='tz1UBZUkXpKGhYsP5KtzDNqLLchwF4uHrGjw', receiver=None 1 (0) total 0\n",
      "sender=None, receiver='tz1UBZUkXpKGhYsP5KtzDNqLLchwF4uHrGjw' 1 (1122) 2 (0) total 1122\n",
      "sender='KT1TybhR7XraG75JFYKSrh7KnxukMBT5dor6', receiver=None 1 (0) total 0\n",
      "sender=None, receiver='KT1TybhR7XraG75JFYKSrh7KnxukMBT5dor6' 1 (55) 2 (0) total 55\n",
      "sender='KT1AFA2mwNUMNd4SsujE1YYp29vd8BZejyKW', receiver=None 1 (0) total 0\n",
      "sender=None, receiver='KT1AFA2mwNUMNd4SsujE1YYp29vd8BZejyKW' 1 (1177) 2 (0) total 1177\n"
     ]
    },
    {
     "name": "stderr",
     "output_type": "stream",
     "text": [
      "0it [00:00, ?it/s]\n"
     ]
    },
    {
     "name": "stdout",
     "output_type": "stream",
     "text": [
      "written 14013686 bytes 3172 entries\n",
      "min_stamp=1616300000 (2021-03-21T04:13:20Z), 3451 existing entries\n",
      "sender='KT1Hkg5qeNhfwpKW4fXvq7HGZB9z2EnmCCA9', receiver=None 1 (8675) 2 (0) total 3339\n",
      "sender=None, receiver='KT1Hkg5qeNhfwpKW4fXvq7HGZB9z2EnmCCA9' 1 (3340) 2 (0) total 3340\n",
      "sender='KT1RJ6PbjHpwc3M5rw5s2Nbmefwbuwbdxton', receiver=None 1 (0) total 0\n",
      "sender=None, receiver='KT1RJ6PbjHpwc3M5rw5s2Nbmefwbuwbdxton' 1 (3397) 2 (0) total 3397\n",
      "sender='tz1UBZUkXpKGhYsP5KtzDNqLLchwF4uHrGjw', receiver=None 1 (3) 2 (0) total 3\n",
      "sender=None, receiver='tz1UBZUkXpKGhYsP5KtzDNqLLchwF4uHrGjw' 1 (1321) 2 (0) total 1321\n",
      "sender='KT1TybhR7XraG75JFYKSrh7KnxukMBT5dor6', receiver=None 1 (0) total 0\n",
      "sender=None, receiver='KT1TybhR7XraG75JFYKSrh7KnxukMBT5dor6' 1 (52) 2 (0) total 52\n",
      "sender='KT1AFA2mwNUMNd4SsujE1YYp29vd8BZejyKW', receiver=None 1 (0) total 0\n",
      "sender=None, receiver='KT1AFA2mwNUMNd4SsujE1YYp29vd8BZejyKW' 1 (1374) 2 (0) total 1374\n"
     ]
    },
    {
     "name": "stderr",
     "output_type": "stream",
     "text": [
      "0it [00:00, ?it/s]\n"
     ]
    },
    {
     "name": "stdout",
     "output_type": "stream",
     "text": [
      "written 15699469 bytes 3451 entries\n",
      "min_stamp=1616400000 (2021-03-22T08:00:00Z), 4509 existing entries\n",
      "sender='KT1Hkg5qeNhfwpKW4fXvq7HGZB9z2EnmCCA9', receiver=None 1 (10893) 2 (0) total 4354\n",
      "sender=None, receiver='KT1Hkg5qeNhfwpKW4fXvq7HGZB9z2EnmCCA9' 1 (4356) 2 (0) total 4356\n",
      "sender='KT1RJ6PbjHpwc3M5rw5s2Nbmefwbuwbdxton', receiver=None 1 (0) total 0\n",
      "sender=None, receiver='KT1RJ6PbjHpwc3M5rw5s2Nbmefwbuwbdxton' 1 (4258) 2 (0) total 4258\n",
      "sender='tz1UBZUkXpKGhYsP5KtzDNqLLchwF4uHrGjw', receiver=None 1 (3) 2 (0) total 3\n",
      "sender=None, receiver='tz1UBZUkXpKGhYsP5KtzDNqLLchwF4uHrGjw' 1 (1573) 2 (0) total 1573\n",
      "sender='KT1TybhR7XraG75JFYKSrh7KnxukMBT5dor6', receiver=None 1 (0) total 0\n",
      "sender=None, receiver='KT1TybhR7XraG75JFYKSrh7KnxukMBT5dor6' 1 (247) 2 (0) total 247\n",
      "sender='KT1AFA2mwNUMNd4SsujE1YYp29vd8BZejyKW', receiver=None 1 (0) total 0\n",
      "sender=None, receiver='KT1AFA2mwNUMNd4SsujE1YYp29vd8BZejyKW' 1 (1820) 2 (0) total 1820\n"
     ]
    },
    {
     "name": "stderr",
     "output_type": "stream",
     "text": [
      "0it [00:00, ?it/s]\n"
     ]
    },
    {
     "name": "stdout",
     "output_type": "stream",
     "text": [
      "written 20107848 bytes 4509 entries\n",
      "min_stamp=1616500000 (2021-03-23T11:46:40Z), 3804 existing entries\n",
      "sender='KT1Hkg5qeNhfwpKW4fXvq7HGZB9z2EnmCCA9', receiver=None 1 (8214) 2 (0) total 3713\n",
      "sender=None, receiver='KT1Hkg5qeNhfwpKW4fXvq7HGZB9z2EnmCCA9' 1 (3714) 2 (0) total 3714\n",
      "sender='KT1RJ6PbjHpwc3M5rw5s2Nbmefwbuwbdxton', receiver=None 1 (0) total 0\n",
      "sender=None, receiver='KT1RJ6PbjHpwc3M5rw5s2Nbmefwbuwbdxton' 1 (3497) 2 (0) total 3497\n",
      "sender='tz1UBZUkXpKGhYsP5KtzDNqLLchwF4uHrGjw', receiver=None 1 (3) 2 (0) total 3\n",
      "sender=None, receiver='tz1UBZUkXpKGhYsP5KtzDNqLLchwF4uHrGjw' 1 (1051) 2 (0) total 1051\n",
      "sender='KT1TybhR7XraG75JFYKSrh7KnxukMBT5dor6', receiver=None 1 (0) total 0\n",
      "sender=None, receiver='KT1TybhR7XraG75JFYKSrh7KnxukMBT5dor6' 1 (301) 2 (0) total 301\n",
      "sender='KT1AFA2mwNUMNd4SsujE1YYp29vd8BZejyKW', receiver=None 1 (0) total 0\n",
      "sender=None, receiver='KT1AFA2mwNUMNd4SsujE1YYp29vd8BZejyKW' 1 (1354) 2 (0) total 1354\n"
     ]
    },
    {
     "name": "stderr",
     "output_type": "stream",
     "text": [
      "0it [00:00, ?it/s]\n"
     ]
    },
    {
     "name": "stdout",
     "output_type": "stream",
     "text": [
      "written 16097471 bytes 3804 entries\n",
      "min_stamp=1616600000 (2021-03-24T15:33:20Z), 4477 existing entries\n",
      "sender='KT1Hkg5qeNhfwpKW4fXvq7HGZB9z2EnmCCA9', receiver=None 1 (9984) 2 (0) total 4203\n",
      "sender=None, receiver='KT1Hkg5qeNhfwpKW4fXvq7HGZB9z2EnmCCA9' 1 (4203) 2 (0) total 4203\n",
      "sender='KT1RJ6PbjHpwc3M5rw5s2Nbmefwbuwbdxton', receiver=None 1 (0) total 0\n",
      "sender=None, receiver='KT1RJ6PbjHpwc3M5rw5s2Nbmefwbuwbdxton' 1 (4066) 2 (0) total 4066\n",
      "sender='tz1UBZUkXpKGhYsP5KtzDNqLLchwF4uHrGjw', receiver=None 1 (0) total 0\n",
      "sender=None, receiver='tz1UBZUkXpKGhYsP5KtzDNqLLchwF4uHrGjw' 1 (1344) 2 (0) total 1344\n",
      "sender='KT1TybhR7XraG75JFYKSrh7KnxukMBT5dor6', receiver=None 1 (0) total 0\n",
      "sender=None, receiver='KT1TybhR7XraG75JFYKSrh7KnxukMBT5dor6' 1 (409) 2 (0) total 409\n",
      "sender='KT1AFA2mwNUMNd4SsujE1YYp29vd8BZejyKW', receiver=None 1 (0) total 0\n",
      "sender=None, receiver='KT1AFA2mwNUMNd4SsujE1YYp29vd8BZejyKW' 1 (1753) 2 (0) total 1753\n"
     ]
    },
    {
     "name": "stderr",
     "output_type": "stream",
     "text": [
      "0it [00:00, ?it/s]\n"
     ]
    },
    {
     "name": "stdout",
     "output_type": "stream",
     "text": [
      "written 19203614 bytes 4477 entries\n",
      "min_stamp=1616700000 (2021-03-25T19:20:00Z), 9853 existing entries\n",
      "sender='KT1Hkg5qeNhfwpKW4fXvq7HGZB9z2EnmCCA9', receiver=None 1 (15764) 2 (0) total 9658\n",
      "sender=None, receiver='KT1Hkg5qeNhfwpKW4fXvq7HGZB9z2EnmCCA9' 1 (9672) 2 (0) total 9672\n",
      "sender='KT1RJ6PbjHpwc3M5rw5s2Nbmefwbuwbdxton', receiver=None 1 (0) total 0\n",
      "sender=None, receiver='KT1RJ6PbjHpwc3M5rw5s2Nbmefwbuwbdxton' 1 (9536) 2 (0) total 9536\n",
      "sender='tz1UBZUkXpKGhYsP5KtzDNqLLchwF4uHrGjw', receiver=None 1 (1) 2 (0) total 1\n",
      "sender=None, receiver='tz1UBZUkXpKGhYsP5KtzDNqLLchwF4uHrGjw' 1 (1452) 2 (0) total 1452\n",
      "sender='KT1TybhR7XraG75JFYKSrh7KnxukMBT5dor6', receiver=None 1 (0) total 0\n",
      "sender=None, receiver='KT1TybhR7XraG75JFYKSrh7KnxukMBT5dor6' 1 (302) 2 (0) total 302\n",
      "sender='KT1AFA2mwNUMNd4SsujE1YYp29vd8BZejyKW', receiver=None 1 (0) total 0\n",
      "sender=None, receiver='KT1AFA2mwNUMNd4SsujE1YYp29vd8BZejyKW' 1 (1753) 2 (0) total 1753\n"
     ]
    },
    {
     "name": "stderr",
     "output_type": "stream",
     "text": [
      "0it [00:00, ?it/s]\n"
     ]
    },
    {
     "name": "stdout",
     "output_type": "stream",
     "text": [
      "written 36162098 bytes 9853 entries\n",
      "min_stamp=1616800000 (2021-03-26T23:06:40Z), 14038 existing entries\n",
      "sender='KT1Hkg5qeNhfwpKW4fXvq7HGZB9z2EnmCCA9', receiver=None 1 (20324) 2 (0) total 13803\n",
      "sender=None, receiver='KT1Hkg5qeNhfwpKW4fXvq7HGZB9z2EnmCCA9' 1 (13815) 2 (0) total 13815\n",
      "sender='KT1RJ6PbjHpwc3M5rw5s2Nbmefwbuwbdxton', receiver=None 1 (0) total 0\n",
      "sender=None, receiver='KT1RJ6PbjHpwc3M5rw5s2Nbmefwbuwbdxton' 1 (13837) 2 (0) total 13837\n",
      "sender='tz1UBZUkXpKGhYsP5KtzDNqLLchwF4uHrGjw', receiver=None 1 (2) 2 (0) total 2\n",
      "sender=None, receiver='tz1UBZUkXpKGhYsP5KtzDNqLLchwF4uHrGjw' 1 (1584) 2 (0) total 1584\n",
      "sender='KT1TybhR7XraG75JFYKSrh7KnxukMBT5dor6', receiver=None 1 (0) total 0\n",
      "sender=None, receiver='KT1TybhR7XraG75JFYKSrh7KnxukMBT5dor6' 1 (185) 2 (0) total 185\n",
      "sender='KT1AFA2mwNUMNd4SsujE1YYp29vd8BZejyKW', receiver=None 1 (0) total 0\n",
      "sender=None, receiver='KT1AFA2mwNUMNd4SsujE1YYp29vd8BZejyKW' 1 (1773) 2 (0) total 1773\n"
     ]
    },
    {
     "name": "stderr",
     "output_type": "stream",
     "text": [
      "0it [00:00, ?it/s]\n"
     ]
    },
    {
     "name": "stdout",
     "output_type": "stream",
     "text": [
      "written 49217678 bytes 14038 entries\n",
      "min_stamp=1616900000 (2021-03-28T02:53:20Z), 13182 existing entries\n",
      "sender='KT1Hkg5qeNhfwpKW4fXvq7HGZB9z2EnmCCA9', receiver=None 1 (20128) 2 (0) total 12854\n",
      "sender=None, receiver='KT1Hkg5qeNhfwpKW4fXvq7HGZB9z2EnmCCA9' 1 (13002) 2 (0) total 12865\n",
      "sender='KT1RJ6PbjHpwc3M5rw5s2Nbmefwbuwbdxton', receiver=None 1 (0) total 0\n",
      "sender=None, receiver='KT1RJ6PbjHpwc3M5rw5s2Nbmefwbuwbdxton' 1 (13129) 2 (0) total 12994\n",
      "sender='tz1UBZUkXpKGhYsP5KtzDNqLLchwF4uHrGjw', receiver=None 1 (6) 2 (0) total 6\n",
      "sender=None, receiver='tz1UBZUkXpKGhYsP5KtzDNqLLchwF4uHrGjw' 1 (1743) 2 (0) total 1743\n",
      "sender='KT1TybhR7XraG75JFYKSrh7KnxukMBT5dor6', receiver=None 1 (0) total 0\n",
      "sender=None, receiver='KT1TybhR7XraG75JFYKSrh7KnxukMBT5dor6' 1 (171) 2 (0) total 171\n",
      "sender='KT1AFA2mwNUMNd4SsujE1YYp29vd8BZejyKW', receiver=None 1 (0) total 0\n",
      "sender=None, receiver='KT1AFA2mwNUMNd4SsujE1YYp29vd8BZejyKW' 1 (1917) 2 (0) total 1917\n"
     ]
    },
    {
     "name": "stderr",
     "output_type": "stream",
     "text": [
      "0it [00:00, ?it/s]\n"
     ]
    },
    {
     "name": "stdout",
     "output_type": "stream",
     "text": [
      "written 47498343 bytes 13182 entries\n",
      "min_stamp=1617000000 (2021-03-29T06:40:00Z), 8976 existing entries\n",
      "sender='KT1Hkg5qeNhfwpKW4fXvq7HGZB9z2EnmCCA9', receiver=None 1 (16027) 2 (0) total 8578\n",
      "sender=None, receiver='KT1Hkg5qeNhfwpKW4fXvq7HGZB9z2EnmCCA9' 1 (8746) 2 (0) total 8592\n",
      "sender='KT1RJ6PbjHpwc3M5rw5s2Nbmefwbuwbdxton', receiver=None 1 (0) total 0\n",
      "sender=None, receiver='KT1RJ6PbjHpwc3M5rw5s2Nbmefwbuwbdxton' 1 (8828) 2 (0) total 8697\n",
      "sender='tz1UBZUkXpKGhYsP5KtzDNqLLchwF4uHrGjw', receiver=None 1 (1) 2 (0) total 1\n",
      "sender=None, receiver='tz1UBZUkXpKGhYsP5KtzDNqLLchwF4uHrGjw' 1 (1765) 2 (0) total 1765\n",
      "sender='KT1TybhR7XraG75JFYKSrh7KnxukMBT5dor6', receiver=None 1 (0) total 0\n",
      "sender=None, receiver='KT1TybhR7XraG75JFYKSrh7KnxukMBT5dor6' 1 (258) 2 (0) total 258\n",
      "sender='KT1AFA2mwNUMNd4SsujE1YYp29vd8BZejyKW', receiver=None 1 (0) total 0\n",
      "sender=None, receiver='KT1AFA2mwNUMNd4SsujE1YYp29vd8BZejyKW' 1 (2029) 2 (0) total 2029\n"
     ]
    },
    {
     "name": "stderr",
     "output_type": "stream",
     "text": [
      "0it [00:00, ?it/s]\n"
     ]
    },
    {
     "name": "stdout",
     "output_type": "stream",
     "text": [
      "written 34604481 bytes 8976 entries\n",
      "min_stamp=1617100000 (2021-03-30T10:26:40Z), 9963 existing entries\n",
      "sender='KT1Hkg5qeNhfwpKW4fXvq7HGZB9z2EnmCCA9', receiver=None 1 (20179) 2 (0) total 9678\n",
      "sender=None, receiver='KT1Hkg5qeNhfwpKW4fXvq7HGZB9z2EnmCCA9' 1 (9946) 2 (0) total 9698\n",
      "sender='KT1RJ6PbjHpwc3M5rw5s2Nbmefwbuwbdxton', receiver=None 1 (0) total 0\n",
      "sender=None, receiver='KT1RJ6PbjHpwc3M5rw5s2Nbmefwbuwbdxton' 1 (9539) 2 (0) total 9362\n",
      "sender='tz1UBZUkXpKGhYsP5KtzDNqLLchwF4uHrGjw', receiver=None 1 (1) 2 (0) total 1\n",
      "sender=None, receiver='tz1UBZUkXpKGhYsP5KtzDNqLLchwF4uHrGjw' 1 (2439) 2 (0) total 2439\n",
      "sender='KT1TybhR7XraG75JFYKSrh7KnxukMBT5dor6', receiver=None 1 (0) total 0\n",
      "sender=None, receiver='KT1TybhR7XraG75JFYKSrh7KnxukMBT5dor6' 1 (568) 2 (0) total 568\n",
      "sender='KT1AFA2mwNUMNd4SsujE1YYp29vd8BZejyKW', receiver=None 1 (0) total 0\n",
      "sender=None, receiver='KT1AFA2mwNUMNd4SsujE1YYp29vd8BZejyKW' 1 (3022) 2 (0) total 3020\n"
     ]
    },
    {
     "name": "stderr",
     "output_type": "stream",
     "text": [
      "0it [00:00, ?it/s]\n"
     ]
    },
    {
     "name": "stdout",
     "output_type": "stream",
     "text": [
      "written 40893808 bytes 9963 entries\n",
      "min_stamp=1617200000 (2021-03-31T14:13:20Z), 2801 existing entries\n",
      "sender='KT1Hkg5qeNhfwpKW4fXvq7HGZB9z2EnmCCA9', receiver=None 1 (7317) 2 (0) total 3293\n",
      "sender=None, receiver='KT1Hkg5qeNhfwpKW4fXvq7HGZB9z2EnmCCA9' 1 (3392) 2 (0) total 3302\n",
      "sender='KT1RJ6PbjHpwc3M5rw5s2Nbmefwbuwbdxton', receiver=None 1 (0) total 0\n",
      "sender=None, receiver='KT1RJ6PbjHpwc3M5rw5s2Nbmefwbuwbdxton' 1 (3269) 2 (0) total 3190\n",
      "sender='tz1UBZUkXpKGhYsP5KtzDNqLLchwF4uHrGjw', receiver=None 1 (1) 2 (0) total 1\n",
      "sender=None, receiver='tz1UBZUkXpKGhYsP5KtzDNqLLchwF4uHrGjw' 1 (942) 2 (0) total 942\n",
      "sender='KT1TybhR7XraG75JFYKSrh7KnxukMBT5dor6', receiver=None 1 (0) total 0\n",
      "sender=None, receiver='KT1TybhR7XraG75JFYKSrh7KnxukMBT5dor6' 1 (181) 2 (0) total 181\n",
      "sender='KT1AFA2mwNUMNd4SsujE1YYp29vd8BZejyKW', receiver=None 1 (0) total 0\n",
      "sender=None, receiver='KT1AFA2mwNUMNd4SsujE1YYp29vd8BZejyKW' 1 (1586) 2 (0) total 1324\n"
     ]
    },
    {
     "name": "stderr",
     "output_type": "stream",
     "text": [
      "100%|████████████████████████████████████████████████████████████████████████████████████████████████████████████████████████████████████████████████| 783/783 [07:09<00:00,  1.82it/s]\n"
     ]
    },
    {
     "name": "stdout",
     "output_type": "stream",
     "text": [
      "written 15564506 bytes 3584 entries\n"
     ]
    }
   ],
   "source": [
    "update_transactions_cache(config, force_check=True)"
   ]
  },
  {
   "cell_type": "code",
   "execution_count": 29,
   "metadata": {},
   "outputs": [
    {
     "name": "stderr",
     "output_type": "stream",
     "text": [
      "  0%|                                                                                                                                                           | 0/28 [00:00<?, ?it/s]\n"
     ]
    },
    {
     "ename": "AssertionError",
     "evalue": "",
     "output_type": "error",
     "traceback": [
      "\u001b[1;31m---------------------------------------------------------------------------\u001b[0m",
      "\u001b[1;31mAssertionError\u001b[0m                            Traceback (most recent call last)",
      "\u001b[1;32mD:\\PycharmProjects\\hicetnunc-dataset\\scripts\\2_download_ipfs.py\u001b[0m in \u001b[0;36m<module>\u001b[1;34m()\u001b[0m\n\u001b[0;32m    122\u001b[0m \u001b[1;32mif\u001b[0m \u001b[0m__name__\u001b[0m \u001b[1;33m==\u001b[0m \u001b[1;34m'__main__'\u001b[0m\u001b[1;33m:\u001b[0m\u001b[1;33m\u001b[0m\u001b[0m\n\u001b[0;32m    123\u001b[0m \u001b[1;33m\u001b[0m\u001b[0m\n\u001b[1;32m--> 124\u001b[1;33m     \u001b[1;32mfor\u001b[0m \u001b[0mref\u001b[0m \u001b[1;32min\u001b[0m \u001b[0mtqdm\u001b[0m\u001b[1;33m(\u001b[0m\u001b[0mget_refs0_to_fetch\u001b[0m\u001b[1;33m(\u001b[0m\u001b[1;33m)\u001b[0m\u001b[1;33m)\u001b[0m\u001b[1;33m:\u001b[0m\u001b[1;33m\u001b[0m\u001b[0m\n\u001b[0m\u001b[0;32m    125\u001b[0m         \u001b[0mfetch_ipfs_ref\u001b[0m\u001b[1;33m(\u001b[0m\u001b[0mref\u001b[0m\u001b[1;33m,\u001b[0m \u001b[0msrc\u001b[0m\u001b[1;33m.\u001b[0m\u001b[0mconfig\u001b[0m\u001b[1;33m.\u001b[0m\u001b[0mipfs0_dir\u001b[0m\u001b[1;33m)\u001b[0m\u001b[1;33m\u001b[0m\u001b[0m\n\u001b[0;32m    126\u001b[0m \u001b[1;33m\u001b[0m\u001b[0m\n",
      "\u001b[1;32mD:\\PycharmProjects\\hicetnunc-dataset\\scripts\\2_download_ipfs.py\u001b[0m in \u001b[0;36mget_refs0_to_fetch\u001b[1;34m()\u001b[0m\n\u001b[0;32m     67\u001b[0m \u001b[1;32mdef\u001b[0m \u001b[0mget_refs0_to_fetch\u001b[0m\u001b[1;33m(\u001b[0m\u001b[1;33m)\u001b[0m\u001b[1;33m:\u001b[0m\u001b[1;33m\u001b[0m\u001b[0m\n\u001b[0;32m     68\u001b[0m     \u001b[0mref_set\u001b[0m \u001b[1;33m=\u001b[0m \u001b[0mset\u001b[0m\u001b[1;33m(\u001b[0m\u001b[1;33m)\u001b[0m\u001b[1;33m\u001b[0m\u001b[0m\n\u001b[1;32m---> 69\u001b[1;33m     \u001b[1;32mfor\u001b[0m \u001b[0mtr\u001b[0m \u001b[1;32min\u001b[0m \u001b[0msrc\u001b[0m\u001b[1;33m.\u001b[0m\u001b[0mtr\u001b[0m\u001b[1;33m.\u001b[0m\u001b[0miter\u001b[0m\u001b[1;33m.\u001b[0m\u001b[0miter_tr\u001b[0m\u001b[1;33m(\u001b[0m\u001b[1;33m)\u001b[0m\u001b[1;33m:\u001b[0m\u001b[1;33m\u001b[0m\u001b[0m\n\u001b[0m\u001b[0;32m     70\u001b[0m         \u001b[0mextract_ipfs_links\u001b[0m\u001b[1;33m(\u001b[0m\u001b[0mtr\u001b[0m\u001b[1;33m,\u001b[0m \u001b[0mref_set\u001b[0m\u001b[1;33m)\u001b[0m\u001b[1;33m\u001b[0m\u001b[0m\n\u001b[0;32m     71\u001b[0m \u001b[1;33m\u001b[0m\u001b[0m\n",
      "\u001b[1;32mD:\\PycharmProjects\\hicetnunc-dataset\\src\\tr\\iter.py\u001b[0m in \u001b[0;36miter_tr\u001b[1;34m(transactions_dir, stamp_step)\u001b[0m\n\u001b[0;32m     57\u001b[0m             \u001b[1;32massert\u001b[0m \u001b[0mop\u001b[0m\u001b[1;33m[\u001b[0m\u001b[1;34m'hash'\u001b[0m\u001b[1;33m]\u001b[0m \u001b[1;33m==\u001b[0m \u001b[0mtr\u001b[0m\u001b[1;33m[\u001b[0m\u001b[1;34m'hash'\u001b[0m\u001b[1;33m]\u001b[0m\u001b[1;33m\u001b[0m\u001b[0m\n\u001b[0;32m     58\u001b[0m             \u001b[1;32massert\u001b[0m \u001b[0mop\u001b[0m\u001b[1;33m[\u001b[0m\u001b[1;34m'time'\u001b[0m\u001b[1;33m]\u001b[0m \u001b[1;33m==\u001b[0m \u001b[0mtr\u001b[0m\u001b[1;33m[\u001b[0m\u001b[1;34m'time'\u001b[0m\u001b[1;33m]\u001b[0m\u001b[1;33m\u001b[0m\u001b[0m\n\u001b[1;32m---> 59\u001b[1;33m             \u001b[1;32massert\u001b[0m \u001b[0mprev_row_id\u001b[0m \u001b[1;33m<\u001b[0m \u001b[0mop\u001b[0m\u001b[1;33m[\u001b[0m\u001b[1;34m'row_id'\u001b[0m\u001b[1;33m]\u001b[0m\u001b[1;33m\u001b[0m\u001b[0m\n\u001b[0m\u001b[0;32m     60\u001b[0m             \u001b[0mprev_row_id\u001b[0m \u001b[1;33m=\u001b[0m \u001b[0mop\u001b[0m\u001b[1;33m[\u001b[0m\u001b[1;34m'row_id'\u001b[0m\u001b[1;33m]\u001b[0m\u001b[1;33m\u001b[0m\u001b[0m\n\u001b[0;32m     61\u001b[0m \u001b[1;33m\u001b[0m\u001b[0m\n",
      "\u001b[1;31mAssertionError\u001b[0m: "
     ]
    }
   ],
   "source": [
    "%run ../../scripts/2_download_ipfs.py"
   ]
  }
 ],
 "metadata": {
  "kernelspec": {
   "display_name": "Python 3",
   "language": "python",
   "name": "python3"
  },
  "language_info": {
   "codemirror_mode": {
    "name": "ipython",
    "version": 3
   },
   "file_extension": ".py",
   "mimetype": "text/x-python",
   "name": "python",
   "nbconvert_exporter": "python",
   "pygments_lexer": "ipython3",
   "version": "3.6.5"
  }
 },
 "nbformat": 4,
 "nbformat_minor": 2
}
