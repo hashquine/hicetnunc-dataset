{
 "cells": [
  {
   "cell_type": "markdown",
   "metadata": {},
   "source": [
    "```\n",
    "docker run -it -p 8000:8000 --mount type=bind,source=D:\\PycharmProjects\\hashquine\\temp\\files,target=/tmp/files --mount type=bind,source=D:\\PycharmProjects\\hashquine\\temp\\cache,target=/tmp/cache fpurchess/preview-service\n",
    "```"
   ]
  },
  {
   "cell_type": "code",
   "execution_count": 1,
   "metadata": {},
   "outputs": [],
   "source": [
    "%run ../../src/reload.py\n",
    "%run ../../scripts/5_make_previews.py"
   ]
  },
  {
   "cell_type": "code",
   "execution_count": 11,
   "metadata": {
    "scrolled": true
   },
   "outputs": [
    {
     "name": "stdout",
     "output_type": "stream",
     "text": [
      "[('image/png', 5537), ('image/jpeg', 5068), ('video/mp4', 2253), ('image/gif', 1695), ('image/svg+xml', 416), ('application/x-directory', 236), ('video/quicktime', 119), ('video/webm', 23), ('model/gltf-binary', 20), ('image/bmp', 16), ('image/tiff', 12), ('model/gltf+json', 10), ('', 6), ('application/pdf', 5), ('video/avi', 4), ('video/x-matroska', 1), ('video/x-ms-wmv', 1), ('video/ogg', 1), ('text/javascript', 1)]\n",
      "[('image/png', 469), ('image/jpeg', 400), ('image/gif', 279), ('model/gltf-binary', 175), ('video/mp4', 161), ('image/svg+xml', 117), ('application/x-directory', 56), ('audio/mpeg', 55), ('model/gltf+json', 15), ('image/webp', 6), ('video/webm', 5), ('video/quicktime', 5), ('image/tiff', 3), ('', 3), ('image/bmp', 2), ('video/ogg', 1), ('audio/x-wav', 1), ('application/pdf', 1)]\n",
      "{'image/webp', 'audio/x-wav', 'audio/mpeg'}\n",
      "{'text/javascript', 'video/x-ms-wmv', 'video/avi', 'video/x-matroska'}\n"
     ]
    }
   ],
   "source": [
    "from collections import Counter\n",
    "\n",
    "success_mime_stats = Counter()\n",
    "unsuccess_mime_stats = Counter()\n",
    "success_mime_examples = {}\n",
    "\n",
    "for media_db_entry in media_db.values():\n",
    "    if 'original' in media_db_entry and 'ps_1000x1000' not in media_db_entry:\n",
    "        unsuccess_mime_stats[media_db_entry['mime']] += 1\n",
    "    elif 'original' in media_db_entry and 'ps_1000x1000' in media_db_entry:\n",
    "        success_mime_examples[media_db_entry['mime']] = media_db_entry['ps_1000x1000']\n",
    "        success_mime_stats[media_db_entry['mime']] += 1\n",
    "\n",
    "print(success_mime_stats.most_common())\n",
    "print(unsuccess_mime_stats.most_common())\n",
    "print(set(unsuccess_mime_stats.keys()) - set(success_mime_stats.keys()))\n",
    "print(set(success_mime_stats.keys()) - set(unsuccess_mime_stats.keys()))"
   ]
  },
  {
   "cell_type": "code",
   "execution_count": 16,
   "metadata": {
    "scrolled": false
   },
   "outputs": [],
   "source": [
    "from IPython.display import display, Image\n",
    "\n",
    "for mime, example in success_mime_examples.items():\n",
    "    break\n",
    "    print(mime)\n",
    "    display(Image(str(example)))"
   ]
  },
  {
   "cell_type": "markdown",
   "metadata": {},
   "source": [
    "Text previews:\n",
    "    application/x-directory\n",
    "    text/javascript\n",
    "    model/gltf+json\n",
    "    model/gltf-binary\n",
    "\n",
    "No previews:\n",
    "    image/webp\n",
    "    audio/x-wav\n",
    "    audio/mpeg"
   ]
  }
 ],
 "metadata": {
  "kernelspec": {
   "display_name": "Python 3",
   "language": "python",
   "name": "python3"
  },
  "language_info": {
   "codemirror_mode": {
    "name": "ipython",
    "version": 3
   },
   "file_extension": ".py",
   "mimetype": "text/x-python",
   "name": "python",
   "nbconvert_exporter": "python",
   "pygments_lexer": "ipython3",
   "version": "3.6.5"
  }
 },
 "nbformat": 4,
 "nbformat_minor": 2
}
