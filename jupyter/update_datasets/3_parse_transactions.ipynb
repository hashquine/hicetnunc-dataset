{
 "cells": [
  {
   "cell_type": "code",
   "execution_count": 1,
   "metadata": {},
   "outputs": [
    {
     "name": "stderr",
     "output_type": "stream",
     "text": [
      "\r",
      "  0%|                                                                                                                                                           | 0/30 [00:00<?, ?it/s]"
     ]
    },
    {
     "name": "stdout",
     "output_type": "stream",
     "text": [
      "Filtering NFT, ArtHouse and money ops...\n"
     ]
    },
    {
     "name": "stderr",
     "output_type": "stream",
     "text": [
      "100%|██████████████████████████████████████████████████████████████████████████████████████████████████████████████████████████████████████████████████| 30/30 [00:20<00:00,  1.45it/s]\n"
     ]
    },
    {
     "name": "stdout",
     "output_type": "stream",
     "text": [
      "\n",
      "Writing addrs log...\n",
      "written 65856385 bytes 390047 entries\n",
      "Writing transactions info...\n",
      "written 14445309 bytes 137562 entries\n",
      "Parsing NFT ops...\n",
      "written 22967551 bytes 121879 entries\n",
      "Parsing ArtHouse ops...\n",
      "written 11299057 bytes 117811 entries\n",
      "Parsing money ops...\n"
     ]
    },
    {
     "ename": "AssertionError",
     "evalue": "",
     "output_type": "error",
     "traceback": [
      "\u001b[1;31m---------------------------------------------------------------------------\u001b[0m",
      "\u001b[1;31mAssertionError\u001b[0m                            Traceback (most recent call last)",
      "\u001b[1;32mD:\\PycharmProjects\\hicetnunc-dataset\\scripts\\3_parse_transactions.py\u001b[0m in \u001b[0;36m<module>\u001b[1;34m()\u001b[0m\n\u001b[0;32m     97\u001b[0m \u001b[0mprint\u001b[0m\u001b[1;33m(\u001b[0m\u001b[1;34m'Parsing money ops...'\u001b[0m\u001b[1;33m)\u001b[0m\u001b[1;33m\u001b[0m\u001b[0m\n\u001b[0;32m     98\u001b[0m \u001b[1;33m\u001b[0m\u001b[0m\n\u001b[1;32m---> 99\u001b[1;33m \u001b[0mmoney_log\u001b[0m \u001b[1;33m=\u001b[0m \u001b[0msrc\u001b[0m\u001b[1;33m.\u001b[0m\u001b[0mcontracts\u001b[0m\u001b[1;33m.\u001b[0m\u001b[0mmoney_parser\u001b[0m\u001b[1;33m.\u001b[0m\u001b[0mparse_trs\u001b[0m\u001b[1;33m(\u001b[0m\u001b[0mmoney_trs\u001b[0m\u001b[1;33m)\u001b[0m\u001b[1;33m\u001b[0m\u001b[0m\n\u001b[0m\u001b[0;32m    100\u001b[0m \u001b[1;33m\u001b[0m\u001b[0m\n\u001b[0;32m    101\u001b[0m src.utils.write_json(\n",
      "\u001b[1;32mD:\\PycharmProjects\\hicetnunc-dataset\\src\\contracts\\money_parser.py\u001b[0m in \u001b[0;36mparse_trs\u001b[1;34m(trs)\u001b[0m\n\u001b[0;32m     43\u001b[0m                 \u001b[1;32mcontinue\u001b[0m\u001b[1;33m\u001b[0m\u001b[0m\n\u001b[0;32m     44\u001b[0m \u001b[1;33m\u001b[0m\u001b[0m\n\u001b[1;32m---> 45\u001b[1;33m             \u001b[1;32massert\u001b[0m \u001b[0mlen\u001b[0m\u001b[1;33m(\u001b[0m\u001b[0mtr_ops\u001b[0m\u001b[1;33m)\u001b[0m \u001b[1;32min\u001b[0m \u001b[1;33m[\u001b[0m\u001b[1;36m6\u001b[0m\u001b[1;33m]\u001b[0m\u001b[1;33m\u001b[0m\u001b[0m\n\u001b[0m\u001b[0;32m     46\u001b[0m \u001b[1;33m\u001b[0m\u001b[0m\n\u001b[0;32m     47\u001b[0m             \u001b[1;32mif\u001b[0m \u001b[0mlen\u001b[0m\u001b[1;33m(\u001b[0m\u001b[0mtr\u001b[0m\u001b[1;33m[\u001b[0m\u001b[1;34m'ops'\u001b[0m\u001b[1;33m]\u001b[0m\u001b[1;33m)\u001b[0m \u001b[1;33m==\u001b[0m \u001b[1;36m7\u001b[0m\u001b[1;33m:\u001b[0m\u001b[1;33m\u001b[0m\u001b[0m\n",
      "\u001b[1;31mAssertionError\u001b[0m: "
     ]
    }
   ],
   "source": [
    "%run ../../src/reload.py\n",
    "%run ../../scripts/3_parse_transactions.py"
   ]
  },
  {
   "cell_type": "markdown",
   "metadata": {},
   "source": [
    "## NFT parser"
   ]
  },
  {
   "cell_type": "code",
   "execution_count": 9,
   "metadata": {},
   "outputs": [],
   "source": [
    "%run ../../src/reload.py\n",
    "%run ../../src/contracts/nft_parser.py\n",
    "\n",
    "ops = nft_ops"
   ]
  },
  {
   "cell_type": "code",
   "execution_count": 10,
   "metadata": {},
   "outputs": [],
   "source": [
    "    calls_counter = Counter()\n",
    "    status_counter = Counter()\n",
    "    errors_counter = Counter()\n",
    "    senders_counter = Counter()\n",
    "\n",
    "    nft_state = src.contracts.nft_state.NFTState()\n",
    "    nft_state = src.contracts.state_utils.StateRecorder(nft_state)\n",
    "\n",
    "    for op in ops:\n",
    "        op_hash = op['hash']\n",
    "        op_row_id = op['row_id']\n",
    "        assert type(op_row_id) is int\n",
    "\n",
    "        op_status = op['status']\n",
    "        status_counter[op_status] += 1\n",
    "\n",
    "        if op_status == 'applied':\n",
    "            pass\n",
    "\n",
    "        elif op_status in ['backtracked', 'skipped']:\n",
    "            continue\n",
    "\n",
    "        elif op_status == 'failed':\n",
    "            for error in op['errors']:\n",
    "                assert error['kind'] == 'temporary'\n",
    "                assert error['id'] in [\n",
    "                    'proto.008-PtEdo2Zk.michelson_v1.runtime_error',\n",
    "                    'proto.008-PtEdo2Zk.gas_exhausted.operation',\n",
    "                ]\n",
    "                errors_counter[error['id']] += 1\n",
    "\n",
    "            continue\n",
    "\n",
    "        else:\n",
    "            raise Exception(f'Unknown op status = {op_status}, hash = {op_hash}')\n",
    "\n",
    "        assert op['volume'] == 0\n",
    "        senders_counter[op['sender']] += 1\n",
    "\n",
    "        op_type = op['type']\n",
    "        if op_type == 'origination':\n",
    "            assert op is ops[0]\n",
    "            continue\n",
    "\n",
    "        assert op_type == 'transaction'\n",
    "\n",
    "        params = op['parameters']\n",
    "        call = params['call']\n",
    "        calls_counter[call] += 1\n",
    "        value = params['value']\n",
    "\n",
    "        storage = op['storage']\n",
    "        assert set(storage.keys()) == {'value'}\n",
    "        storage_value = storage['value']\n",
    "\n",
    "        assert set(storage_value.keys()) == {\n",
    "            'administrator', 'all_tokens',\n",
    "            'ledger', 'metadata', 'operators',\n",
    "            'paused', 'token_metadata',\n",
    "        }\n",
    "        assert storage_value['administrator'] == src.config.name2addr['art_house_contract']\n",
    "        assert int(storage_value['all_tokens']) >= 0\n",
    "        assert storage_value['ledger'] == '511'\n",
    "        assert storage_value['metadata'] == '512'\n",
    "        assert storage_value['operators'] == '513'\n",
    "        assert storage_value['token_metadata'] == '514'\n",
    "        assert storage_value['paused'] == 'false'\n",
    "\n",
    "        if call == 'set_administrator':\n",
    "            assert op is ops[1]\n",
    "            continue\n",
    "\n",
    "        elif call == 'update_operators':\n",
    "            continue\n",
    "\n",
    "        assert params['entrypoint'] == params['call']\n",
    "\n",
    "        if call == 'transfer':\n",
    "            assert op['entrypoint_id'] == 6\n",
    "            assert params['branch'] == 'RRL'\n",
    "            assert params['id'] == 6\n",
    "            assert set(value.keys()) == {'transfer'}\n",
    "            assert type(value['transfer']) is list\n",
    "            assert len(value['transfer']) == 1\n",
    "            assert set(value['transfer'][0].keys()) == {'from_', 'txs'}\n",
    "            assert value['transfer'][0]['from_']\n",
    "            assert len(value['transfer'][0]['txs']) >= 1\n",
    "\n",
    "            txs = []\n",
    "            for tx in value['transfer'][0]['txs']:\n",
    "                assert set(tx.keys()) == {'amount', 'to_', 'token_id'}\n",
    "                txs.append({\n",
    "                    'from': value['transfer'][0]['from_'],\n",
    "                    'to': tx['to_'],\n",
    "                    'token_id': tx['token_id'],\n",
    "                    'count': tx['amount'],\n",
    "                })\n",
    "\n",
    "            diff_set = nft_state.apply_transfer(\n",
    "                row_id=op_row_id,\n",
    "                txs=txs,\n",
    "            )\n",
    "\n",
    "            if len(diff_set) == 0:\n",
    "                assert 'big_map_diff' not in op\n",
    "                continue\n",
    "\n",
    "            big_map_diff = op['big_map_diff']\n",
    "            assert len(big_map_diff) == len(diff_set)\n",
    "            big_map_diff_set = set()\n",
    "            for big_map_diff_item in big_map_diff:\n",
    "                assert big_map_diff_item['action'] == 'update'\n",
    "                big_map_diff_set.add((\n",
    "                    big_map_diff_item['key']['0@address'],\n",
    "                    int(big_map_diff_item['key']['1@nat']),\n",
    "                    int(big_map_diff_item['value']),\n",
    "                ))\n",
    "            assert big_map_diff_set == diff_set\n",
    "\n",
    "        elif call == 'mint':\n",
    "            assert op['sender'] == src.config.name2addr['art_house_contract']\n",
    "            assert op['is_internal']\n",
    "            assert op['entrypoint_id'] == 2\n",
    "            assert params['branch'] == 'LRL'\n",
    "            assert params['id'] == 2\n",
    "            assert set(value.keys()) == {'address', 'amount', 'token_id', 'token_info'}\n",
    "            assert int(value['amount'])\n",
    "            assert int(value['token_id'])\n",
    "            # assert value['address'] == op['creator']\n",
    "            assert set(value['token_info'].keys()) == {'0@bytes'}\n",
    "            assert value['token_info']['0@bytes'].startswith('ipfs://')\n",
    "            assert storage_value['all_tokens'] == str(int(value['token_id']) + 1)\n",
    "\n",
    "            big_map_diff = op['big_map_diff']\n",
    "            assert len(big_map_diff) == 2\n",
    "            assert big_map_diff[0]['key'] == value['token_id']\n",
    "            assert big_map_diff[0]['action'] == 'update'\n",
    "            assert big_map_diff[0]['value'] == {\n",
    "                'token_id': value['token_id'],\n",
    "                'token_info': value['token_info'],\n",
    "            }\n",
    "            assert big_map_diff[1]['key'] == {\n",
    "                '0@address': value['address'],\n",
    "                '1@nat': value['token_id'],\n",
    "            }\n",
    "            assert big_map_diff[1]['action'] == 'update'\n",
    "            assert big_map_diff[1]['value'] == value['amount']\n",
    "            nft_state.apply_mint(\n",
    "                row_id=op_row_id,\n",
    "                token_id=int(value['token_id']),\n",
    "                count=int(value['amount']),\n",
    "                creator=op['creator'],\n",
    "                tokens_receiver=value['address'],\n",
    "                info_ipfs=value['token_info']['0@bytes'],\n",
    "            )\n",
    "\n",
    "        else:\n",
    "            raise Exception(f'Unknown call: {call}')\n"
   ]
  },
  {
   "cell_type": "markdown",
   "metadata": {},
   "source": [
    "## Art house parser"
   ]
  },
  {
   "cell_type": "code",
   "execution_count": 8,
   "metadata": {},
   "outputs": [],
   "source": [
    "%run ../../src/reload.py\n",
    "%run ../../src/contracts/art_house_parser.py"
   ]
  },
  {
   "cell_type": "markdown",
   "metadata": {},
   "source": [
    "## Money parser"
   ]
  },
  {
   "cell_type": "code",
   "execution_count": 2,
   "metadata": {},
   "outputs": [],
   "source": [
    "%run ../../src/reload.py\n",
    "%run ../../src/contracts/money_parser.py\n",
    "\n",
    "trs = money_trs"
   ]
  },
  {
   "cell_type": "code",
   "execution_count": 27,
   "metadata": {},
   "outputs": [
    {
     "ename": "AssertionError",
     "evalue": "",
     "output_type": "error",
     "traceback": [
      "\u001b[1;31m---------------------------------------------------------------------------\u001b[0m",
      "\u001b[1;31mAssertionError\u001b[0m                            Traceback (most recent call last)",
      "\u001b[1;32m<ipython-input-27-d31d8c4f2402>\u001b[0m in \u001b[0;36m<module>\u001b[1;34m()\u001b[0m\n\u001b[0;32m     34\u001b[0m             \u001b[1;32mcontinue\u001b[0m\u001b[1;33m\u001b[0m\u001b[0m\n\u001b[0;32m     35\u001b[0m \u001b[1;33m\u001b[0m\u001b[0m\n\u001b[1;32m---> 36\u001b[1;33m         \u001b[1;32massert\u001b[0m \u001b[0mlen\u001b[0m\u001b[1;33m(\u001b[0m\u001b[0mtr_ops\u001b[0m\u001b[1;33m)\u001b[0m \u001b[1;32min\u001b[0m \u001b[1;33m[\u001b[0m\u001b[1;36m6\u001b[0m\u001b[1;33m]\u001b[0m\u001b[1;33m\u001b[0m\u001b[0m\n\u001b[0m\u001b[0;32m     37\u001b[0m \u001b[1;33m\u001b[0m\u001b[0m\n\u001b[0;32m     38\u001b[0m         \u001b[1;32mif\u001b[0m \u001b[0mlen\u001b[0m\u001b[1;33m(\u001b[0m\u001b[0mtr\u001b[0m\u001b[1;33m[\u001b[0m\u001b[1;34m'ops'\u001b[0m\u001b[1;33m]\u001b[0m\u001b[1;33m)\u001b[0m \u001b[1;33m==\u001b[0m \u001b[1;36m7\u001b[0m\u001b[1;33m:\u001b[0m\u001b[1;33m\u001b[0m\u001b[0m\n",
      "\u001b[1;31mAssertionError\u001b[0m: "
     ]
    }
   ],
   "source": [
    "    money_state = src.contracts.money_state.MoneyState()\n",
    "    money_state = src.contracts.state_utils.StateRecorder(money_state)\n",
    "\n",
    "    for tr in trs:\n",
    "\n",
    "        nft_calls = Counter()\n",
    "        last_nft_op = None\n",
    "        for op in tr['ops']:\n",
    "            if op['type'] == 'transaction' and op['receiver'] == src.config.name2addr['nft_contract']:\n",
    "                nft_calls[op['parameters']['call']] += 1\n",
    "                last_nft_op = op\n",
    "        nft_calls = dict(nft_calls)\n",
    "\n",
    "        money_delta = src.tr.utils.get_tr_money_delta(tr)\n",
    "        known_money_delta = {\n",
    "            src.config.addr2name[addr]: delta\n",
    "            for addr, delta in money_delta.items()\n",
    "            if addr in src.config.addr2name\n",
    "        }\n",
    "\n",
    "        if nft_calls == {'transfer': 1}:\n",
    "\n",
    "            tr_ops = tr['ops']\n",
    "\n",
    "            first_contract = tr['ops'][0]['receiver']\n",
    "            first_call = tr['ops'][0]['parameters']['call']\n",
    "\n",
    "            if (first_contract, first_call) in [\n",
    "                ('KT1MMLb2FVrrE9Do74J3FH1RNNc4QhDuVCNX', 'launchExchange'),\n",
    "                ('KT1HzEyact4wXoST7hTAGqoKiKkPvAwt4rCR', 'tezToTokenPayment'),\n",
    "                ('KT1HzEyact4wXoST7hTAGqoKiKkPvAwt4rCR', 'tokenToTezPayment'),\n",
    "                ('KT1HzEyact4wXoST7hTAGqoKiKkPvAwt4rCR', 'investLiquidity'),\n",
    "            ]:\n",
    "                continue\n",
    "\n",
    "            assert len(tr_ops) in [6]\n",
    "\n",
    "            if len(tr['ops']) == 7:\n",
    "                assert tr['ops'][0]['type'] == 'reveal'\n",
    "                tr_ops = tr['ops'][1:]\n",
    "\n",
    "            assert len(tr_ops) == 6\n",
    "\n",
    "            # get buyer money\n",
    "            assert tr_ops[0]['parameters']['call'] == 'collect'\n",
    "            assert tr_ops[0]['receiver'] == src.config.name2addr['art_house_contract']\n",
    "            assert tr_ops[0]['volume'] > 0\n",
    "            payer = tr_ops[0]['sender']\n",
    "            price = tr_ops[0]['volume']\n",
    "\n",
    "            # pay royalties\n",
    "            assert 'parameters' not in tr_ops[1]\n",
    "            assert tr_ops[1]['volume'] > 0\n",
    "            royalties_receiver = tr_ops[1]['receiver']\n",
    "            royalties = tr_ops[1]['volume']\n",
    "\n",
    "            # pay comission\n",
    "            assert 'parameters' not in tr_ops[2]\n",
    "            assert tr_ops[2]['receiver'] == src.config.name2addr['comission_wallet']\n",
    "            assert tr_ops[2]['volume'] > 0\n",
    "            comission = tr_ops[2]['volume']\n",
    "\n",
    "            # pay to seller\n",
    "            assert 'parameters' not in tr_ops[3]\n",
    "            assert tr_ops[3]['volume'] > 0\n",
    "            seller = tr_ops[3]['receiver']\n",
    "            seller_income = tr_ops[3]['volume']\n",
    "\n",
    "            # give hDAO tokens\n",
    "            assert tr_ops[4]['receiver'] == src.config.name2addr['hdao_contract']\n",
    "            assert tr_ops[4]['parameters']['call'] == 'hDAO_batch'\n",
    "            assert tr_ops[4]['volume'] == 0\n",
    "\n",
    "            # transfer NFT\n",
    "            assert tr_ops[5]['parameters']['call'] == 'transfer'\n",
    "            assert tr_ops[5]['receiver'] == src.config.name2addr['nft_contract']\n",
    "            assert tr_ops[5]['volume'] == 0\n",
    "\n",
    "            transfer = tr_ops[5]['parameters']['value']['transfer']\n",
    "            assert len(transfer) == 1\n",
    "            sender = transfer[0]['from_']\n",
    "\n",
    "            # when the first transfer between users (with non-zero XTZ volume) will happen,\n",
    "            # this assert will fail\n",
    "            assert sender == src.config.name2addr['art_house_contract']\n",
    "\n",
    "            assert len(transfer[0]['txs']) == 1\n",
    "            receiver = transfer[0]['txs'][0]['to_']\n",
    "\n",
    "            token_id = int(transfer[0]['txs'][0]['token_id'])\n",
    "            token_count = int(transfer[0]['txs'][0]['amount'])\n",
    "\n",
    "            money_state.apply_swap_sell(\n",
    "                row_id=last_nft_op['row_id'],\n",
    "                token_id=token_id,\n",
    "                token_count=token_count,\n",
    "                payer=payer,\n",
    "                price=price,\n",
    "                seller=seller,\n",
    "                seller_income=seller_income,\n",
    "                comission=comission,\n",
    "                royalties_receiver=royalties_receiver,\n",
    "                royalties=royalties,\n",
    "            )\n",
    "            continue\n",
    "\n",
    "        assert nft_calls == {}\n",
    "\n",
    "        if 'parameters' in tr['ops'][0]:\n",
    "            if tr['ops'][0]['parameters']['call'] in [\n",
    "                'launchExchange', 'tokenToTezPayment', 'investLiquidity',\n",
    "                'tezToTokenPayment', 'divestLiquidity',\n",
    "            ]:\n",
    "                continue\n",
    "\n",
    "        known_money_addrs = set(known_money_delta.keys())\n",
    "        if known_money_addrs in [{'baking_benjamins'}, set()]:\n",
    "            for op in tr['ops']:\n",
    "                assert op['receiver'] not in src.config.addr2name\n",
    "            continue\n",
    "\n",
    "        assert 'comission_wallet' in known_money_addrs\n",
    "\n",
    "        if 'baking_benjamins' in known_money_addrs:\n",
    "            assert known_money_addrs == {'baking_benjamins', 'comission_wallet'}\n",
    "            assert known_money_delta['baking_benjamins'] < 0\n",
    "            assert known_money_delta['comission_wallet'] > 0\n",
    "            assert known_money_delta['comission_wallet'] <= -known_money_delta['baking_benjamins']\n",
    "            money_state.apply_comission_wallet_baking_percent(\n",
    "                row_id=tr['ops'][0]['row_id'],\n",
    "                sender=src.config.name2addr['baking_benjamins'],\n",
    "                volume=known_money_delta['comission_wallet'],\n",
    "            )\n",
    "            continue\n",
    "\n",
    "        assert known_money_addrs == {'comission_wallet'}\n",
    "        assert known_money_delta['comission_wallet'] < 0\n",
    "        other_addrs = set(money_delta.keys()) - {src.config.name2addr['comission_wallet']}\n",
    "        assert len(other_addrs) == 1\n",
    "        other_addr = list(other_addrs)[0]\n",
    "        volume = money_delta[other_addr]\n",
    "        assert volume > 0\n",
    "        assert money_delta == {\n",
    "            src.config.name2addr['comission_wallet']: -volume,\n",
    "            other_addr: volume\n",
    "        }\n",
    "        money_state.apply_comission_wallet_spending(\n",
    "            row_id=tr['ops'][0]['row_id'],\n",
    "            receiver=other_addr,\n",
    "            volume=volume,\n",
    "        )\n"
   ]
  },
  {
   "cell_type": "raw",
   "metadata": {},
   "source": [
    "python scripts\\3_parse_transactions.py 2021-04-03T08:00:00Z"
   ]
  },
  {
   "cell_type": "code",
   "execution_count": 29,
   "metadata": {},
   "outputs": [
    {
     "data": {
      "text/plain": [
       "'2021-04-03T08:56:43Z'"
      ]
     },
     "execution_count": 29,
     "metadata": {},
     "output_type": "execute_result"
    }
   ],
   "source": [
    "tr['time']"
   ]
  },
  {
   "cell_type": "code",
   "execution_count": 4,
   "metadata": {},
   "outputs": [
    {
     "data": {
      "text/plain": [
       "2"
      ]
     },
     "execution_count": 4,
     "metadata": {},
     "output_type": "execute_result"
    }
   ],
   "source": [
    "len(tr_ops)"
   ]
  }
 ],
 "metadata": {
  "kernelspec": {
   "display_name": "Python 3",
   "language": "python",
   "name": "python3"
  },
  "language_info": {
   "codemirror_mode": {
    "name": "ipython",
    "version": 3
   },
   "file_extension": ".py",
   "mimetype": "text/x-python",
   "name": "python",
   "nbconvert_exporter": "python",
   "pygments_lexer": "ipython3",
   "version": "3.6.5"
  }
 },
 "nbformat": 4,
 "nbformat_minor": 2
}
