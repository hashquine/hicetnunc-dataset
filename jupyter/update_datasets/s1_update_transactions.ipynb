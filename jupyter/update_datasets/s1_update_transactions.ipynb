{
 "cells": [
  {
   "cell_type": "code",
   "execution_count": 1,
   "metadata": {},
   "outputs": [
    {
     "name": "stdout",
     "output_type": "stream",
     "text": [
      "Checking min_stamp validity... ok\n",
      "config_hash=4ff66f8cc8\n",
      "min_stamp=1617100000 (2021-03-30T10:26:40Z), 9963 existing entries\n",
      "sender='KT1Hkg5qeNhfwpKW4fXvq7HGZB9z2EnmCCA9', receiver=None 1 (20179) 2 (0) total 9678\n",
      "sender=None, receiver='KT1Hkg5qeNhfwpKW4fXvq7HGZB9z2EnmCCA9' 1 (9946) 2 (0) total 9698\n",
      "sender='KT1RJ6PbjHpwc3M5rw5s2Nbmefwbuwbdxton', receiver=None 1 (0) total 0\n",
      "sender=None, receiver='KT1RJ6PbjHpwc3M5rw5s2Nbmefwbuwbdxton' 1 (9539) 2 (0) total 9362\n",
      "sender='tz1UBZUkXpKGhYsP5KtzDNqLLchwF4uHrGjw', receiver=None 1 (1) 2 (0) total 1\n",
      "sender=None, receiver='tz1UBZUkXpKGhYsP5KtzDNqLLchwF4uHrGjw' 1 (2439) 2 (0) total 2439\n",
      "sender='KT1TybhR7XraG75JFYKSrh7KnxukMBT5dor6', receiver=None 1 (0) total 0\n",
      "sender=None, receiver='KT1TybhR7XraG75JFYKSrh7KnxukMBT5dor6' 1 (568) 2 (0) total 568\n",
      "sender='KT1AFA2mwNUMNd4SsujE1YYp29vd8BZejyKW', receiver=None 1 (0) total 0\n",
      "sender=None, receiver='KT1AFA2mwNUMNd4SsujE1YYp29vd8BZejyKW' 1 (3022) 2 (0) total 3020\n"
     ]
    },
    {
     "name": "stderr",
     "output_type": "stream",
     "text": [
      "0it [00:00, ?it/s]\n"
     ]
    },
    {
     "name": "stdout",
     "output_type": "stream",
     "text": [
      "written 40893808 bytes 9963 entries\n",
      "min_stamp=1617200000 (2021-03-31T14:13:20Z), 3584 existing entries\n",
      "sender='KT1Hkg5qeNhfwpKW4fXvq7HGZB9z2EnmCCA9', receiver=None 1 (15180) 2 (0) total 6717\n",
      "sender=None, receiver='KT1Hkg5qeNhfwpKW4fXvq7HGZB9z2EnmCCA9' 1 (6958) 2 (0) total 6732\n",
      "sender='KT1RJ6PbjHpwc3M5rw5s2Nbmefwbuwbdxton', receiver=None 1 (0) total 0\n",
      "sender=None, receiver='KT1RJ6PbjHpwc3M5rw5s2Nbmefwbuwbdxton' 1 (6833) 2 (0) total 6625\n",
      "sender='tz1UBZUkXpKGhYsP5KtzDNqLLchwF4uHrGjw', receiver=None 1 (1) 2 (0) total 1\n",
      "sender=None, receiver='tz1UBZUkXpKGhYsP5KtzDNqLLchwF4uHrGjw' 1 (1981) 2 (0) total 1981\n",
      "sender='KT1TybhR7XraG75JFYKSrh7KnxukMBT5dor6', receiver=None 1 (0) total 0\n",
      "sender=None, receiver='KT1TybhR7XraG75JFYKSrh7KnxukMBT5dor6' 1 (347) 2 (0) total 347\n",
      "sender='KT1AFA2mwNUMNd4SsujE1YYp29vd8BZejyKW', receiver=None 1 (0) total 0\n",
      "sender=None, receiver='KT1AFA2mwNUMNd4SsujE1YYp29vd8BZejyKW' 1 (3161) 2 (0) total 2732\n"
     ]
    },
    {
     "name": "stderr",
     "output_type": "stream",
     "text": [
      "100%|██████████████████████████████████████████████████████████████████████████████████████████████████████████████████████████████████████████████| 3810/3810 [35:12<00:00,  1.80it/s]\n"
     ]
    },
    {
     "name": "stdout",
     "output_type": "stream",
     "text": [
      "written 31951139 bytes 7394 entries\n"
     ]
    }
   ],
   "source": [
    "%run ../../src/reload.py\n",
    "%run ../../scripts/1_update_blockchain_data.py"
   ]
  }
 ],
 "metadata": {
  "kernelspec": {
   "display_name": "Python 3",
   "language": "python",
   "name": "python3"
  },
  "language_info": {
   "codemirror_mode": {
    "name": "ipython",
    "version": 3
   },
   "file_extension": ".py",
   "mimetype": "text/x-python",
   "name": "python",
   "nbconvert_exporter": "python",
   "pygments_lexer": "ipython3",
   "version": "3.6.5"
  }
 },
 "nbformat": 4,
 "nbformat_minor": 2
}
