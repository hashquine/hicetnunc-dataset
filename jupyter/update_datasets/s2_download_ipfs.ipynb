{
 "cells": [
  {
   "cell_type": "code",
   "execution_count": 7,
   "metadata": {},
   "outputs": [],
   "source": [
    "%run -i ../../src/reload.py"
   ]
  },
  {
   "cell_type": "code",
   "execution_count": null,
   "metadata": {},
   "outputs": [
    {
     "name": "stderr",
     "output_type": "stream",
     "text": [
      "100%|██████████████████████████████████████████████████████████████████████████████████████████████████████████████████████████████████████████████████| 28/28 [00:22<00:00,  1.26it/s]\n",
      "0it [00:00, ?it/s]\n",
      "  0%|                                                                                                                                                        | 0/20234 [00:00<?, ?it/s]"
     ]
    },
    {
     "name": "stdout",
     "output_type": "stream",
     "text": [
      "\n",
      "20236 ipfs0 references found\n",
      "Invalid refs0:  {'oo94n7Eh4PUPMipFs3kfXvZ3PbVg6hvNQJTmhRtAv2kZCqNjyM2_0', 'oo94n7Eh4PUPMipFs3kfXvZ3PbVg6hvNQJTmhRtAv2kZCqNjyM2'}\n",
      "0 refs0 to fetch\n"
     ]
    },
    {
     "name": "stderr",
     "output_type": "stream",
     "text": [
      "100%|██████████████████████████████████████████████████████████████████████████████████████████████████████████████████████████████████████████| 20234/20234 [00:03<00:00, 5171.45it/s]\n",
      "  6%|███████▉                                                                                                                                   | 1081/18876 [00:00<00:03, 5372.88it/s]"
     ]
    },
    {
     "name": "stdout",
     "output_type": "stream",
     "text": [
      "18882 ipfs1 references found\n",
      "Invalid refs1:  {\"This artifact is created by Nikita Khudiakov in VR and can be also viewed in AR. Artist’s links - https://linktr.ee/voobrazhenie/. This NFT contains 2 files: .GLB you can see in the preview and .USDZ. Two formats are used to see the model in augmented reality on different platforms. You can also see it in AR from the artist's website.  Link to archive -   https://gateway.pinata.cloud/ipfs/QmWZCh6nVy2gVtWb861a1pzr7h3KCroM5zjjQ8akKA5gp2 IPFS CID QmWZCh6nVy2gVtWb861a1pzr7h3KCroM5zjjQ8akKA5gp2\", 'The VR DOCUMENT 2019 project anchors my identity in the digital world and creates an agreement to protect my rights and intellectual property in virtual reality, I sign a contract with VR with a stylus in Tilt Brush. Author Vlas Belov. Link to the site - http://vlasbelov.tilda.ws/page15724789.html. NFT contains: JPG 1080x1419 in preview, archived text of JPG, OBJ, signature in tilt Brush. Archive link https://gateway.pinata.cloud/ipfs/QmQTFXS5cKG73MGBFJtRGYXaxAoxUU3GRspUM9feWH91Z6  ', 'The VR DOCUMENT 2019 project anchors my identity in the digital world and creates an agreement to protect my rights and intellectual property in virtual reality, I sign a contract with VR with a stylus in Tilt Brush. Author Vlas Belov. Link to the site - http://vlasbelov.tilda.ws/page15724789.html. NFT contains: JPG 1080x1419 in preview, archived text of JPG, OBJ, signature in tilt Brush. Archive link https://gateway.pinata.cloud/ipfs/QmQTFXS5cKG73MGBFJtRGYXaxAoxUU3GRspUM9feWH91Z6 ', 'Sample work.........  The link below links to a file that isn’t available on the IPFS network. Purchase the NFT to make it available. At that point, I will make the NFT file available on the IPFS network.   You will be able to verify that it is the correct image because the hash (QmYcLhMdcrvzE2LjuUb6r9zB8cwd2pRDbcKQvrsNC9Ha2s) is unique to that file only.  What is IPFS? IPFS or the InterPlanetary File System is a protocol that secures files to NFTs. When you retrieve the data, it is automatically rehashed on your computer to make sure that the data matches back up with the original CID they asked for. This process ensures the data that’s received is exactly what was asked for.  https://ipfs.io/ipfs/QmYcLhMdcrvzE2LjuUb6r9zB8cwd2pRDbcKQvrsNC9Ha2s', 'Animated!  IPFS QmVnr82ks6b8fWKt71QQMDW1MxZLkmJzJQxJqigwkuYQBP', 'Super Sketch #XTZ_002. Drawn using Sony Sketch. (c) ALL RIGHTS RESERVED. IPFS QmebgtsYBWR9DPQhRr4zJKuhSbkjvWRYshRYkEyiySd6ny. Insta @bors__nft.'}\n"
     ]
    },
    {
     "name": "stderr",
     "output_type": "stream",
     "text": [
      "100%|██████████████████████████████████████████████████████████████████████████████████████████████████████████████████████████████████████████| 18876/18876 [00:03<00:00, 5051.54it/s]\n",
      "  0%|                                                                                                                                                         | 0/1262 [00:00<?, ?it/s]"
     ]
    },
    {
     "name": "stdout",
     "output_type": "stream",
     "text": [
      "1262 refs1 to fetch\n"
     ]
    },
    {
     "name": "stderr",
     "output_type": "stream",
     "text": [
      " 45%|███████████████████████████████████████████████████████████████▋                                                                             | 570/1262 [1:03:02<21:19,  1.85s/it]"
     ]
    }
   ],
   "source": [
    "%run ../../scripts/2_download_ipfs.py"
   ]
  }
 ],
 "metadata": {
  "kernelspec": {
   "display_name": "Python 3",
   "language": "python",
   "name": "python3"
  },
  "language_info": {
   "codemirror_mode": {
    "name": "ipython",
    "version": 3
   },
   "file_extension": ".py",
   "mimetype": "text/x-python",
   "name": "python",
   "nbconvert_exporter": "python",
   "pygments_lexer": "ipython3",
   "version": "3.6.5"
  }
 },
 "nbformat": 4,
 "nbformat_minor": 2
}
