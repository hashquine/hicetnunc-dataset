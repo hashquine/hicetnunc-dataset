{
 "cells": [
  {
   "cell_type": "markdown",
   "metadata": {},
   "source": [
    "## Update blockchain data"
   ]
  },
  {
   "cell_type": "code",
   "execution_count": 52,
   "metadata": {},
   "outputs": [
    {
     "data": {
      "application/vnd.jupyter.widget-view+json": {
       "model_id": "7be0e8485dc244ec9a9f03a3ef19962e",
       "version_major": 2,
       "version_minor": 0
      },
      "text/plain": [
       "HBox(children=(FloatProgress(value=0.0, max=3.0), HTML(value='')))"
      ]
     },
     "metadata": {},
     "output_type": "display_data"
    },
    {
     "name": "stdout",
     "output_type": "stream",
     "text": [
      "\n",
      "written 108440539 bytes 20367 entries\n"
     ]
    }
   ],
   "source": [
    "import sys\n",
    "import json\n",
    "from pathlib import Path\n",
    "from tqdm.notebook import tqdm\n",
    "import requests\n",
    "\n",
    "\n",
    "def find_git_project_root():\n",
    "    cur_path = Path('.').resolve()\n",
    "    for i in range(10):\n",
    "        if (cur_path / '.git').exists():\n",
    "            return cur_path\n",
    "        cur_path = cur_path.parent\n",
    "    raise Exception(f'Unable to find git project root')\n",
    "\n",
    "\n",
    "def read_json(fpath):\n",
    "    fpath.parent.mkdir(exist_ok=True, parents=True)\n",
    "\n",
    "    if not fpath.exists():\n",
    "        return None\n",
    "\n",
    "    with fpath.open('r', encoding='utf-8') as f:\n",
    "        return json.load(f)\n",
    "\n",
    "\n",
    "def write_json(data, fpath):\n",
    "    fpath.parent.mkdir(exist_ok=True, parents=True)\n",
    "    \n",
    "    # We want to ensure, that if there is an error during saving\n",
    "    # (for example, not enough memory), there will be some backup file,\n",
    "    # so that data will not be lost.\n",
    "    backup_file = None\n",
    "    if fpath.exists():\n",
    "        backup_file = fpath.with_name(f'{fpath.stem}.backup.json')\n",
    "        fpath.rename(backup_file)\n",
    "\n",
    "    fpath.write_text('', 'utf-8') # we want to make file invalid JSON at this point\n",
    "    with fpath.open('w', encoding='utf-8') as f:\n",
    "        json.dump(data, f, ensure_ascii=False, indent=None, separators=(',', ':'))\n",
    "\n",
    "    if backup_file:\n",
    "        backup_file.unlink()\n",
    "    print('written', fpath.stat().st_size, 'bytes', len(data), 'entries')\n",
    "\n",
    "\n",
    "def get_operations(sender=None, receiver=None, columns=None):\n",
    "    \"\"\"\n",
    "    Extracts all operations from blockchain by sender or receiver address,\n",
    "    including internal operations, which are part of batch.\n",
    "    \"\"\"\n",
    "\n",
    "    # https://tzstats.com/docs/api#operations\n",
    "    max_limit = 50000\n",
    "    req_res = requests.get('https://api.tzstats.com/tables/op', params={\n",
    "        'sender': sender,\n",
    "        'receiver': receiver,\n",
    "        'limit': max_limit,\n",
    "        'columns': ','.join(columns),\n",
    "    }).json()\n",
    "\n",
    "    if len(req_res) >= max_limit:\n",
    "        raise Exception(f'Not all transactions were extracted')\n",
    "\n",
    "    req_res = [\n",
    "        {\n",
    "            column: item[column_no]\n",
    "            for column_no, column in enumerate(columns)\n",
    "        }\n",
    "        for item in req_res\n",
    "    ]\n",
    "\n",
    "    return req_res\n",
    "\n",
    "\n",
    "def get_all_transactions_keys():\n",
    "    res = set()\n",
    "    columns = ['hash', 'time']\n",
    "\n",
    "    for addr in tqdm([art_house_contract, nft_contract, comission_wallet]):\n",
    "        in_ops = get_operations(sender=addr, columns=columns)\n",
    "        out_ops = get_operations(receiver=addr, columns=columns)\n",
    "        for op in in_ops + out_ops:\n",
    "            res.add((op['time'], op['hash']))\n",
    "\n",
    "    return res\n",
    "\n",
    "\n",
    "repo_dir = find_git_project_root()\n",
    "transactions_cache_file = repo_dir / 'cache' / 'transactions.json'\n",
    "transactions_cache_data = read_json(transactions_cache_file) or {}\n",
    "\n",
    "art_house_contract = 'KT1Hkg5qeNhfwpKW4fXvq7HGZB9z2EnmCCA9'\n",
    "nft_contract = 'KT1RJ6PbjHpwc3M5rw5s2Nbmefwbuwbdxton'\n",
    "comission_wallet = 'tz1UBZUkXpKGhYsP5KtzDNqLLchwF4uHrGjw'\n",
    "\n",
    "all_transactions_keys = get_all_transactions_keys()\n",
    "\n",
    "write_json(transactions_cache_data, transactions_cache_file)"
   ]
  },
  {
   "cell_type": "code",
   "execution_count": 68,
   "metadata": {},
   "outputs": [
    {
     "data": {
      "text/plain": [
       "270.7317939814815"
      ]
     },
     "execution_count": 68,
     "metadata": {},
     "output_type": "execute_result"
    }
   ],
   "source": [
    "23391227000 / 1000 / 60 / 60 / 24"
   ]
  },
  {
   "cell_type": "code",
   "execution_count": 67,
   "metadata": {},
   "outputs": [
    {
     "data": {
      "text/plain": [
       "23391227000"
      ]
     },
     "execution_count": 67,
     "metadata": {},
     "output_type": "execute_result"
    }
   ],
   "source": [
    "(max([it[0] for it in all_transactions_keys]) - min([it[0] for it in all_transactions_keys]))"
   ]
  },
  {
   "cell_type": "code",
   "execution_count": null,
   "metadata": {},
   "outputs": [],
   "source": [
    "transactions_hashes_to_fetch = all_transactions_hashes - set(transactions_cache_data.keys())\n",
    "for no, batch_hash in enumerate(hashes_to_fetch):\n",
    "    if batch_hash in all_batch_ops:\n",
    "        continue\n",
    "    batch_ops = requests.get(f'https://api.tzstats.com/explorer/op/{batch_hash}').json()\n",
    "    all_batch_ops[batch_hash] = batch_ops\n",
    "    print(no, '/', len(hashes_to_fetch), batch_hash)"
   ]
  }
 ],
 "metadata": {
  "kernelspec": {
   "display_name": "Python 3",
   "language": "python",
   "name": "python3"
  },
  "language_info": {
   "codemirror_mode": {
    "name": "ipython",
    "version": 3
   },
   "file_extension": ".py",
   "mimetype": "text/x-python",
   "name": "python",
   "nbconvert_exporter": "python",
   "pygments_lexer": "ipython3",
   "version": "3.6.5"
  }
 },
 "nbformat": 4,
 "nbformat_minor": 2
}
