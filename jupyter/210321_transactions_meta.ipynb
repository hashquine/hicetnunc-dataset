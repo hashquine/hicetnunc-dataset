{
 "cells": [
  {
   "cell_type": "code",
   "execution_count": 2,
   "metadata": {},
   "outputs": [],
   "source": [
    "nft_state_log = src.utils.read_json(src.config.nft_state_log_file)\n",
    "nft_state = src.contracts.nft_state.NFTState()\n",
    "nft_state_replayer = src.contracts.state_utils.StateReplayer(nft_state_log, nft_state)\n",
    "\n",
    "ah_state_log = src.utils.read_json(src.config.ah_state_log_file)\n",
    "ah_state = src.contracts.art_house_state.ArtHouseState()\n",
    "ah_state_replayer = src.contracts.state_utils.StateReplayer(ah_state_log, ah_state)\n",
    "\n",
    "money_state_log = src.utils.read_json(src.config.money_state_log_file)\n",
    "money_state = src.contracts.money_state.MoneyState()\n",
    "money_state_replayer = src.contracts.state_utils.StateReplayer(money_state_log, money_state)"
   ]
  },
  {
   "cell_type": "code",
   "execution_count": 4,
   "metadata": {},
   "outputs": [],
   "source": [
    "nft_state_replayer.replay_to_before_row_id()\n",
    "ah_state_replayer.replay_to_before_row_id()\n",
    "money_state_replayer.replay_to_before_row_id()"
   ]
  },
  {
   "cell_type": "markdown",
   "metadata": {},
   "source": [
    "## Transactions meta"
   ]
  },
  {
   "cell_type": "code",
   "execution_count": 15,
   "metadata": {},
   "outputs": [],
   "source": [
    "import sys\n",
    "from pathlib import Path\n",
    "\n",
    "repo_dir = Path('..').resolve()\n",
    "assert repo_dir.name == 'hicetnunc-dataset', repo_dir\n",
    "if str(repo_dir) not in sys.path:\n",
    "    sys.path.append(str(repo_dir))\n",
    "\n",
    "import src.reload; src.reload.reload()"
   ]
  },
  {
   "cell_type": "code",
   "execution_count": 82,
   "metadata": {},
   "outputs": [
    {
     "name": "stderr",
     "output_type": "stream",
     "text": [
      "100%|██████████████████████████████████████████████████████████████████████████████████████████████████████████████████████████████████████████████████| 21/21 [00:05<00:00,  4.00it/s]\n"
     ]
    },
    {
     "name": "stdout",
     "output_type": "stream",
     "text": [
      "\n",
      "written 4834203 bytes 46934 entries\n"
     ]
    }
   ],
   "source": [
    "trs_info = []\n",
    "\n",
    "for tr in src.iter_tr.iter_tr():\n",
    "    trs_info.append([\n",
    "        tr['hash'],\n",
    "        src.utils.iso_date_to_stamp(tr['time']),\n",
    "        tr['ops'][0]['row_id'],\n",
    "        tr['ops'][-1]['row_id'],\n",
    "        tr['fpath'].name,\n",
    "    ])\n",
    "\n",
    "src.utils.write_json(trs_info, src.config.trs_info_file)"
   ]
  },
  {
   "cell_type": "code",
   "execution_count": 29,
   "metadata": {},
   "outputs": [],
   "source": [
    "tr_info_db = TrInfoDB()"
   ]
  },
  {
   "cell_type": "code",
   "execution_count": 155,
   "metadata": {
    "scrolled": true
   },
   "outputs": [
    {
     "data": {
      "text/plain": [
       "2"
      ]
     },
     "execution_count": 155,
     "metadata": {},
     "output_type": "execute_result"
    }
   ],
   "source": [
    "bisect.bisect_left([10, 20, 30], 21)"
   ]
  },
  {
   "cell_type": "code",
   "execution_count": 172,
   "metadata": {},
   "outputs": [
    {
     "data": {
      "text/plain": [
       "42181631"
      ]
     },
     "execution_count": 172,
     "metadata": {},
     "output_type": "execute_result"
    }
   ],
   "source": [
    "tr_info_db.get_last_row_id_before_stamp(src.utils.iso_date_to_stamp('2021-02-28T15:00:00Z'))"
   ]
  },
  {
   "cell_type": "code",
   "execution_count": 173,
   "metadata": {},
   "outputs": [
    {
     "data": {
      "text/plain": [
       "42209088"
      ]
     },
     "execution_count": 173,
     "metadata": {},
     "output_type": "execute_result"
    }
   ],
   "source": [
    "tr_info_db.get_first_row_id_after_stamp(src.utils.iso_date_to_stamp('2021-02-28T15:00:00Z'))"
   ]
  },
  {
   "cell_type": "code",
   "execution_count": 177,
   "metadata": {},
   "outputs": [
    {
     "data": {
      "text/plain": [
       "'2021-03-01T01:59:41Z'"
      ]
     },
     "execution_count": 177,
     "metadata": {},
     "output_type": "execute_result"
    }
   ],
   "source": [
    "tr_info_db.get_full_transaction_by_row_id(42209088, return_op=True)['time']"
   ]
  }
 ],
 "metadata": {
  "kernelspec": {
   "display_name": "Python 3",
   "language": "python",
   "name": "python3"
  },
  "language_info": {
   "codemirror_mode": {
    "name": "ipython",
    "version": 3
   },
   "file_extension": ".py",
   "mimetype": "text/x-python",
   "name": "python",
   "nbconvert_exporter": "python",
   "pygments_lexer": "ipython3",
   "version": "3.6.5"
  }
 },
 "nbformat": 4,
 "nbformat_minor": 2
}
