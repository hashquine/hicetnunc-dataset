{
 "cells": [
  {
   "cell_type": "code",
   "execution_count": 1,
   "metadata": {},
   "outputs": [],
   "source": [
    "import sys\n",
    "from pathlib import Path\n",
    "\n",
    "repo_dir = Path('..').resolve()\n",
    "assert repo_dir.name == 'hicetnunc-dataset', repo_dir\n",
    "if str(repo_dir) not in sys.path:\n",
    "    sys.path.append(str(repo_dir))\n",
    "\n",
    "import src.reload; src.reload.reload()"
   ]
  },
  {
   "cell_type": "code",
   "execution_count": 165,
   "metadata": {},
   "outputs": [],
   "source": [
    "# accounts_metadata = {}\n",
    "# accounts_metadata = src.utils.read_json(src.config.tzktio_accounts_metadata_file)"
   ]
  },
  {
   "cell_type": "code",
   "execution_count": 166,
   "metadata": {},
   "outputs": [
    {
     "name": "stderr",
     "output_type": "stream",
     "text": [
      "100%|██████████████████████████████████████████████████████████████████████████████████████████████████████████████████████████████████████████████| 3753/3753 [17:04<00:00,  3.66it/s]\n"
     ]
    }
   ],
   "source": [
    "from tqdm import tqdm\n",
    "import requests\n",
    "\n",
    "for addr in tqdm(addrs_db):\n",
    "    if addr in accounts_metadata:\n",
    "        continue\n",
    "\n",
    "    req = requests.get(f'https://api.tzkt.io/v1/accounts/{addr}/metadata')\n",
    "    if req.status_code == 200:\n",
    "        accounts_metadata[addr] = req.json()\n",
    "    elif req.status_code == 204:\n",
    "        accounts_metadata[addr] = None\n",
    "    else:\n",
    "        print(addr, req.status_code, req.text)"
   ]
  },
  {
   "cell_type": "code",
   "execution_count": 170,
   "metadata": {
    "scrolled": true
   },
   "outputs": [
    {
     "name": "stdout",
     "output_type": "stream",
     "text": [
      "3753\n"
     ]
    },
    {
     "data": {
      "text/plain": [
       "[('kind', 676),\n",
       " ('alias', 676),\n",
       " ('logo', 674),\n",
       " ('twitter', 652),\n",
       " ('description', 628),\n",
       " ('email', 477),\n",
       " ('site', 416),\n",
       " ('instagram', 399),\n",
       " ('address', 306),\n",
       " ('github', 114),\n",
       " ('telegram', 60),\n",
       " ('facebook', 52),\n",
       " ('reddit', 20),\n",
       " ('owner', 1)]"
      ]
     },
     "execution_count": 170,
     "metadata": {},
     "output_type": "execute_result"
    }
   ],
   "source": [
    "from collections import Counter\n",
    "\n",
    "addr_meta_fields_cnt = Counter()\n",
    "examples = {}\n",
    "\n",
    "for addr, addr_meta in accounts_metadata.items():\n",
    "    if addr_meta is None:\n",
    "        continue\n",
    "    for field in addr_meta:\n",
    "        addr_meta_fields_cnt[field] += 1\n",
    "        if len(addr_meta[field]) < 15:\n",
    "            examples[field] = addr_meta[field]\n",
    "\n",
    "print(len(accounts_metadata))\n",
    "\n",
    "# https://api.tzkt.io/#operation/Accounts_GetMetadata\n",
    "addr_meta_fields_cnt.most_common()"
   ]
  },
  {
   "cell_type": "code",
   "execution_count": 27,
   "metadata": {},
   "outputs": [],
   "source": [
    "%run -i ../src/reload.py"
   ]
  },
  {
   "cell_type": "code",
   "execution_count": 172,
   "metadata": {},
   "outputs": [
    {
     "name": "stdout",
     "output_type": "stream",
     "text": [
      "written 1186084 bytes 3753 entries\n"
     ]
    }
   ],
   "source": [
    "src.utils.write_json(addrs_db, src.config.addrs_db_json_file)"
   ]
  }
 ],
 "metadata": {
  "kernelspec": {
   "display_name": "Python 3",
   "language": "python",
   "name": "python3"
  },
  "language_info": {
   "codemirror_mode": {
    "name": "ipython",
    "version": 3
   },
   "file_extension": ".py",
   "mimetype": "text/x-python",
   "name": "python",
   "nbconvert_exporter": "python",
   "pygments_lexer": "ipython3",
   "version": "3.6.5"
  }
 },
 "nbformat": 4,
 "nbformat_minor": 2
}
