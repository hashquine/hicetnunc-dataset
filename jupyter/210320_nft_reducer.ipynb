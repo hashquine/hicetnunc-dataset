{
 "cells": [
  {
   "cell_type": "code",
   "execution_count": 303,
   "metadata": {},
   "outputs": [],
   "source": [
    "import sys\n",
    "import time\n",
    "import datetime\n",
    "from pathlib import Path\n",
    "from tqdm import tqdm\n",
    "import requests\n",
    "from collections import Counter\n",
    "\n",
    "repo_dir = Path('..').resolve()\n",
    "assert repo_dir.name == 'hicetnunc-dataset', repo_dir\n",
    "if str(repo_dir) not in sys.path:\n",
    "    sys.path.append(str(repo_dir))\n",
    "\n",
    "import lib.utils\n",
    "import lib.iter_tr\n",
    "\n",
    "\n",
    "stamp_step = 100000\n",
    "config_hash = '4ff66f8cc8'\n",
    "transactions_dir = repo_dir / 'cache' / 'transactions' / config_hash\n",
    "assert transactions_dir.is_dir()\n",
    "\n",
    "art_house_contract = 'KT1Hkg5qeNhfwpKW4fXvq7HGZB9z2EnmCCA9'\n",
    "curate_contract = 'KT1TybhR7XraG75JFYKSrh7KnxukMBT5dor6'\n",
    "hdao_contract = 'KT1AFA2mwNUMNd4SsujE1YYp29vd8BZejyKW'\n",
    "nft_contract = 'KT1RJ6PbjHpwc3M5rw5s2Nbmefwbuwbdxton'\n",
    "comission_wallet = 'tz1UBZUkXpKGhYsP5KtzDNqLLchwF4uHrGjw'\n",
    "\n",
    "known_addrs = {\n",
    "    art_house_contract,\n",
    "    curate_contract,\n",
    "    hdao_contract,\n",
    "    nft_contract,\n",
    "    comission_wallet,\n",
    "}"
   ]
  },
  {
   "cell_type": "code",
   "execution_count": 290,
   "metadata": {
    "scrolled": true
   },
   "outputs": [
    {
     "name": "stderr",
     "output_type": "stream",
     "text": [
      "100%|██████████████████████████████████████████████████████████████████████████████████████████████████████████████████████████████████████████████████| 19/19 [00:04<00:00,  4.18it/s]"
     ]
    },
    {
     "name": "stdout",
     "output_type": "stream",
     "text": [
      "\n"
     ]
    },
    {
     "name": "stderr",
     "output_type": "stream",
     "text": [
      "\n"
     ]
    }
   ],
   "source": [
    "nft_ops = []\n",
    "art_house_ops = []\n",
    "money_ops = []\n",
    "\n",
    "for tr in lib.iter_tr.iter_tr(transactions_dir, stamp_step):\n",
    "    for op in tr['ops']:\n",
    "        op_hash = op['hash']\n",
    "        if op['sender'] == nft_contract:\n",
    "            raise Exception(f'Not expecting nft_contract to send messages: {op_hash}')\n",
    "        if op['type'] != 'reveal' and op['receiver'] == nft_contract:\n",
    "            nft_ops.append(op)\n",
    "        if op['type'] != 'reveal' and op['receiver'] == art_house_contract:\n",
    "            art_house_ops.append(op)\n",
    "        if op['volume'] > 0:\n",
    "            money_ops.append(op)"
   ]
  },
  {
   "cell_type": "markdown",
   "metadata": {},
   "source": [
    "## Money transfers"
   ]
  },
  {
   "cell_type": "code",
   "execution_count": 301,
   "metadata": {},
   "outputs": [
    {
     "name": "stdout",
     "output_type": "stream",
     "text": [
      "runEntrypointLambda onzQrAvbK1egrHGhnG1mCi9jCp6GCD5UEgRP3AjXhSpgJZq74KG\n"
     ]
    }
   ],
   "source": [
    "calls_counter = Counter()\n",
    "status_counter = Counter()\n",
    "errors_counter = Counter()\n",
    "\n",
    "for op in money_ops:\n",
    "    op_hash = op['hash']\n",
    "\n",
    "    op_status = op['status']\n",
    "    status_counter[op_status] += 1\n",
    "\n",
    "    if op_status == 'applied':\n",
    "        pass\n",
    "\n",
    "    elif op_status == 'backtracked':\n",
    "        continue\n",
    "\n",
    "    elif op_status == 'failed':\n",
    "        for error in op['errors']:\n",
    "            assert error['kind'] == 'temporary'\n",
    "            assert error['id'] in [\n",
    "                'proto.008-PtEdo2Zk.michelson_v1.runtime_error',\n",
    "                'proto.008-PtEdo2Zk.michelson_v1.script_rejected',\n",
    "            ]\n",
    "            # if error['id'] == 'proto.008-PtEdo2Zk.michelson_v1.script_rejected':\n",
    "            #     print(op_hash, op['parameters'])\n",
    "            errors_counter[error['id']] += 1\n",
    "\n",
    "        continue\n",
    "\n",
    "    else:\n",
    "        raise Exception(f'Unknown op status = {op_status}, hash = {op_hash}')\n",
    "\n",
    "    op_type = op['type']\n",
    "    assert op_type == 'transaction'\n",
    "\n",
    "    if 'parameters' in op:\n",
    "        params = op['parameters']\n",
    "        call = params['call']\n",
    "        calls_counter[call] += 1\n",
    "        value = params['value']\n",
    "        print(call, op_hash)\n",
    "        break\n"
   ]
  },
  {
   "cell_type": "code",
   "execution_count": 302,
   "metadata": {},
   "outputs": [
    {
     "data": {
      "text/plain": [
       "{'row_id': 42181118,\n",
       " 'hash': 'onzQrAvbK1egrHGhnG1mCi9jCp6GCD5UEgRP3AjXhSpgJZq74KG',\n",
       " 'type': 'transaction',\n",
       " 'block': 'BLHBwgiywrLKQstqVo5Du8vjdWoBdK8haXRgbegt8pKyqCNkeZZ',\n",
       " 'time': '2021-02-28T14:42:45Z',\n",
       " 'height': 1364471,\n",
       " 'cycle': 333,\n",
       " 'counter': 0,\n",
       " 'op_l': 3,\n",
       " 'op_p': 2,\n",
       " 'op_c': 68,\n",
       " 'op_i': 0,\n",
       " 'status': 'applied',\n",
       " 'is_success': True,\n",
       " 'is_contract': True,\n",
       " 'gas_limit': 0,\n",
       " 'gas_used': 60634,\n",
       " 'gas_price': 0,\n",
       " 'storage_limit': 0,\n",
       " 'storage_size': 22969,\n",
       " 'storage_paid': 0,\n",
       " 'volume': 0.004014,\n",
       " 'fee': 0,\n",
       " 'is_internal': True,\n",
       " 'has_data': True,\n",
       " 'days_destroyed': 0.024131,\n",
       " 'parameters': {'entrypoint': 'runEntrypointLambda',\n",
       "  'call': 'runEntrypointLambda',\n",
       "  'branch': 'R',\n",
       "  'id': 1,\n",
       "  'value': {'lambdaName': 'onOvenDepositReceived', 'lambdaParameter': 'Unit'}},\n",
       " 'storage': {'value': {'arbitraryValues': '258',\n",
       "   'lambdas': '259',\n",
       "   'ovens': '260'}},\n",
       " 'sender': 'KT1VHPsMmKVfdog7sS6FfBZ7Nqgz7Lzk5TZK',\n",
       " 'receiver': 'KT1V4Vp7zhynCNuaBjWMpNU535Xm2sgqkz6M',\n",
       " 'creator': 'tz1S5WxdZR5f9NzsPXhr7L9L1vrEb5spZFur',\n",
       " 'entrypoint_id': 1}"
      ]
     },
     "execution_count": 302,
     "metadata": {},
     "output_type": "execute_result"
    }
   ],
   "source": [
    "op"
   ]
  },
  {
   "cell_type": "code",
   "execution_count": 295,
   "metadata": {},
   "outputs": [
    {
     "name": "stdout",
     "output_type": "stream",
     "text": [
      "[('applied', 42919), ('backtracked', 120), ('failed', 29)]\n",
      "[('proto.008-PtEdo2Zk.michelson_v1.runtime_error', 29), ('proto.008-PtEdo2Zk.michelson_v1.script_rejected', 29)]\n"
     ]
    }
   ],
   "source": [
    "print(status_counter.most_common())\n",
    "print(errors_counter.most_common())"
   ]
  },
  {
   "cell_type": "markdown",
   "metadata": {},
   "source": [
    "## Art house state"
   ]
  },
  {
   "cell_type": "code",
   "execution_count": 287,
   "metadata": {},
   "outputs": [],
   "source": [
    "class ArtHouseState:\n",
    "    def __init__(self):\n",
    "        self.swaps = {}\n",
    "        self.next_swap_id = 0\n",
    "        self.tokens = {}\n",
    "        self.next_token_id = 152\n",
    "\n",
    "    def mint(self, pv, op):\n",
    "        token_id = self.next_token_id\n",
    "        self.next_token_id += 1\n",
    "        self.tokens[token_id] = {}\n",
    "\n",
    "    def swap(self, pv, op):\n",
    "        swap_id = self.next_swap_id\n",
    "        self.next_swap_id += 1\n",
    "\n",
    "        assert int(value['objkt_amount'])\n",
    "        assert int(value['objkt_id'])\n",
    "        assert int(value['xtz_per_objkt']) >= 0\n",
    "\n",
    "        self.swaps[swap_id] = {\n",
    "            'initial_count': int(value['objkt_amount']),\n",
    "            'remaining_count': int(value['objkt_amount']),\n",
    "            'token_id': int(value['objkt_id']),\n",
    "            'price': int(value['xtz_per_objkt']),\n",
    "            'active': True,\n",
    "        }\n",
    "        # TODO: check sender is token creator\n",
    "\n",
    "    def cancel_swap(self, pv, op):\n",
    "        swap_id = int(pv['cancel_swap'])\n",
    "        assert self.swaps[swap_id]['active']\n",
    "        self.swaps[swap_id]['active'] = False\n",
    "\n",
    "    def collect(self, pv, op):\n",
    "        count = int(value['objkt_amount'])\n",
    "        swap_id = int(value['swap_id'])\n",
    "        self.swaps[swap_id]['remaining_count'] -= count\n",
    "        assert self.swaps[swap_id]['remaining_count'] >= 0\n",
    "\n",
    "\n",
    "calls_counter = Counter()\n",
    "status_counter = Counter()\n",
    "errors_counter = Counter()\n",
    "\n",
    "# curate_stamps = []\n",
    "# swap_stamps = []\n",
    "\n",
    "art_house_state = ArtHouseState()\n",
    "\n",
    "for op in art_house_ops:\n",
    "    op_hash = op['hash']\n",
    "\n",
    "    op_status = op['status']\n",
    "    status_counter[op_status] += 1\n",
    "\n",
    "    if op_status == 'applied':\n",
    "        pass\n",
    "\n",
    "    elif op_status == 'backtracked':\n",
    "        continue\n",
    "\n",
    "    elif op_status == 'failed':\n",
    "        for error in op['errors']:\n",
    "            assert error['kind'] == 'temporary'\n",
    "            assert error['id'] in [\n",
    "                'proto.008-PtEdo2Zk.michelson_v1.runtime_error',\n",
    "                'proto.008-PtEdo2Zk.michelson_v1.script_rejected',\n",
    "            ]\n",
    "            # if error['id'] == 'proto.008-PtEdo2Zk.michelson_v1.script_rejected':\n",
    "            #     print(op_hash, op['parameters'])\n",
    "            errors_counter[error['id']] += 1\n",
    "\n",
    "        continue\n",
    "\n",
    "    else:\n",
    "        raise Exception(f'Unknown op status = {op_status}, hash = {op_hash}')\n",
    "\n",
    "    op_type = op['type']\n",
    "\n",
    "    if op_type == 'origination':\n",
    "        assert op is art_house_ops[0]\n",
    "        continue\n",
    "\n",
    "    assert op_type == 'transaction'\n",
    "\n",
    "    params = op['parameters']\n",
    "    call = params['call']\n",
    "    calls_counter[call] += 1\n",
    "    value = params['value']\n",
    "    \n",
    "    assert op['entrypoint_id'] == params['id']\n",
    "\n",
    "    storage = op['storage']\n",
    "    assert set(storage.keys()) == {'value'}\n",
    "    storage_value = storage['value']\n",
    "\n",
    "    assert set(storage_value.keys()) == {\n",
    "        'curate', 'genesis', 'hdao', 'locked', 'manager', 'metadata', 'objkt',\n",
    "        'objkt_id', 'royalties', 'size', 'swap_id', 'swaps',\n",
    "    }\n",
    "    assert storage_value['curate'] == curate_contract\n",
    "    assert storage_value['genesis'] == '2021-04-15T02:09:41Z'\n",
    "    assert storage_value['hdao'] == hdao_contract\n",
    "    assert storage_value['locked'] == 'true'\n",
    "    assert storage_value['manager'] == comission_wallet\n",
    "    assert storage_value['metadata'] == '521'\n",
    "    assert storage_value['objkt'] == nft_contract\n",
    "    assert int(storage_value['objkt_id'])\n",
    "    assert storage_value['royalties'] == '522'\n",
    "    assert storage_value['size'] == '0'\n",
    "    assert int(storage_value['swap_id']) >= 0\n",
    "    assert storage_value['swaps'] == '523'\n",
    "\n",
    "    if call == 'genesis':\n",
    "        assert op is art_house_ops[1]\n",
    "        continue\n",
    "\n",
    "    assert params['entrypoint'] == params['call']\n",
    "\n",
    "    if call == 'curate':\n",
    "        assert params['branch'] == 'LRR'\n",
    "        assert params['id'] == 2\n",
    "        assert set(value.keys()) == { 'hDAO_amount', 'objkt_id' }\n",
    "        assert int(value['hDAO_amount']) >= 0\n",
    "        assert int(value['objkt_id'])\n",
    "        assert op['volume'] == 0\n",
    "        # curate_stamps.append(lib.utils.iso_date_to_stamp(op['time']))\n",
    "        assert 'big_map_diff' not in op\n",
    "        continue\n",
    "\n",
    "    big_map_diff = op['big_map_diff']\n",
    "\n",
    "    if call == 'collect':\n",
    "        assert params['branch'] == 'LRL'\n",
    "        assert params['id'] == 1\n",
    "        assert set(value.keys()) == { 'objkt_amount', 'swap_id' }\n",
    "        assert int(value['objkt_amount'])\n",
    "        assert int(value['swap_id']) >= 0\n",
    "        assert op['volume'] >= 0\n",
    "\n",
    "        art_house_state.collect(value, op)\n",
    "        new_swap_count = art_house_state.swaps[int(value['swap_id'])]['remaining_count']\n",
    "\n",
    "        assert len(big_map_diff) == 1\n",
    "        swap_id = int(value['swap_id'])\n",
    "        assert big_map_diff[0]['key'] == str(swap_id)\n",
    "        if new_swap_count == 0:\n",
    "            assert big_map_diff[0]['action'] == 'remove'\n",
    "        else:\n",
    "            assert big_map_diff[0]['action'] == 'update'\n",
    "            assert big_map_diff[0]['value']['objkt_amount'] == str(new_swap_count)\n",
    "\n",
    "    elif call == 'swap':\n",
    "        assert params['branch'] == 'RRL'\n",
    "        assert params['id'] == 5\n",
    "        assert set(value.keys()) == { 'objkt_amount', 'objkt_id', 'xtz_per_objkt' }\n",
    "        assert int(value['objkt_amount'])\n",
    "        assert int(value['objkt_id'])\n",
    "        assert int(value['xtz_per_objkt']) >= 0\n",
    "        assert op['volume'] == 0\n",
    "\n",
    "        swap_id = art_house_state.next_swap_id\n",
    "        art_house_state.swap(value, op)\n",
    "\n",
    "        assert len(big_map_diff) == 1\n",
    "        assert swap_id == int(big_map_diff[0]['key'])\n",
    "        assert big_map_diff[0]['key'] == str(int(storage_value['swap_id']) - 1)\n",
    "        assert big_map_diff[0]['action'] == 'update'\n",
    "        assert big_map_diff[0]['value'] == {\n",
    "            'issuer': op['sender'],\n",
    "            **value,\n",
    "        }\n",
    "\n",
    "    elif call == 'mint_OBJKT':\n",
    "        assert params['branch'] == 'RLR'\n",
    "        assert params['id'] == 4\n",
    "        assert set(value.keys()) == { 'address', 'amount', 'metadata', 'royalties' }\n",
    "        assert int(value['amount'])\n",
    "        assert int(value['royalties']) >= 0\n",
    "        assert value['metadata'].startswith('ipfs://')\n",
    "        assert op['volume'] == 0\n",
    "\n",
    "        objkt_id = art_house_state.next_token_id\n",
    "        art_house_state.mint(value, op)\n",
    "\n",
    "        assert len(big_map_diff) == 1\n",
    "        assert objkt_id == int(big_map_diff[0]['key'])\n",
    "        assert big_map_diff[0]['key'] == str(int(storage_value['objkt_id']) - 1)\n",
    "        assert big_map_diff[0]['action'] == 'update'\n",
    "        assert big_map_diff[0]['value'] == {\n",
    "            'issuer': op['sender'],\n",
    "            'royalties': value['royalties'],\n",
    "        }\n",
    "\n",
    "    elif call == 'cancel_swap':\n",
    "        assert params['branch'] == 'LL'\n",
    "        assert params['id'] == 0\n",
    "        assert set(value.keys()) == { 'cancel_swap' }\n",
    "        assert int(value['cancel_swap']) >= 0\n",
    "        assert op['volume'] == 0\n",
    "        assert len(big_map_diff) == 1\n",
    "\n",
    "        art_house_state.cancel_swap(value, op)\n",
    "\n",
    "        swap_id = int(value['cancel_swap'])\n",
    "        assert big_map_diff[0]['key'] == str(swap_id)\n",
    "        assert big_map_diff[0]['action'] == 'remove'\n",
    "\n",
    "    else:\n",
    "        raise Exception(f'Unknown art_house call \"{call}\"')"
   ]
  },
  {
   "cell_type": "code",
   "execution_count": 277,
   "metadata": {},
   "outputs": [
    {
     "data": {
      "text/plain": [
       "[{'key': '152',\n",
       "  'key_hash': 'exprusBDEMffQGtgXrHHfUWWWvDGJvSRdt4WBNR5PRsZ5eWqC2nfJ7',\n",
       "  'key_binary': '152',\n",
       "  'value': {'issuer': 'tz1UBZUkXpKGhYsP5KtzDNqLLchwF4uHrGjw',\n",
       "   'royalties': '100'},\n",
       "  'action': 'update'}]"
      ]
     },
     "execution_count": 277,
     "metadata": {},
     "output_type": "execute_result"
    }
   ],
   "source": [
    "big_map_diff"
   ]
  },
  {
   "cell_type": "code",
   "execution_count": 273,
   "metadata": {},
   "outputs": [
    {
     "data": {
      "text/plain": [
       "[{'key': '8944',\n",
       "  'key_hash': 'expru9sJSymy2XpV4rZgrYYLxcyTJwDshBXCBeZCoqMRvieSkx37rK',\n",
       "  'key_binary': '8944',\n",
       "  'value': {'issuer': 'tz1gNKnwjUNRKa9RK9dTs6VjhCsnfFw2Gm65',\n",
       "   'objkt_amount': '10',\n",
       "   'objkt_id': '8963',\n",
       "   'xtz_per_objkt': '2000000'},\n",
       "  'action': 'update'}]"
      ]
     },
     "execution_count": 273,
     "metadata": {},
     "output_type": "execute_result"
    }
   ],
   "source": [
    "big_map_diff"
   ]
  },
  {
   "cell_type": "code",
   "execution_count": 206,
   "metadata": {},
   "outputs": [
    {
     "name": "stdout",
     "output_type": "stream",
     "text": [
      "32238\n",
      "[('collect', 11664), ('swap', 8945), ('mint_OBJKT', 8812), ('cancel_swap', 1096), ('curate', 403), ('genesis', 1)]\n",
      "[('applied', 30922), ('backtracked', 1281), ('failed', 35)]\n",
      "[('proto.008-PtEdo2Zk.michelson_v1.runtime_error', 35), ('proto.008-PtEdo2Zk.michelson_v1.script_rejected', 35)]\n"
     ]
    }
   ],
   "source": [
    "print(len(art_house_ops))\n",
    "print(calls_counter.most_common())\n",
    "print(status_counter.most_common())\n",
    "print(errors_counter.most_common())"
   ]
  },
  {
   "cell_type": "markdown",
   "metadata": {},
   "source": [
    "## NFT state"
   ]
  },
  {
   "cell_type": "code",
   "execution_count": 197,
   "metadata": {},
   "outputs": [],
   "source": [
    "class NFTState:\n",
    "    def __init__(self):\n",
    "        self.tokens = {}\n",
    "        self.next_token_id = 152\n",
    "\n",
    "    def mint(self, pv, op):\n",
    "        token_id = int(pv['token_id'])\n",
    "        assert token_id == self.next_token_id\n",
    "        amount = int(pv['amount'])\n",
    "        creator = pv['address']\n",
    "        assert token_id not in self.tokens\n",
    "        self.tokens[token_id] = {\n",
    "            'creator': creator,\n",
    "            'total_amount': amount,\n",
    "            'token_info_ipfs': pv['token_info']['0@bytes'],\n",
    "            'created_stamp': lib.utils.iso_date_to_stamp(op['time']),\n",
    "            'mint_tr_hash': op['hash'],\n",
    "            'own_counts': {\n",
    "                creator: amount,\n",
    "            },\n",
    "            'transfers': [],\n",
    "        }\n",
    "        self.next_token_id += 1\n",
    "\n",
    "    def transfer(self, pv, op):\n",
    "        assert len(pv['transfer']) == 1\n",
    "        trans = pv['transfer'][0]\n",
    "        sender = trans['from_']\n",
    "        diff = {}\n",
    "        for tx in trans['txs']:\n",
    "            amount = int(tx['amount'])\n",
    "            if amount == 0:\n",
    "                continue\n",
    "            receiver = tx['to_']\n",
    "            if receiver == curate_contract:\n",
    "                print(op['hash'])\n",
    "            token_id = int(tx['token_id'])\n",
    "            token_own_counts = self.tokens[token_id]['own_counts']\n",
    "            assert sender != receiver\n",
    "            sender_count = self.get_own_count(sender, token_id)\n",
    "            receiver_count = self.get_own_count(receiver, token_id)\n",
    "            assert sender_count >= amount\n",
    "            token_own_counts[sender] = sender_count - amount\n",
    "            token_own_counts[receiver] = receiver_count + amount\n",
    "            diff[(sender, token_id)] = self.get_own_count(sender, token_id)\n",
    "            diff[(receiver, token_id)] = self.get_own_count(receiver, token_id)\n",
    "            self.tokens[token_id]['transfers'].append({\n",
    "                'from': sender,\n",
    "                'to': receiver,\n",
    "                'count': amount,\n",
    "                'stamp': lib.utils.iso_date_to_stamp(op['time']),\n",
    "                'hash': op['hash'],\n",
    "            })\n",
    "\n",
    "        return {\n",
    "            (sender, token_id, count)\n",
    "            for (sender, token_id), count in diff.items()\n",
    "        }\n",
    "\n",
    "    def get_own_count(self, addr, token_id):\n",
    "        if token_id not in self.tokens:\n",
    "            raise Exception(f'Token {token_id} not found')\n",
    "        return self.tokens[token_id]['own_counts'].get(addr, 0)\n",
    "\n",
    "\n",
    "\n",
    "calls_counter = Counter()\n",
    "status_counter = Counter()\n",
    "errors_counter = Counter()\n",
    "senders_counter = Counter()\n",
    "\n",
    "nft_state = NFTState()\n",
    "\n",
    "for op in nft_ops:\n",
    "    op_hash = op['hash']\n",
    "\n",
    "    op_status = op['status']\n",
    "    status_counter[op_status] += 1\n",
    "\n",
    "    if op_status == 'applied':\n",
    "        pass\n",
    "\n",
    "    elif op_status == 'backtracked':\n",
    "        continue\n",
    "\n",
    "    elif op_status == 'failed':\n",
    "        for error in op['errors']:\n",
    "            assert error['kind'] == 'temporary'\n",
    "            assert error['id'] in [\n",
    "                'proto.008-PtEdo2Zk.michelson_v1.runtime_error',\n",
    "                'proto.008-PtEdo2Zk.gas_exhausted.operation',\n",
    "            ]\n",
    "            errors_counter[error['id']] += 1\n",
    "\n",
    "        continue\n",
    "\n",
    "    else:\n",
    "        raise Exception(f'Unknown op status = {op_status}, hash = {op_hash}')\n",
    "\n",
    "    assert op['volume'] == 0\n",
    "    senders_counter[op['sender']] += 1\n",
    "\n",
    "    op_type = op['type']\n",
    "    if op_type == 'origination':\n",
    "        assert op is nft_ops[0]\n",
    "        continue\n",
    "\n",
    "    assert op_type == 'transaction'\n",
    "\n",
    "    params = op['parameters']\n",
    "    call = params['call']\n",
    "    calls_counter[call] += 1\n",
    "    value = params['value']\n",
    "\n",
    "    storage = op['storage']\n",
    "    assert set(storage.keys()) == {'value'}\n",
    "    storage_value = storage['value']\n",
    "\n",
    "    assert set(storage_value.keys()) == {\n",
    "        'administrator', 'all_tokens',\n",
    "        'ledger', 'metadata', 'operators',\n",
    "        'paused', 'token_metadata',\n",
    "    }\n",
    "    assert storage_value['administrator'] == art_house_contract\n",
    "    assert int(storage_value['all_tokens']) >= 0\n",
    "    assert storage_value['ledger'] == '511'\n",
    "    assert storage_value['metadata'] == '512'\n",
    "    assert storage_value['operators'] == '513'\n",
    "    assert storage_value['token_metadata'] == '514'\n",
    "    assert storage_value['paused'] == 'false'\n",
    "\n",
    "    if call == 'set_administrator':\n",
    "        assert op is nft_ops[1]\n",
    "        continue\n",
    "\n",
    "    assert params['entrypoint'] == params['call']\n",
    "\n",
    "\n",
    "    if call == 'transfer':\n",
    "        assert op['entrypoint_id'] == 6\n",
    "        assert params['branch'] == 'RRL'\n",
    "        assert params['id'] == 6\n",
    "        assert set(value.keys()) == { 'transfer' }\n",
    "        assert type(value['transfer']) is list\n",
    "        assert len(value['transfer']) == 1\n",
    "        assert set(value['transfer'][0].keys()) == { 'from_', 'txs' }\n",
    "        assert value['transfer'][0]['from_']\n",
    "        assert len(value['transfer'][0]['txs']) >= 1\n",
    "\n",
    "        # if len(value['transfer'][0]['txs']) >= 2:\n",
    "        #     print(value['transfer'][0]['txs'])\n",
    "\n",
    "        for tx in value['transfer'][0]['txs']:\n",
    "            assert set(tx.keys()) == {'amount', 'to_', 'token_id'}\n",
    "\n",
    "        diff_set = nft_state.transfer(value, op)\n",
    "\n",
    "        if len(diff_set) == 0:\n",
    "            assert 'big_map_diff' not in op\n",
    "            continue\n",
    "\n",
    "        big_map_diff = op['big_map_diff']\n",
    "        assert len(big_map_diff) == len(diff_set)\n",
    "        big_map_diff_set = set()\n",
    "        for big_map_diff_item in big_map_diff:\n",
    "            assert big_map_diff_item['action'] == 'update'\n",
    "            big_map_diff_set.add((\n",
    "                big_map_diff_item['key']['0@address'],\n",
    "                int(big_map_diff_item['key']['1@nat']),\n",
    "                int(big_map_diff_item['value']),\n",
    "            ))\n",
    "        assert big_map_diff_set == diff_set\n",
    "\n",
    "    elif call == 'mint':\n",
    "        assert op['sender'] == art_house_contract\n",
    "        assert op['is_internal']\n",
    "        assert op['entrypoint_id'] == 2\n",
    "        assert params['branch'] == 'LRL'\n",
    "        assert params['id'] == 2\n",
    "        assert set(value.keys()) == { 'address', 'amount', 'token_id', 'token_info' }\n",
    "        assert int(value['amount'])\n",
    "        assert int(value['token_id'])\n",
    "        assert value['address'] == op['creator']\n",
    "        assert set(value['token_info'].keys()) == {'0@bytes'}\n",
    "        assert value['token_info']['0@bytes'].startswith('ipfs://')\n",
    "        assert storage_value['all_tokens'] == str(int(value['token_id']) + 1)\n",
    "\n",
    "        big_map_diff = op['big_map_diff']\n",
    "        assert len(big_map_diff) == 2\n",
    "        assert big_map_diff[0]['key'] == value['token_id']\n",
    "        assert big_map_diff[0]['action'] == 'update'\n",
    "        assert big_map_diff[0]['value'] == {\n",
    "            'token_id': value['token_id'],\n",
    "            'token_info': value['token_info'],\n",
    "        }\n",
    "        assert big_map_diff[1]['key'] == {\n",
    "            '0@address': value['address'],\n",
    "            '1@nat': value['token_id'],\n",
    "        }\n",
    "        assert big_map_diff[1]['action'] == 'update'\n",
    "        assert big_map_diff[1]['value'] == value['amount']\n",
    "        nft_state.mint(value, op)\n",
    "\n",
    "    else:\n",
    "        raise Exception(f'Unknown call: {call}')\n"
   ]
  },
  {
   "cell_type": "code",
   "execution_count": 283,
   "metadata": {},
   "outputs": [
    {
     "name": "stdout",
     "output_type": "stream",
     "text": [
      "32846\n",
      "[('transfer', 22752), ('mint', 8812), ('set_administrator', 1)]\n",
      "[('applied', 31566), ('backtracked', 1269), ('failed', 11)]\n",
      "[('proto.008-PtEdo2Zk.michelson_v1.runtime_error', 11), ('proto.008-PtEdo2Zk.gas_exhausted.operation', 11)]\n"
     ]
    }
   ],
   "source": [
    "print(len(nft_ops))\n",
    "print(calls_counter.most_common())\n",
    "print(status_counter.most_common())\n",
    "print(errors_counter.most_common())"
   ]
  },
  {
   "cell_type": "raw",
   "metadata": {},
   "source": [
    "Zero transfers:\n",
    "ooXTr2AJBN95EiN3u7NcUg5K7Pkd8nRHNRxa8CbxRNhQZEW4QLN\n",
    "ooo3i1QJ4ueDpSWuVU3tTtkJc8d21Qgvorc64PJbnhCDpSKXouq\n",
    "oniJmfLvHTrerNgQNnL1APjkieX8QxMgcJa8R6Z9o2Lr13Bc3dz\n",
    "\n",
    "https://ipfs.io/ipfs/QmSBc8QuynU7bArUGtjwCRhZUbJyZQArrczKnqM7hZPtfV:\n",
    "{\"authors\":[\"@hicetnunc2000 <hicetnunc2000@protonmail.com>\"],\"description\":\"OBJKTs FA2 collectibles\",\"homepage\":\"https://hicetnunc.xyz\",\"interfaces\":[\"TZIP-12\"],\"license\":{\"name\":\"MIT\"},\"name\":\"OBJKTs\",\"repository\":\"https://github.com/hic2nc2000\",\"version\":\"2.0.0\"}\n",
    "\n",
    "https://ipfs.io/ipfs/QmeipiJCBddE8eHQQHSHFdLPbMtNKxPCMFeeVjsM57q86o\n",
    "{\"authors\":[\"@hicetnunc2000 <hicetnunc2000@protonmail.com>\"],\"description\":\"OBJKT Swaps and Collectibles Public Mintery\",\"homepage\":\"https://hicetnunc.xyz\",\"interfaces\":[],\"license\":{\"name\":\"MIT\"},\"name\":\"OBJKT Mintery/Swap Protocol\",\"repository\":\"https://github.com/hicetnunc2000/objkts\",\"version\":\"2.0.0\"}\n",
    "\n",
    "https://www.michelson-lang.com/\n",
    "https://smartpy.io/\n",
    "https://github.com/hicetnunc2000/hicetnuncDAO\n",
    "https://github.com/hicetnunc2000/objkt-swap"
   ]
  },
  {
   "cell_type": "code",
   "execution_count": 7,
   "metadata": {},
   "outputs": [],
   "source": [
    "import importlib\n",
    "importlib.reload(lib.utils);\n",
    "importlib.reload(lib.iter_tr);"
   ]
  },
  {
   "cell_type": "code",
   "execution_count": 201,
   "metadata": {},
   "outputs": [],
   "source": [
    "%matplotlib inline\n",
    "from matplotlib import pyplot as plt\n",
    "\n",
    "import time"
   ]
  },
  {
   "cell_type": "code",
   "execution_count": 204,
   "metadata": {},
   "outputs": [
    {
     "data": {
      "image/png": "[encoded data removed]",
      "text/plain": [
       "<Figure size 1080x360 with 1 Axes>"
      ]
     },
     "metadata": {
      "needs_background": "light"
     },
     "output_type": "display_data"
    }
   ],
   "source": [
    "plt.figure(figsize=(15, 5))\n",
    "plt.hist(swap_stamps, bins=1000);\n",
    "plt.hist(curate_stamps, bins=1000);"
   ]
  },
  {
   "cell_type": "code",
   "execution_count": 15,
   "metadata": {},
   "outputs": [
    {
     "data": {
      "text/plain": [
       "99.06009531021118"
      ]
     },
     "execution_count": 15,
     "metadata": {},
     "output_type": "execute_result"
    }
   ],
   "source": [
    "stamps = []\n",
    "\n",
    "for tr in lib.iter_tr.iter_tr(transactions_dir, stamp_step):\n",
    "    stamps.append(tr['stamp'])\n",
    "\n",
    "import time\n",
    "\n",
    "time.time() - stamps[-1]"
   ]
  },
  {
   "cell_type": "code",
   "execution_count": 16,
   "metadata": {},
   "outputs": [
    {
     "data": {
      "image/png": "[encoded data removed]",
      "text/plain": [
       "<Figure size 1080x360 with 1 Axes>"
      ]
     },
     "metadata": {
      "needs_background": "light"
     },
     "output_type": "display_data"
    }
   ],
   "source": [
    "plt.figure(figsize=(15, 5))\n",
    "plt.hist(stamps, bins=1000);"
   ]
  }
 ],
 "metadata": {
  "kernelspec": {
   "display_name": "Python 3",
   "language": "python",
   "name": "python3"
  },
  "language_info": {
   "codemirror_mode": {
    "name": "ipython",
    "version": 3
   },
   "file_extension": ".py",
   "mimetype": "text/x-python",
   "name": "python",
   "nbconvert_exporter": "python",
   "pygments_lexer": "ipython3",
   "version": "3.6.5"
  }
 },
 "nbformat": 4,
 "nbformat_minor": 2
}
