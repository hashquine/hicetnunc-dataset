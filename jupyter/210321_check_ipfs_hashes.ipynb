{
 "cells": [
  {
   "cell_type": "markdown",
   "metadata": {},
   "source": [
    "https://github.com/multiformats/cid/blob/ef1b2002394b15b1e6c26c30545fd485f2c4c138/README.md#decoding-algorithm\n",
    "https://stackoverflow.com/a/51304779/6794086\n",
    "https://github.com/jgraef/python3-pb2nano/blob/master/pb2nano/writer.py\n",
    "https://github.com/ipfs/go-unixfs/blob/master/pb/unixfs.proto"
   ]
  },
  {
   "cell_type": "markdown",
   "metadata": {},
   "source": [
    "## "
   ]
  },
  {
   "cell_type": "code",
   "execution_count": 261,
   "metadata": {},
   "outputs": [],
   "source": [
    "from pb2nano.protocol import Pb2Enum, Pb2Message, Pb2Protocol\n",
    "\n",
    "DataType = Pb2Enum(\"DataType\") \\\n",
    "           .define(\"Raw\", 0) \\\n",
    "           .define(\"Directory\", 1) \\\n",
    "           .define(\"File\", 2) \\\n",
    "           .define(\"Metadata\", 3) \\\n",
    "           .define(\"Symlink\", 4)\n",
    "\n",
    "Data = Pb2Message(\"Data\")\\\n",
    "       .field(\"required\", \"DataType\", \"Type\", 1) \\\n",
    "       .field(\"optional\", \"bytes\", \"Data\", 2) \\\n",
    "       .field(\"optional\", \"uint64\", \"filesize\", 3) \\\n",
    "       .field(\"repeated\", \"uint64\", \"blocksize\", 4)\n",
    "\n",
    "Metadata = Pb2Message(\"Metadata\")\\\n",
    "           .field(\"required\", \"string\", \"MimeType\", 1)\n",
    "\n",
    "UnixFsProtocol = Pb2Protocol()\\\n",
    "                 .enum(DataType)\\\n",
    "                 .message(Data)\\\n",
    "                 .message(Metadata)"
   ]
  },
  {
   "cell_type": "code",
   "execution_count": 266,
   "metadata": {},
   "outputs": [],
   "source": [
    "import pb2nano\n",
    "import pb2nano.writer"
   ]
  },
  {
   "cell_type": "code",
   "execution_count": 307,
   "metadata": {},
   "outputs": [],
   "source": [
    "with open('./test.txt', 'wb') as f:\n",
    "    ww = pb2nano.writer.Pb2WireWriter(f)\n",
    "\n",
    "    w = pb2nano.writer.Pb2Writer(ww, UnixFsProtocol, UnixFsProtocol.messages['Data'])\n",
    "    w.write({\n",
    "        'Type': 'File',\n",
    "        'Data': b'hello',\n",
    "    })\n",
    "\n",
    "with open('./test.txt', 'r') as f:\n",
    "    content = f.read()"
   ]
  },
  {
   "cell_type": "markdown",
   "metadata": {},
   "source": [
    "## "
   ]
  },
  {
   "cell_type": "code",
   "execution_count": 49,
   "metadata": {},
   "outputs": [],
   "source": [
    "import base58"
   ]
  },
  {
   "cell_type": "code",
   "execution_count": 81,
   "metadata": {},
   "outputs": [],
   "source": [
    "import multihash"
   ]
  },
  {
   "cell_type": "code",
   "execution_count": 1,
   "metadata": {},
   "outputs": [],
   "source": [
    "import sys\n",
    "from pathlib import Path\n",
    "\n",
    "repo_dir = Path('..').resolve()\n",
    "assert repo_dir.name == 'hicetnunc-dataset', repo_dir\n",
    "if str(repo_dir) not in sys.path:\n",
    "    sys.path.append(str(repo_dir))\n",
    "\n",
    "import src.reload; src.reload.reload()"
   ]
  },
  {
   "cell_type": "code",
   "execution_count": 72,
   "metadata": {},
   "outputs": [],
   "source": [
    "import cid"
   ]
  },
  {
   "cell_type": "code",
   "execution_count": 104,
   "metadata": {},
   "outputs": [
    {
     "data": {
      "text/plain": [
       "Multihash(code=18, name='sha2-256', length=32, digest=b'\\xadc\\x85j\\x8b3\\xe8D\\x07\\xe0\\xdaW\\xe9\\xc9\\xb1\\x8b\\x07UF\\xd8n.K=8N\\xaf\\x95\\x06\\xcd\\x05h')"
      ]
     },
     "execution_count": 104,
     "metadata": {},
     "output_type": "execute_result"
    }
   ],
   "source": [
    "multihash.decode(c.multihash)"
   ]
  },
  {
   "cell_type": "code",
   "execution_count": 103,
   "metadata": {},
   "outputs": [],
   "source": [
    "c = make_cid('Qma1VFw4VhCBcZM5wFXgeqLwYuFcxyVFGRFk6XKYM9xa7H')"
   ]
  },
  {
   "cell_type": "code",
   "execution_count": 79,
   "metadata": {},
   "outputs": [
    {
     "data": {
      "text/plain": [
       "b'\\x12 \\xafxx\\xb8\\x9c\\xcb\\xd7\\x05\\xa4\\xb5r\\xd4\\x1f\\xe2\\x8a\\xbf_\\x86\\xb6oB\\xf8\\x1c9\\x0e\\xa3\\xc7\\x9bPj3\\xe5'"
      ]
     },
     "execution_count": 79,
     "metadata": {},
     "output_type": "execute_result"
    }
   ],
   "source": [
    "base58.b58decode('Qma9cbtRfqsptPs3fuJ9xDUGK1zs4mccs4n8x5gM91HLUU')"
   ]
  },
  {
   "cell_type": "code",
   "execution_count": 80,
   "metadata": {},
   "outputs": [
    {
     "data": {
      "text/plain": [
       "b'6UxYbEZZtiko2CxQAE5R8bcCJqUvd8Vmx5a7qJthFpvq'"
      ]
     },
     "execution_count": 80,
     "metadata": {},
     "output_type": "execute_result"
    }
   ],
   "source": [
    "base58.b58encode(m.digest())"
   ]
  },
  {
   "cell_type": "code",
   "execution_count": 194,
   "metadata": {},
   "outputs": [],
   "source": [
    "## https://github.com/multiformats/cid/blob/ef1b2002394b15b1e6c26c30545fd485f2c4c138/README.md#decoding-algorithm"
   ]
  },
  {
   "cell_type": "code",
   "execution_count": 329,
   "metadata": {},
   "outputs": [
    {
     "data": {
      "text/plain": [
       "599"
      ]
     },
     "execution_count": 329,
     "metadata": {},
     "output_type": "execute_result"
    }
   ],
   "source": [
    "len(fpath.read_bytes())"
   ]
  },
  {
   "cell_type": "code",
   "execution_count": 335,
   "metadata": {},
   "outputs": [
    {
     "data": {
      "text/plain": [
       "(b'\\xadDi\\x17b\\x1f$\\xf9\\xf7\\xae\\xcd\\x92\\xd8\\x01\\xbdI\\xf9\\x8c/.7\\x9c\\xa4\\xbd\\xeb\\xec\\xaa\\xc4_\\xab\\xaaG',\n",
       " b'\\x1b\\xaf\\xd6\\x19uH\\xf4z\\x03.\\x90E\\xb4Z\\xdb\\xe6\\x13\\xf1\\xe5\\x04\\xd6x;\\x14(\\x9f\\x02p:%b\\xc9')"
      ]
     },
     "execution_count": 335,
     "metadata": {},
     "output_type": "execute_result"
    }
   ],
   "source": [
    "import hashlib\n",
    "import base64\n",
    "\n",
    "for no, fpath in enumerate(src.config.ipfs0_dir.iterdir()):\n",
    "    if no == 0:\n",
    "        break\n",
    "\n",
    "with open('./test.txt', 'wb') as f:\n",
    "    ww = pb2nano.writer.Pb2WireWriter(f)\n",
    "\n",
    "    w = pb2nano.writer.Pb2Writer(ww, UnixFsProtocol, UnixFsProtocol.messages['Data'])\n",
    "    w.write({\n",
    "        'Type': 'File',\n",
    "        'Data': fpath.read_bytes(),\n",
    "        # 'filesize': len(fpath.read_bytes()),\n",
    "        # 'blocksize': [],\n",
    "    })\n",
    "\n",
    "m = hashlib.sha256()\n",
    "m.update(Path('./test.txt').read_bytes())\n",
    "m.digest()\n",
    "\n",
    "assert fpath.name.startswith('Qm')\n",
    "assert len(fpath.name) == 46\n",
    "\n",
    "# c = cid.make_cid(fpath.name)\n",
    "c = cid.from_string(fpath.name)\n",
    "mh = multihash.decode(c.multihash)\n",
    "mh.digest, m.digest()"
   ]
  },
  {
   "cell_type": "code",
   "execution_count": 248,
   "metadata": {},
   "outputs": [],
   "source": [
    "cd = cid.CIDv0(m.digest())"
   ]
  },
  {
   "cell_type": "code",
   "execution_count": 249,
   "metadata": {},
   "outputs": [
    {
     "data": {
      "text/plain": [
       "b'FqwCLKvMoJ16A8XBEfNHPAH1neBbM7CavjgF9apqD15L'"
      ]
     },
     "execution_count": 249,
     "metadata": {},
     "output_type": "execute_result"
    }
   ],
   "source": [
    "cd.encode()"
   ]
  },
  {
   "cell_type": "code",
   "execution_count": 252,
   "metadata": {},
   "outputs": [
    {
     "data": {
      "text/plain": [
       "'DF6m9kvZLuBeQ28YZKsxCXtAqXFa3FbMhYDfMoz1NQTv'"
      ]
     },
     "execution_count": 252,
     "metadata": {},
     "output_type": "execute_result"
    }
   ],
   "source": [
    "multihash.to_b58_string(mh.digest)"
   ]
  },
  {
   "cell_type": "code",
   "execution_count": 251,
   "metadata": {},
   "outputs": [
    {
     "data": {
      "text/plain": [
       "'FqwCLKvMoJ16A8XBEfNHPAH1neBbM7CavjgF9apqD15L'"
      ]
     },
     "execution_count": 251,
     "metadata": {},
     "output_type": "execute_result"
    }
   ],
   "source": [
    "multihash.to_b58_string(m.digest())"
   ]
  },
  {
   "cell_type": "code",
   "execution_count": 253,
   "metadata": {},
   "outputs": [
    {
     "data": {
      "text/plain": [
       "('QmaakUFtv57tfGzfYibXbRrhcAM17AguA3mrEX3yPKa6Xv', 46)"
      ]
     },
     "execution_count": 253,
     "metadata": {},
     "output_type": "execute_result"
    }
   ],
   "source": [
    "fpath.name, len(fpath.name)"
   ]
  },
  {
   "cell_type": "code",
   "execution_count": 78,
   "metadata": {},
   "outputs": [
    {
     "data": {
      "text/plain": [
       "b'6UxYbEZZtiko2CxQAE5R8bcCJqUvd8Vmx5a7qJthFpvq'"
      ]
     },
     "execution_count": 78,
     "metadata": {},
     "output_type": "execute_result"
    }
   ],
   "source": [
    "base58.b58encode(m.digest())"
   ]
  },
  {
   "cell_type": "code",
   "execution_count": 40,
   "metadata": {},
   "outputs": [],
   "source": [
    "import binascii\n",
    "\n",
    "B58_DIGITS = '123456789ABCDEFGHJKLMNPQRSTUVWXYZabcdefghijkmnopqrstuvwxyz'\n",
    "\n",
    "def encode(b):\n",
    "    \"\"\"Encode bytes to a base58-encoded string\"\"\"\n",
    "\n",
    "    # Convert big-endian bytes to integer\n",
    "    n = int('0x0' + binascii.hexlify(b).decode('utf8'), 16)\n",
    "\n",
    "    # Divide that integer into bas58\n",
    "    res = []\n",
    "    while n > 0:\n",
    "        n, r = divmod(n, 58)\n",
    "        res.append(B58_DIGITS[r])\n",
    "    res = ''.join(res[::-1])\n",
    "\n",
    "    # Encode leading zeros as base58 zeros\n",
    "    czero = b'\\x00'\n",
    "    if sys.version > '3':\n",
    "        # In Python3 indexing a bytes returns numbers, not characters.\n",
    "        czero = 0\n",
    "    pad = 0\n",
    "    for c in b:\n",
    "        if c == czero:\n",
    "            pad += 1\n",
    "        else:\n",
    "            break\n",
    "    return B58_DIGITS[0] * pad + res"
   ]
  },
  {
   "cell_type": "code",
   "execution_count": 35,
   "metadata": {},
   "outputs": [],
   "source": [
    "alphabet = '123456789abcdefghijkmnopqrstuvwxyzABCDEFGHJKLMNPQRSTUVWXYZ'\n",
    "base_count = len(alphabet)\n",
    "\n",
    "def b58_encode(num):\n",
    "    \"\"\" Returns num in a base58-encoded string \"\"\"\n",
    "    encode = ''\n",
    "\n",
    "    if (num < 0):\n",
    "        return ''\n",
    "\n",
    "    while (num >= base_count):\n",
    "        mod = num % base_count\n",
    "        encode = alphabet[mod] + encode\n",
    "        num = num // base_count\n",
    "\n",
    "    if (num):\n",
    "        encode = alphabet[num] + encode\n",
    "\n",
    "    return encode"
   ]
  }
 ],
 "metadata": {
  "kernelspec": {
   "display_name": "Python 3",
   "language": "python",
   "name": "python3"
  },
  "language_info": {
   "codemirror_mode": {
    "name": "ipython",
    "version": 3
   },
   "file_extension": ".py",
   "mimetype": "text/x-python",
   "name": "python",
   "nbconvert_exporter": "python",
   "pygments_lexer": "ipython3",
   "version": "3.6.5"
  }
 },
 "nbformat": 4,
 "nbformat_minor": 2
}
