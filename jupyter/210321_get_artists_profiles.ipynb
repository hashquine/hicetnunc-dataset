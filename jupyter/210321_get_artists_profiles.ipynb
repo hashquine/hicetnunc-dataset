{
 "cells": [
  {
   "cell_type": "code",
   "execution_count": 1,
   "metadata": {},
   "outputs": [],
   "source": [
    "import sys\n",
    "from pathlib import Path\n",
    "\n",
    "repo_dir = Path('..').resolve()\n",
    "assert repo_dir.name == 'hicetnunc-dataset', repo_dir\n",
    "if str(repo_dir) not in sys.path:\n",
    "    sys.path.append(str(repo_dir))\n",
    "\n",
    "import src.reload; src.reload.reload()"
   ]
  },
  {
   "cell_type": "code",
   "execution_count": 3,
   "metadata": {},
   "outputs": [
    {
     "name": "stderr",
     "output_type": "stream",
     "text": [
      "100%|██████████████████████████████████████████████████████████████████████████████████████████████████████████████████████████████████████████████████| 23/23 [00:06<00:00,  3.76it/s]"
     ]
    },
    {
     "name": "stdout",
     "output_type": "stream",
     "text": [
      "\n"
     ]
    },
    {
     "name": "stderr",
     "output_type": "stream",
     "text": [
      "\n"
     ]
    },
    {
     "data": {
      "text/plain": [
       "3024"
      ]
     },
     "execution_count": 3,
     "metadata": {},
     "output_type": "execute_result"
    }
   ],
   "source": [
    "from collections import Counter\n",
    "\n",
    "all_addres_cnt = Counter()\n",
    "\n",
    "for tr in src.tr.iter.iter_tr():\n",
    "    for op in tr['ops']:\n",
    "        all_addres_cnt[op['sender']] += 1\n",
    "        if 'receiver' in op:\n",
    "            all_addres_cnt[op['receiver']] += 1\n",
    "\n",
    "len(all_addres_cnt)"
   ]
  },
  {
   "cell_type": "code",
   "execution_count": 9,
   "metadata": {},
   "outputs": [],
   "source": [
    "accounts_metadata = {}\n",
    "# accounts_metadata = src.utils.read_json(src.config.tzktio_accounts_metadata_file)"
   ]
  },
  {
   "cell_type": "code",
   "execution_count": null,
   "metadata": {},
   "outputs": [
    {
     "name": "stderr",
     "output_type": "stream",
     "text": [
      " 46%|█████████████████████████████████████████████████████████████████▌                                                                            | 1397/3024 [05:55<07:25,  3.65it/s]"
     ]
    }
   ],
   "source": [
    "from tqdm import tqdm\n",
    "import requests\n",
    "\n",
    "for addr, _ in tqdm(all_addres_cnt.most_common()):\n",
    "    if addr in accounts_metadata:\n",
    "        continue\n",
    "\n",
    "    req = requests.get(f'https://api.tzkt.io/v1/accounts/{addr}/metadata')\n",
    "    if req.status_code == 200:\n",
    "        accounts_metadata[addr] = req.json()\n",
    "    elif req.status_code == 204:\n",
    "        accounts_metadata[addr] = None\n",
    "    else:\n",
    "        print(addr, req.status_code, req.text)"
   ]
  },
  {
   "cell_type": "code",
   "execution_count": null,
   "metadata": {},
   "outputs": [],
   "source": [
    "cnt = 0\n",
    "for addr, meta in accounts_metadata.items():\n",
    "    if meta != None:\n",
    "        cnt += 1\n",
    "print(cnt / len(accounts_metadata))"
   ]
  },
  {
   "cell_type": "code",
   "execution_count": null,
   "metadata": {},
   "outputs": [],
   "source": [
    "src.utils.write_json(accounts_metadata, src.config.tzktio_accounts_metadata_file)"
   ]
  }
 ],
 "metadata": {
  "kernelspec": {
   "display_name": "Python 3",
   "language": "python",
   "name": "python3"
  },
  "language_info": {
   "codemirror_mode": {
    "name": "ipython",
    "version": 3
   },
   "file_extension": ".py",
   "mimetype": "text/x-python",
   "name": "python",
   "nbconvert_exporter": "python",
   "pygments_lexer": "ipython3",
   "version": "3.6.5"
  }
 },
 "nbformat": 4,
 "nbformat_minor": 2
}
