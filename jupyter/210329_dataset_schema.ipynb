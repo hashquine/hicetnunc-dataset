{
 "cells": [
  {
   "cell_type": "markdown",
   "metadata": {},
   "source": [
    "# hicetnunc.xyz open dataset and parsers\n",
    "\n",
    "[Hic et nunc](http://hicetnunc.xyz) is a new eco-friendly [NFT](https://en.wikipedia.org/wiki/Non-fungible_token) marketplace, built on top of [Tezos](https://en.wikipedia.org/wiki/Tezos) blockchain.\n",
    "\n",
    "It is especially popular in generative graphics and data viz community, so I've decided to share data and all scripts that I've made for https://hashquine.github.io/hicetnunc rating.\n",
    "\n",
    "It is published under [CC BY](https://creativecommons.org/licenses/by/2.0/) license, so that it is even possible to sell NFTs that use that data (or modified scripts) as long as there is the following phrase somewhere in the token description: `based on @hashquine dataset`.\n",
    "\n",
    "Since hic et nunc servers are already under an extreme load due to quick growth, I've reorganized code, so that all data is taken from Tezos blockchain and IPFS **without any calls** to the [hicetnunc.xyz](http://hicetnunc.xyz) website or API. \n",
    "\n",
    "## Data sources\n",
    "\n",
    "* Blockchain transactions by [TzStats API](https://tzstats.com/docs/api#tezos-api) ([better-call.dev](https://better-call.dev) was not used in order not to interfere with hicetnunc backend).\n",
    "* [IPFS](https://ru.wikipedia.org/wiki/IPFS) by [cloudflare-ipfs.com](https://cloudflare-ipfs.com/) and [ipfs.io](https://ipfs.io/) depending on mime type (same sources as in hicetnunc frontend).\n",
    "* Wallet address owner metadata (name, Twitter etc.) from [api.tzkt.io](https://api.tzkt.io/#operation/Accounts_GetMetadata) (same source as in hicetnunc frontend).\n",
    "\n",
    "## What data is available\n",
    "\n",
    "* Money data: list of all purchases, prices and commissions.\n",
    "* All NFTs raw files, their previews and thumbnails, although 3d files and interactive SVG/HTML files are not yet processed properly.\n",
    "* Authors metadata [verified via tzkt.io](https://github.com/hicetnunc2000/hicetnunc/blob/main/FAQ.md#how-to-get-verified) like Twitter account address.\n",
    "* Token transfers: list of changes of tokens owners including burns and direct transfers.\n",
    "* All metadata available for tokens.\n",
    "* Swaps and mints.\n",
    "\n",
    "Data not available:\n",
    "* Everything connected with [hDAO tokens](https://github.com/hicetnunc2000/hicetnunc/blob/main/FAQ.md#what-are-those-little-circles-on-each-post-hdao-what-is-that) and [hDAO feed](https://www.hicetnunc.xyz/hdao). Although all related transactions are already being collected, they are not analysed yet.\n",
    "* Twitter statistics like the number of followers.\n",
    "* Direct money transfers between users, when NFT tokens are not transferred in the same transaction.\n",
    "\n",
    "## Dataset schema\n",
    "\n",
    "The goal was to simplify data analysis and visualization with a wide range of existing tools, so there are lots of redundant fields, which contain precalculated aggregations and different representations of the same data.\n",
    "\n",
    "All files have two equivalent versions: JSON and CSV.\n",
    "* JSON files are dictionary of dictionaries with rows of CSV files are indexed by the `*_id` field.\n",
    "* CSV files have commas as delimiters.\n",
    "* Fields values are ether numbers or strings, empty values represented by `-1` or `\"\"`.\n",
    "* All identifiers are strings.\n",
    "\n",
    "Any field, which references some event in the blockchain (for example, mint time) have 4 representations:\n",
    "* `mint_iso_date` &mdash; string with UTC date and time: `\"2021-03-01T15:00:00Z\"`,\n",
    "* `mint_stamp` &mdash; integer Unix timestamp in seconds: `1614610800`,\n",
    "* `mint_hash` &mdash; string with transaction hash, where event occurred: `\"oom5Ju6X9nYpBCi...\"`,\n",
    "* `mint_row_id` &mdash; integer with global unique operation id (internal to TzStats) with that event: `42181049`\n",
    "\n",
    "Any field, which references a set of values (like the set of prices of sold works), have following aggregations:\n",
    "* `sold_count` &mdash; values count (excl. zeros),\n",
    "* `sold_zero_count` &mdash; number of zeros,\n",
    "* `sold_price_min` &mdash; minimum value (excl. zeros),\n",
    "* `sold_price_max` &mdash; maximum value,\n",
    "* `sold_price_sum` &mdash; sum of values,\n",
    "* `sold_price_avg` &mdash; average value (sum divided by count excl. zeros).\n"
   ]
  },
  {
   "cell_type": "markdown",
   "metadata": {},
   "source": [
    "## Make readme.md"
   ]
  },
  {
   "cell_type": "code",
   "execution_count": 6,
   "metadata": {},
   "outputs": [
    {
     "data": {
      "text/plain": [
       "26088"
      ]
     },
     "execution_count": 6,
     "metadata": {},
     "output_type": "execute_result"
    }
   ],
   "source": [
    "import json\n",
    "from pathlib import Path\n",
    "\n",
    "nb_json = json.loads(Path('./210329_dataset_schema.ipynb').read_text('utf-8'))\n",
    "\n",
    "assert nb_json['cells'][0]['cell_type'] == 'markdown'\n",
    "readme_intro = ''.join(nb_json['cells'][0]['source'])\n",
    "\n",
    "Path('../README.md').write_text(readme_intro + f'''\n",
    "\n",
    "### [tokens.json](./dataset/tokens.json) and [tokens.csv](./dataset/tokens.csv) &mdash; of all NFTs tokens\n",
    "\n",
    "There is a confusing fact, that in hicetnunc each NFT can have multiple identical instances, which are fungible.\n",
    "In this document term \"token\" refers to the set of all that instances.\n",
    "\n",
    "There are following invariants:\n",
    "<pre>mint_count = author_owns_count + available_count + other_own_count + burn_count\n",
    "author_sent_count <= other_own_count</pre>\n",
    "\n",
    "{db_fields_schema_to_md(tokens_db_schema)}\n",
    "\n",
    "### [addrs.json](./dataset/addrs.json) and [addrs.csv](./dataset/addrs.csv) &mdash; of all hicetnunc users\n",
    "\n",
    "All users, who ever created or owned NFT token.\n",
    "\n",
    "{db_fields_schema_to_md(address_db_schema)}\n",
    "\n",
    "### [sells.json](./dataset/sells.json) and [sells.csv](./dataset/sells.csv) &mdash; of all purchases via swaps\n",
    "\n",
    "There is the following invariant:\n",
    "<pre>price * count = total_royalties + total_comission + total_seller_income</pre>\n",
    "\n",
    "{db_fields_schema_to_md(sells_db_schema)}\n",
    "\n",
    "### [transfers.json](./dataset/transfers.json) and [transfers.csv](./dataset/transfers.csv) &mdash; all token transfers\n",
    "\n",
    "{db_fields_schema_to_md(transfers_db_schema)}\n",
    "\n",
    "### [swaps.json](./dataset/swaps.json) and [swaps.csv](./dataset/swaps.csv) &mdash; all swaps ever created\n",
    "\n",
    "{db_fields_schema_to_md(swaps_db_schema)}\n",
    "\n",
    "''', 'utf-8')"
   ]
  },
  {
   "cell_type": "code",
   "execution_count": 8,
   "metadata": {},
   "outputs": [
    {
     "data": {
      "text/plain": [
       "18458"
      ]
     },
     "execution_count": 8,
     "metadata": {},
     "output_type": "execute_result"
    }
   ],
   "source": [
    "datasets_fields = {\n",
    "    'tokens': tokens_db_schema,\n",
    "    'addrs': address_db_schema,\n",
    "    'sells': sells_db_schema,\n",
    "    'transfers': transfers_db_schema,\n",
    "    'swaps': swaps_db_schema,\n",
    "}\n",
    "\n",
    "import json\n",
    "\n",
    "dataset_dir = Path('../dataset')\n",
    "(dataset_dir / 'fields_list.json').write_text(\n",
    "    json.dumps(datasets_fields, ensure_ascii=False, indent=4),\n",
    "    'utf-8',\n",
    ")"
   ]
  }
 ],
 "metadata": {
  "kernelspec": {
   "display_name": "Python 3",
   "language": "python",
   "name": "python3"
  },
  "language_info": {
   "codemirror_mode": {
    "name": "ipython",
    "version": 3
   },
   "file_extension": ".py",
   "mimetype": "text/x-python",
   "name": "python",
   "nbconvert_exporter": "python",
   "pygments_lexer": "ipython3",
   "version": "3.6.5"
  }
 },
 "nbformat": 4,
 "nbformat_minor": 2
}
