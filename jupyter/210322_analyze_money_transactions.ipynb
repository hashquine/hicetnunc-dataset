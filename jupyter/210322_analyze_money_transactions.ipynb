{
 "cells": [
  {
   "cell_type": "code",
   "execution_count": 72,
   "metadata": {},
   "outputs": [
    {
     "ename": "JSONDecodeError",
     "evalue": "Expecting value: line 1 column 1 (char 0)",
     "output_type": "error",
     "traceback": [
      "\u001b[1;31m---------------------------------------------------------------------------\u001b[0m",
      "\u001b[1;31mJSONDecodeError\u001b[0m                           Traceback (most recent call last)",
      "\u001b[1;32m<ipython-input-72-94baa4c95fe8>\u001b[0m in \u001b[0;36m<module>\u001b[1;34m()\u001b[0m\n\u001b[0;32m      2\u001b[0m \u001b[1;33m\u001b[0m\u001b[0m\n\u001b[0;32m      3\u001b[0m \u001b[0mreq\u001b[0m \u001b[1;33m=\u001b[0m \u001b[0mrequests\u001b[0m\u001b[1;33m.\u001b[0m\u001b[0mget\u001b[0m\u001b[1;33m(\u001b[0m\u001b[1;34mf'https://api.tzkt.io/v1/accounts/tz1RnsQi6BaYpm6sMMTkVqGk5Jk6BKpmTp8C/metadata'\u001b[0m\u001b[1;33m)\u001b[0m\u001b[1;33m\u001b[0m\u001b[0m\n\u001b[1;32m----> 4\u001b[1;33m \u001b[0mreq\u001b[0m\u001b[1;33m.\u001b[0m\u001b[0mjson\u001b[0m\u001b[1;33m(\u001b[0m\u001b[1;33m)\u001b[0m\u001b[1;33m\u001b[0m\u001b[0m\n\u001b[0m",
      "\u001b[1;32mC:\\ProgramData\\Anaconda3\\lib\\site-packages\\requests\\models.py\u001b[0m in \u001b[0;36mjson\u001b[1;34m(self, **kwargs)\u001b[0m\n\u001b[0;32m    890\u001b[0m                     \u001b[1;31m# used.\u001b[0m\u001b[1;33m\u001b[0m\u001b[1;33m\u001b[0m\u001b[0m\n\u001b[0;32m    891\u001b[0m                     \u001b[1;32mpass\u001b[0m\u001b[1;33m\u001b[0m\u001b[0m\n\u001b[1;32m--> 892\u001b[1;33m         \u001b[1;32mreturn\u001b[0m \u001b[0mcomplexjson\u001b[0m\u001b[1;33m.\u001b[0m\u001b[0mloads\u001b[0m\u001b[1;33m(\u001b[0m\u001b[0mself\u001b[0m\u001b[1;33m.\u001b[0m\u001b[0mtext\u001b[0m\u001b[1;33m,\u001b[0m \u001b[1;33m**\u001b[0m\u001b[0mkwargs\u001b[0m\u001b[1;33m)\u001b[0m\u001b[1;33m\u001b[0m\u001b[0m\n\u001b[0m\u001b[0;32m    893\u001b[0m \u001b[1;33m\u001b[0m\u001b[0m\n\u001b[0;32m    894\u001b[0m     \u001b[1;33m@\u001b[0m\u001b[0mproperty\u001b[0m\u001b[1;33m\u001b[0m\u001b[0m\n",
      "\u001b[1;32mC:\\ProgramData\\Anaconda3\\lib\\json\\__init__.py\u001b[0m in \u001b[0;36mloads\u001b[1;34m(s, encoding, cls, object_hook, parse_float, parse_int, parse_constant, object_pairs_hook, **kw)\u001b[0m\n\u001b[0;32m    352\u001b[0m             \u001b[0mparse_int\u001b[0m \u001b[1;32mis\u001b[0m \u001b[1;32mNone\u001b[0m \u001b[1;32mand\u001b[0m \u001b[0mparse_float\u001b[0m \u001b[1;32mis\u001b[0m \u001b[1;32mNone\u001b[0m \u001b[1;32mand\u001b[0m\u001b[1;33m\u001b[0m\u001b[0m\n\u001b[0;32m    353\u001b[0m             parse_constant is None and object_pairs_hook is None and not kw):\n\u001b[1;32m--> 354\u001b[1;33m         \u001b[1;32mreturn\u001b[0m \u001b[0m_default_decoder\u001b[0m\u001b[1;33m.\u001b[0m\u001b[0mdecode\u001b[0m\u001b[1;33m(\u001b[0m\u001b[0ms\u001b[0m\u001b[1;33m)\u001b[0m\u001b[1;33m\u001b[0m\u001b[0m\n\u001b[0m\u001b[0;32m    355\u001b[0m     \u001b[1;32mif\u001b[0m \u001b[0mcls\u001b[0m \u001b[1;32mis\u001b[0m \u001b[1;32mNone\u001b[0m\u001b[1;33m:\u001b[0m\u001b[1;33m\u001b[0m\u001b[0m\n\u001b[0;32m    356\u001b[0m         \u001b[0mcls\u001b[0m \u001b[1;33m=\u001b[0m \u001b[0mJSONDecoder\u001b[0m\u001b[1;33m\u001b[0m\u001b[0m\n",
      "\u001b[1;32mC:\\ProgramData\\Anaconda3\\lib\\json\\decoder.py\u001b[0m in \u001b[0;36mdecode\u001b[1;34m(self, s, _w)\u001b[0m\n\u001b[0;32m    337\u001b[0m \u001b[1;33m\u001b[0m\u001b[0m\n\u001b[0;32m    338\u001b[0m         \"\"\"\n\u001b[1;32m--> 339\u001b[1;33m         \u001b[0mobj\u001b[0m\u001b[1;33m,\u001b[0m \u001b[0mend\u001b[0m \u001b[1;33m=\u001b[0m \u001b[0mself\u001b[0m\u001b[1;33m.\u001b[0m\u001b[0mraw_decode\u001b[0m\u001b[1;33m(\u001b[0m\u001b[0ms\u001b[0m\u001b[1;33m,\u001b[0m \u001b[0midx\u001b[0m\u001b[1;33m=\u001b[0m\u001b[0m_w\u001b[0m\u001b[1;33m(\u001b[0m\u001b[0ms\u001b[0m\u001b[1;33m,\u001b[0m \u001b[1;36m0\u001b[0m\u001b[1;33m)\u001b[0m\u001b[1;33m.\u001b[0m\u001b[0mend\u001b[0m\u001b[1;33m(\u001b[0m\u001b[1;33m)\u001b[0m\u001b[1;33m)\u001b[0m\u001b[1;33m\u001b[0m\u001b[0m\n\u001b[0m\u001b[0;32m    340\u001b[0m         \u001b[0mend\u001b[0m \u001b[1;33m=\u001b[0m \u001b[0m_w\u001b[0m\u001b[1;33m(\u001b[0m\u001b[0ms\u001b[0m\u001b[1;33m,\u001b[0m \u001b[0mend\u001b[0m\u001b[1;33m)\u001b[0m\u001b[1;33m.\u001b[0m\u001b[0mend\u001b[0m\u001b[1;33m(\u001b[0m\u001b[1;33m)\u001b[0m\u001b[1;33m\u001b[0m\u001b[0m\n\u001b[0;32m    341\u001b[0m         \u001b[1;32mif\u001b[0m \u001b[0mend\u001b[0m \u001b[1;33m!=\u001b[0m \u001b[0mlen\u001b[0m\u001b[1;33m(\u001b[0m\u001b[0ms\u001b[0m\u001b[1;33m)\u001b[0m\u001b[1;33m:\u001b[0m\u001b[1;33m\u001b[0m\u001b[0m\n",
      "\u001b[1;32mC:\\ProgramData\\Anaconda3\\lib\\json\\decoder.py\u001b[0m in \u001b[0;36mraw_decode\u001b[1;34m(self, s, idx)\u001b[0m\n\u001b[0;32m    355\u001b[0m             \u001b[0mobj\u001b[0m\u001b[1;33m,\u001b[0m \u001b[0mend\u001b[0m \u001b[1;33m=\u001b[0m \u001b[0mself\u001b[0m\u001b[1;33m.\u001b[0m\u001b[0mscan_once\u001b[0m\u001b[1;33m(\u001b[0m\u001b[0ms\u001b[0m\u001b[1;33m,\u001b[0m \u001b[0midx\u001b[0m\u001b[1;33m)\u001b[0m\u001b[1;33m\u001b[0m\u001b[0m\n\u001b[0;32m    356\u001b[0m         \u001b[1;32mexcept\u001b[0m \u001b[0mStopIteration\u001b[0m \u001b[1;32mas\u001b[0m \u001b[0merr\u001b[0m\u001b[1;33m:\u001b[0m\u001b[1;33m\u001b[0m\u001b[0m\n\u001b[1;32m--> 357\u001b[1;33m             \u001b[1;32mraise\u001b[0m \u001b[0mJSONDecodeError\u001b[0m\u001b[1;33m(\u001b[0m\u001b[1;34m\"Expecting value\"\u001b[0m\u001b[1;33m,\u001b[0m \u001b[0ms\u001b[0m\u001b[1;33m,\u001b[0m \u001b[0merr\u001b[0m\u001b[1;33m.\u001b[0m\u001b[0mvalue\u001b[0m\u001b[1;33m)\u001b[0m \u001b[1;32mfrom\u001b[0m \u001b[1;32mNone\u001b[0m\u001b[1;33m\u001b[0m\u001b[0m\n\u001b[0m\u001b[0;32m    358\u001b[0m         \u001b[1;32mreturn\u001b[0m \u001b[0mobj\u001b[0m\u001b[1;33m,\u001b[0m \u001b[0mend\u001b[0m\u001b[1;33m\u001b[0m\u001b[0m\n",
      "\u001b[1;31mJSONDecodeError\u001b[0m: Expecting value: line 1 column 1 (char 0)"
     ]
    }
   ],
   "source": [
    "import requests\n",
    "\n",
    "req = requests.get(f'https://api.tzkt.io/v1/accounts/tz1RnsQi6BaYpm6sMMTkVqGk5Jk6BKpmTp8C/metadata')\n",
    "req.json()"
   ]
  },
  {
   "cell_type": "code",
   "execution_count": 67,
   "metadata": {},
   "outputs": [
    {
     "data": {
      "text/plain": [
       "204"
      ]
     },
     "execution_count": 67,
     "metadata": {},
     "output_type": "execute_result"
    }
   ],
   "source": [
    "req.status_code"
   ]
  },
  {
   "cell_type": "code",
   "execution_count": 30,
   "metadata": {},
   "outputs": [],
   "source": [
    "import sys\n",
    "import time\n",
    "import datetime\n",
    "from pathlib import Path\n",
    "from tqdm import tqdm\n",
    "import requests\n",
    "from collections import Counter\n",
    "\n",
    "repo_dir = Path('..').resolve()\n",
    "assert repo_dir.name == 'hicetnunc-dataset', repo_dir\n",
    "if str(repo_dir) not in sys.path:\n",
    "    sys.path.append(str(repo_dir))\n",
    "\n",
    "import lib.utils\n",
    "import lib.iter_tr\n",
    "\n",
    "\n",
    "stamp_step = 100000\n",
    "config_hash = '4ff66f8cc8'\n",
    "transactions_dir = repo_dir / 'cache' / 'transactions' / config_hash\n",
    "assert transactions_dir.is_dir()\n",
    "\n",
    "name2addr = {\n",
    "    'art_house_contract': 'KT1Hkg5qeNhfwpKW4fXvq7HGZB9z2EnmCCA9',\n",
    "    'curate_contract': 'KT1TybhR7XraG75JFYKSrh7KnxukMBT5dor6',\n",
    "    'hdao_contract': 'KT1AFA2mwNUMNd4SsujE1YYp29vd8BZejyKW',\n",
    "    'nft_contract': 'KT1RJ6PbjHpwc3M5rw5s2Nbmefwbuwbdxton',\n",
    "    'comission_wallet': 'tz1UBZUkXpKGhYsP5KtzDNqLLchwF4uHrGjw',\n",
    "}\n",
    "addr2name = { addr: name for name, addr in name2addr.items() }"
   ]
  },
  {
   "cell_type": "code",
   "execution_count": 7,
   "metadata": {},
   "outputs": [
    {
     "name": "stderr",
     "output_type": "stream",
     "text": [
      "100%|██████████████████████████████████████████████████████████████████████████████████████████████████████████████████████████████████████████████████| 19/19 [00:04<00:00,  4.57it/s]"
     ]
    },
    {
     "name": "stdout",
     "output_type": "stream",
     "text": [
      "\n"
     ]
    },
    {
     "name": "stderr",
     "output_type": "stream",
     "text": [
      "\n"
     ]
    },
    {
     "data": {
      "text/plain": [
       "10630"
      ]
     },
     "execution_count": 7,
     "metadata": {},
     "output_type": "execute_result"
    }
   ],
   "source": [
    "money_trs = []\n",
    "\n",
    "for tr in lib.iter_tr.iter_tr(transactions_dir, stamp_step):\n",
    "    tr_addrs = set()\n",
    "    tr_volume = 0\n",
    "    for op in tr['ops']:\n",
    "        tr_volume += op['volume']\n",
    "        tr_addrs.add(op['sender'])\n",
    "        if 'receiver' in op:\n",
    "            tr_addrs.add(op['receiver'])\n",
    "    if not (tr_addrs & known_addrs) or tr_volume == 0:\n",
    "        continue\n",
    "    money_trs.append(tr)\n",
    "\n",
    "len(money_trs)"
   ]
  },
  {
   "cell_type": "code",
   "execution_count": 80,
   "metadata": {},
   "outputs": [
    {
     "data": {
      "text/plain": [
       "[((True, ('', '* > comission_wallet')), 2),\n",
       " ((False,\n",
       "   ('collect', 'comission_wallet > art_house_contract'),\n",
       "   ('', 'art_house_contract > *'),\n",
       "   ('', 'art_house_contract > comission_wallet'),\n",
       "   ('', 'art_house_contract > *'),\n",
       "   'hDAO_batch',\n",
       "   'transfer'),\n",
       "  1)]"
      ]
     },
     "execution_count": 80,
     "metadata": {},
     "output_type": "execute_result"
    }
   ],
   "source": [
    "def get_tr_money_delta(tr):\n",
    "    res = {}\n",
    "    for op in tr['ops']:\n",
    "        if op['volume'] == 0:\n",
    "            continue\n",
    "        sender, receiver = op['sender'], op['receiver']\n",
    "        res[sender] = res.get(sender, 0) - op['volume']\n",
    "        res[receiver] = res.get(receiver, 0) + op['volume']\n",
    "    return res\n",
    "\n",
    "\n",
    "def get_addr_signature(addr):\n",
    "    return addr2name.get(addr, '*')\n",
    "\n",
    "\n",
    "def get_op_signature(op):\n",
    "    if op['status'] != 'applied':\n",
    "        return op['status']\n",
    "    if op['type'] != 'transaction':\n",
    "        return op['type']\n",
    "    call = op.get('parameters', {'call': ''})['call']\n",
    "    if op['volume'] > 0:\n",
    "        return (\n",
    "            call,\n",
    "            get_addr_signature(op['sender']) + ' > ' + get_addr_signature(op['receiver']),\n",
    "        )\n",
    "    return call\n",
    "\n",
    "\n",
    "def get_tr_signature(tr):\n",
    "    ext_count = 0\n",
    "    res = tuple()\n",
    "    has_any_applied = False\n",
    "    for op in tr['ops']:\n",
    "        if op['type'] == 'reveal':\n",
    "            continue\n",
    "        if op['status'] == 'applied':\n",
    "            has_any_applied = True\n",
    "        if op['sender'] not in addr2name and op.get('receiver') not in addr2name:\n",
    "            ext_count += 1\n",
    "        else:\n",
    "            res += (get_op_signature(op),)\n",
    "    if not has_any_applied:\n",
    "        return tr['ops'][0]['status']\n",
    "    res = (ext_count > 0,) + res\n",
    "    return res\n",
    "\n",
    "\n",
    "from collections import Counter\n",
    "\n",
    "tr_signatures = Counter()\n",
    "\n",
    "for tr in money_trs:\n",
    "    tr_signature = get_tr_signature(tr)\n",
    "    if tr_signature == (False, ('', 'comission_wallet > *')):\n",
    "        # assert len(tr['ops']) == 1\n",
    "        # print(tr['hash'])\n",
    "        # print(tr['time'], tr['ops'][0]['receiver'], tr['ops'][0]['volume'])\n",
    "        pass\n",
    "    if tr_signature == (False,\n",
    "        ('collect', '* > art_house_contract'),\n",
    "        ('', 'art_house_contract > *'),\n",
    "        ('', 'art_house_contract > comission_wallet'),\n",
    "        ('', 'art_house_contract > *'),\n",
    "        'hDAO_batch',\n",
    "        'transfer'):\n",
    "            break\n",
    "    tr_signatures[tr_signature] += 1\n",
    "\n",
    "tr_signatures.most_common()"
   ]
  },
  {
   "cell_type": "code",
   "execution_count": 81,
   "metadata": {},
   "outputs": [
    {
     "name": "stdout",
     "output_type": "stream",
     "text": [
      "{'tz1Rux3pGrp2KpZUBKvg3VQ4edRYVJsapr4z': -10, 'KT1Hkg5qeNhfwpKW4fXvq7HGZB9z2EnmCCA9': 0.0, 'tz1ZdMfzmWLb8mu22jE7rZ8Y3t9iKezM68cq': 9.75, 'tz1UBZUkXpKGhYsP5KtzDNqLLchwF4uHrGjw': 0.25}\n"
     ]
    }
   ],
   "source": [
    "print(get_tr_money_delta(tr))"
   ]
  }
 ],
 "metadata": {
  "kernelspec": {
   "display_name": "Python 3",
   "language": "python",
   "name": "python3"
  },
  "language_info": {
   "codemirror_mode": {
    "name": "ipython",
    "version": 3
   },
   "file_extension": ".py",
   "mimetype": "text/x-python",
   "name": "python",
   "nbconvert_exporter": "python",
   "pygments_lexer": "ipython3",
   "version": "3.6.5"
  }
 },
 "nbformat": 4,
 "nbformat_minor": 2
}
