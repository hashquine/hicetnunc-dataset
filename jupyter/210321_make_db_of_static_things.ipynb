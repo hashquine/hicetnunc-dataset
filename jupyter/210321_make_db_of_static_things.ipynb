{
 "cells": [
  {
   "cell_type": "code",
   "execution_count": null,
   "metadata": {},
   "outputs": [],
   "source": [
    "import sys\n",
    "from pathlib import Path\n",
    "\n",
    "repo_dir = Path('..').resolve()\n",
    "assert repo_dir.name == 'hicetnunc-dataset', repo_dir\n",
    "if str(repo_dir) not in sys.path:\n",
    "    sys.path.append(str(repo_dir))\n",
    "\n",
    "import src.reload; src.reload.reload()"
   ]
  },
  {
   "cell_type": "code",
   "execution_count": 2,
   "metadata": {},
   "outputs": [],
   "source": [
    "from tqdm import tqdm\n",
    "from collections import Counter\n",
    "\n",
    "\n",
    "nft_state_log = src.utils.read_json(src.config.nft_state_log_file)\n",
    "nft_state = src.contracts.nft_state.NFTState()\n",
    "nft_state_replayer = src.contracts.state_utils.StateReplayer(nft_state_log, nft_state)\n",
    "\n",
    "ah_state_log = src.utils.read_json(src.config.ah_state_log_file)\n",
    "ah_state = src.contracts.art_house_state.ArtHouseState()\n",
    "ah_state_replayer = src.contracts.state_utils.StateReplayer(ah_state_log, ah_state)\n",
    "\n",
    "money_state_log = src.utils.read_json(src.config.money_state_log_file)\n",
    "money_state = src.contracts.money_state.MoneyState()\n",
    "money_state_replayer = src.contracts.state_utils.StateReplayer(money_state_log, money_state)\n",
    "\n",
    "tr_info_db = src.tr.info_db.TrInfoDB()\n",
    "\n",
    "nft_state_replayer.replay_to_end()\n",
    "ah_state_replayer.replay_to_end()\n",
    "money_state_replayer.replay_to_end()"
   ]
  },
  {
   "cell_type": "code",
   "execution_count": 3,
   "metadata": {},
   "outputs": [
    {
     "name": "stderr",
     "output_type": "stream",
     "text": [
      "100%|██████████████████████████████████████████████████████████████████████████████████████████████████████████████████████████████████████████| 17121/17121 [00:08<00:00, 1914.72it/s]\n"
     ]
    }
   ],
   "source": [
    "tokens_db = {}\n",
    "swaps_db = {}\n",
    "\n",
    "assert set(nft_state.tokens.keys()) == set(ah_state.tokens.keys())\n",
    "\n",
    "for token_id, nft_token_info in nft_state.tokens.items():\n",
    "    tokens_db[str(token_id)] = {\n",
    "        'token_id': token_id,\n",
    "        'creator': nft_token_info['creator'],\n",
    "        'info_ipfs': nft_token_info['info_ipfs'],\n",
    "        'mint_count': nft_token_info['mint_count'],\n",
    "        'mint_row_id': nft_token_info['mint_row_id'],\n",
    "    }\n",
    "\n",
    "for token_id, ah_token_info in tqdm(ah_state.tokens.items()):\n",
    "    db_entry = tokens_db[str(token_id)]\n",
    "    db_entry['royalties'] = ah_token_info['royalties']\n",
    "    db_entry['mint_ah_row_id'] = ah_token_info['mint_ah_row_id']\n",
    "\n",
    "    assert db_entry['creator'] == ah_token_info['creator']\n",
    "    assert db_entry['mint_count'] == ah_token_info['mint_count']\n",
    "    assert db_entry['info_ipfs'] == ah_token_info['info_ipfs']\n",
    "\n",
    "    nft_mint_tr = tr_info_db.get_full_tr_by_row_id(db_entry['mint_row_id'])\n",
    "    ah_mint_tr = tr_info_db.get_full_tr_by_row_id(ah_token_info['mint_ah_row_id'])\n",
    "    assert nft_mint_tr == ah_mint_tr\n",
    "\n",
    "for swap_id, ah_swap_info in ah_state.swaps.items():\n",
    "    assert str(ah_swap_info['token_id']) in tokens_db\n",
    "    ah_swap_op = tr_info_db.get_full_tr_by_row_id(ah_swap_info['created_row_id'], return_op=True)\n",
    "    swaps_db[str(swap_id)] = {\n",
    "        'swap_id': swap_id,\n",
    "        'created_row_id': ah_swap_info['created_row_id'],\n",
    "        'token_id': ah_swap_info['token_id'],\n",
    "        'price': ah_swap_info['price'],\n",
    "        'initial_count': ah_swap_info['initial_count'],\n",
    "    }"
   ]
  },
  {
   "cell_type": "code",
   "execution_count": 11,
   "metadata": {},
   "outputs": [
    {
     "name": "stderr",
     "output_type": "stream",
     "text": [
      "100%|██████████████████████████████████████████████████████████████████████████████████████████████████████████████████████████████████████████| 17121/17121 [00:05<00:00, 3345.31it/s]\n"
     ]
    }
   ],
   "source": [
    "token_info_fields_cnt = Counter()\n",
    "\n",
    "for token_id, token_db_entry in tqdm(tokens_db.items()):\n",
    "    info_ipfs_fpath = src.ipfs.get_ipfs_fpath(token_db_entry['info_ipfs'], 'ipfs0')\n",
    "    token_info = src.utils.read_json(info_ipfs_fpath)\n",
    "\n",
    "    for field in token_info:\n",
    "        token_info_fields_cnt[field] += 1\n",
    "    token_info_keys = set(token_info.keys())\n",
    "    assert token_info_keys.issubset({\n",
    "        'artifactUri', 'creators', 'decimals', 'description', 'displayUri', 'formats',\n",
    "        'isBooleanAmount', 'name', 'shouldPreferSymbol', 'symbol', 'tags', 'thumbnailUri',\n",
    "    })\n",
    "\n",
    "    if int(token_id) == 152:\n",
    "        assert 'isBooleanAmount' not in token_info\n",
    "    elif int(token_id) <= 352:\n",
    "        assert token_info['isBooleanAmount'] == (token_db_entry['mint_count'] == 1)\n",
    "    else:\n",
    "        assert token_info['isBooleanAmount'] is False\n",
    "\n",
    "    if int(token_id) <= 154:\n",
    "        assert 'shouldPreferSymbol' not in token_info\n",
    "    else:\n",
    "        assert token_info['shouldPreferSymbol'] is False\n",
    "\n",
    "    if 'displayUri' in token_info:\n",
    "        assert int(token_id) >= 11000\n",
    "        if token_info['displayUri']:\n",
    "            assert src.ipfs.validate_ipfs_uri(token_info['displayUri'])\n",
    "\n",
    "    assert token_info['decimals'] == 0\n",
    "    assert token_info['thumbnailUri'] == 'ipfs://QmNrhZHUaEqxhyLfqoq1mtHSipkWHeT31LNHb1QEbDHgnc'\n",
    "    assert token_info['symbol'] == 'OBJKT'\n",
    "\n",
    "    assert len(token_info['formats']) == 1\n",
    "    assert token_info['formats'][0]['uri'] == token_info['artifactUri']\n",
    "    assert src.ipfs.validate_ipfs_uri(token_info['formats'][0]['uri'])\n",
    "    assert len(token_info['creators']) == 1\n",
    "\n",
    "    for tag in token_info['tags']:\n",
    "        for ch in [' ', '\\n', '\\t']:\n",
    "            assert ch not in tag, (ch, tag)\n",
    "\n",
    "    if token_info['creators'][0] != token_db_entry['creator']:\n",
    "        assert token_id == '5571' or token_info['creators'][0] in ['', None]\n",
    "\n",
    "    token_db_entry['artifact_mime'] = token_info['formats'][0]['mimeType']\n",
    "    token_db_entry['artifact_ipfs'] = token_info['formats'][0]['uri']\n",
    "    token_db_entry['meta_creator'] = str(token_info['creators'][0])\n",
    "    token_db_entry['display_uri_ipfs'] = token_info.get('displayUri', '') or ''\n",
    "    token_db_entry['tags'] = '\\n'.join(token_info['tags'])\n",
    "    token_db_entry['name'] = token_info['name']\n",
    "    token_db_entry['description'] = token_info['description']"
   ]
  },
  {
   "cell_type": "code",
   "execution_count": 15,
   "metadata": {
    "scrolled": true
   },
   "outputs": [
    {
     "name": "stderr",
     "output_type": "stream",
     "text": [
      "100%|██████████████████████████████████████████████████████████████████████████████████████████████████████████████████████████████████████████| 17121/17121 [00:02<00:00, 8237.42it/s]\n"
     ]
    },
    {
     "data": {
      "text/plain": [
       "0"
      ]
     },
     "execution_count": 15,
     "metadata": {},
     "output_type": "execute_result"
    }
   ],
   "source": [
    "not_in_cache_count = 0\n",
    "for token_id, token_db_entry in tqdm(tokens_db.items()):\n",
    "    try:\n",
    "        artifact_fpath = src.ipfs.get_ipfs_fpath(token_db_entry['artifact_ipfs'], 'ipfs1')\n",
    "        token_db_entry['artifact_file_size'] = artifact_fpath.stat().st_size\n",
    "    except IpfsNotCachedException:\n",
    "        not_in_cache_count += 1\n",
    "\n",
    "    if token_db_entry['display_uri_ipfs'] != '':\n",
    "        try:\n",
    "            display_uri_fpath = src.ipfs.get_ipfs_fpath(token_db_entry['display_uri_ipfs'], 'ipfs1')\n",
    "            token_db_entry['display_uri_file_size'] = display_uri_fpath.stat().st_size\n",
    "        except IpfsNotCachedException:\n",
    "            not_in_cache_count += 1\n",
    "    else:\n",
    "        token_db_entry['display_uri_file_size'] = -1\n",
    "\n",
    "not_in_cache_count"
   ]
  },
  {
   "cell_type": "code",
   "execution_count": 16,
   "metadata": {},
   "outputs": [
    {
     "name": "stdout",
     "output_type": "stream",
     "text": [
      "written 10758975 bytes 17121 entries\n",
      "written 1858819 bytes 18315 entries\n"
     ]
    }
   ],
   "source": [
    "src.utils.write_json(tokens_db, src.config.tokens_db_json_file)\n",
    "src.utils.write_json(swaps_db, src.config.swaps_db_json_file)"
   ]
  }
 ],
 "metadata": {
  "kernelspec": {
   "display_name": "Python 3",
   "language": "python",
   "name": "python3"
  },
  "language_info": {
   "codemirror_mode": {
    "name": "ipython",
    "version": 3
   },
   "file_extension": ".py",
   "mimetype": "text/x-python",
   "name": "python",
   "nbconvert_exporter": "python",
   "pygments_lexer": "ipython3",
   "version": "3.6.5"
  }
 },
 "nbformat": 4,
 "nbformat_minor": 2
}
